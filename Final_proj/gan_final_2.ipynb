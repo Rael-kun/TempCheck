{
 "cells": [
  {
   "cell_type": "code",
   "execution_count": 149,
   "metadata": {},
   "outputs": [
    {
     "name": "stdout",
     "output_type": "stream",
     "text": [
      "Looking in indexes: https://download.pytorch.org/whl/cu118\n",
      "Requirement already satisfied: torch in /home/dsu/Desktop/Projects/.venv/lib/python3.10/site-packages (2.5.1+cu118)\n",
      "Requirement already satisfied: torchvision in /home/dsu/Desktop/Projects/.venv/lib/python3.10/site-packages (0.20.1+cu118)\n",
      "Requirement already satisfied: torchaudio in /home/dsu/Desktop/Projects/.venv/lib/python3.10/site-packages (2.5.1+cu118)\n",
      "Requirement already satisfied: filelock in /home/dsu/Desktop/Projects/.venv/lib/python3.10/site-packages (from torch) (3.13.1)\n",
      "Requirement already satisfied: typing-extensions>=4.8.0 in /home/dsu/Desktop/Projects/.venv/lib/python3.10/site-packages (from torch) (4.12.2)\n",
      "Requirement already satisfied: networkx in /home/dsu/Desktop/Projects/.venv/lib/python3.10/site-packages (from torch) (3.4.2)\n",
      "Requirement already satisfied: jinja2 in /home/dsu/Desktop/Projects/.venv/lib/python3.10/site-packages (from torch) (3.1.4)\n",
      "Requirement already satisfied: fsspec in /home/dsu/Desktop/Projects/.venv/lib/python3.10/site-packages (from torch) (2024.2.0)\n",
      "Requirement already satisfied: nvidia-cuda-nvrtc-cu11==11.8.89 in /home/dsu/Desktop/Projects/.venv/lib/python3.10/site-packages (from torch) (11.8.89)\n",
      "Requirement already satisfied: nvidia-cuda-runtime-cu11==11.8.89 in /home/dsu/Desktop/Projects/.venv/lib/python3.10/site-packages (from torch) (11.8.89)\n",
      "Requirement already satisfied: nvidia-cuda-cupti-cu11==11.8.87 in /home/dsu/Desktop/Projects/.venv/lib/python3.10/site-packages (from torch) (11.8.87)\n",
      "Requirement already satisfied: nvidia-cudnn-cu11==9.1.0.70 in /home/dsu/Desktop/Projects/.venv/lib/python3.10/site-packages (from torch) (9.1.0.70)\n",
      "Requirement already satisfied: nvidia-cublas-cu11==11.11.3.6 in /home/dsu/Desktop/Projects/.venv/lib/python3.10/site-packages (from torch) (11.11.3.6)\n",
      "Requirement already satisfied: nvidia-cufft-cu11==10.9.0.58 in /home/dsu/Desktop/Projects/.venv/lib/python3.10/site-packages (from torch) (10.9.0.58)\n",
      "Requirement already satisfied: nvidia-curand-cu11==10.3.0.86 in /home/dsu/Desktop/Projects/.venv/lib/python3.10/site-packages (from torch) (10.3.0.86)\n",
      "Requirement already satisfied: nvidia-cusolver-cu11==11.4.1.48 in /home/dsu/Desktop/Projects/.venv/lib/python3.10/site-packages (from torch) (11.4.1.48)\n",
      "Requirement already satisfied: nvidia-cusparse-cu11==11.7.5.86 in /home/dsu/Desktop/Projects/.venv/lib/python3.10/site-packages (from torch) (11.7.5.86)\n",
      "Requirement already satisfied: nvidia-nccl-cu11==2.21.5 in /home/dsu/Desktop/Projects/.venv/lib/python3.10/site-packages (from torch) (2.21.5)\n",
      "Requirement already satisfied: nvidia-nvtx-cu11==11.8.86 in /home/dsu/Desktop/Projects/.venv/lib/python3.10/site-packages (from torch) (11.8.86)\n",
      "Requirement already satisfied: triton==3.1.0 in /home/dsu/Desktop/Projects/.venv/lib/python3.10/site-packages (from torch) (3.1.0)\n",
      "Requirement already satisfied: sympy==1.13.1 in /home/dsu/Desktop/Projects/.venv/lib/python3.10/site-packages (from torch) (1.13.1)\n",
      "Requirement already satisfied: mpmath<1.4,>=1.1.0 in /home/dsu/Desktop/Projects/.venv/lib/python3.10/site-packages (from sympy==1.13.1->torch) (1.3.0)\n",
      "Requirement already satisfied: numpy in /home/dsu/Desktop/Projects/.venv/lib/python3.10/site-packages (from torchvision) (1.26.4)\n",
      "Requirement already satisfied: pillow!=8.3.*,>=5.3.0 in /home/dsu/Desktop/Projects/.venv/lib/python3.10/site-packages (from torchvision) (11.0.0)\n",
      "Requirement already satisfied: MarkupSafe>=2.0 in /home/dsu/Desktop/Projects/.venv/lib/python3.10/site-packages (from jinja2->torch) (3.0.2)\n"
     ]
    }
   ],
   "source": [
    "!pip3 install torch torchvision torchaudio --index-url https://download.pytorch.org/whl/cu118"
   ]
  },
  {
   "cell_type": "markdown",
   "metadata": {},
   "source": [
    "# Libraries"
   ]
  },
  {
   "cell_type": "code",
   "execution_count": 150,
   "metadata": {},
   "outputs": [],
   "source": [
    "# torch stuff\n",
    "import torch\n",
    "import torch.optim as optim\n",
    "import torchvision.datasets as datasets\n",
    "import torchvision.transforms as transforms\n",
    "from torch.utils.data import DataLoader\n",
    "import torch.nn as nn\n",
    "import torch.nn.functional as F\n",
    "\n",
    "# needed for model\n",
    "from math import log2\n",
    "from tqdm import tqdm\n",
    "import random\n",
    "import numpy as np\n",
    "import cv2\n",
    "import matplotlib.pyplot as plt\n",
    "import os\n",
    "import torchvision\n",
    "from torchvision.utils import save_image"
   ]
  },
  {
   "cell_type": "markdown",
   "metadata": {},
   "source": [
    "# GAN Variables"
   ]
  },
  {
   "cell_type": "code",
   "execution_count": 151,
   "metadata": {},
   "outputs": [],
   "source": [
    "datapath= \"/home/dsu/Desktop/Projects/FinalProject/cat_imgs\"\n",
    "\n",
    "gen_save_path = \"gen_gan.pth\"\n",
    "dis_save_path = \"dis_gan.pth\"\n",
    "\n",
    "if(torch.cuda.is_available()):\n",
    "    device = \"cuda\"\n",
    "else:\n",
    "    print(\"Warning! Using CPU!\")\n",
    "    device = \"cpu\"\n",
    "\n",
    "# If load_model is False, model will train. \n",
    "# If load_model is true, no training will happen, only display generated images\n",
    "save_model = True\n",
    "load_model = False\n",
    "\n",
    "lr = 1e-3\n",
    "batch_size = 64\n",
    "\n",
    "noise_dim = 100\n",
    "img_size = 64\n",
    "channels = 3\n",
    "\n",
    "relu_slope = 0.2\n",
    "dropout = 0.3\n",
    "momentum = 0.1 # 0.9?\n",
    "\n",
    "grad_pen = True\n",
    "\n",
    "total_epochs = 250"
   ]
  },
  {
   "cell_type": "markdown",
   "metadata": {},
   "source": [
    "# Generator"
   ]
  },
  {
   "cell_type": "code",
   "execution_count": 152,
   "metadata": {},
   "outputs": [],
   "source": [
    "class Generator(nn.Module):\n",
    "    def __init__(self, noise_dim, in_channels, img_channels=3):\n",
    "        super(Generator, self).__init__()\n",
    "        \n",
    "        self.conv2d_1 = nn.ConvTranspose2d(noise_dim, 512, kernel_size=4, stride=1, padding=0, bias = False)\n",
    "        self.batch_norm1 = nn.BatchNorm2d(512, momentum=momentum)\n",
    "        self.relu1 = nn.LeakyReLU(relu_slope) \n",
    "\n",
    "        self.conv2d_2 = nn.ConvTranspose2d(512, 256, kernel_size=4, stride=2, padding=1, bias = False)\n",
    "        self.batch_norm2 = nn.BatchNorm2d(256, momentum=momentum)\n",
    "        self.relu2 = nn.LeakyReLU(relu_slope) \n",
    "\n",
    "        self.conv2d_3 = nn.ConvTranspose2d(256, 128, kernel_size=4, stride=2, padding=1, bias = False)\n",
    "        self.batch_norm3 = nn.BatchNorm2d(128, momentum=momentum)\n",
    "        self.relu3 = nn.LeakyReLU(relu_slope) \n",
    "\n",
    "        self.conv2d_4 = nn.ConvTranspose2d(128, 64, kernel_size=4, stride=2, padding=1, bias = False)\n",
    "        self.batch_norm4 = nn.BatchNorm2d(64, momentum=momentum)\n",
    "        self.relu4 = nn.LeakyReLU(relu_slope) \n",
    "\n",
    "        # 5th block? (if so, use 1024 to start)\n",
    "        #self.conv2d_5 = nn.ConvTranspose2d(128, 64, kernel_size=4, stride=2, padding=1, bias = False)\n",
    "        #self.batch_norm5 = nn.BatchNorm2d(64, momentum=momentum)\n",
    "        #self.relu5 = nn.LeakyReLU(relu_slope) \n",
    "\n",
    "        self.conv2d_final = nn.ConvTranspose2d(64, img_channels, kernel_size=4, stride=2, padding=1, bias=False)\n",
    "        self.tanh = nn.Tanh()\n",
    "        # tanh?        \n",
    "\n",
    "\n",
    "\n",
    "\n",
    "    def forward(self, x):\n",
    "        x = self.conv2d_1(x)\n",
    "        x = self.batch_norm1(x)\n",
    "        x = self.relu1(x)\n",
    "\n",
    "        x = self.conv2d_2(x)\n",
    "        x = self.batch_norm2(x)\n",
    "        x = self.relu2(x)\n",
    "\n",
    "        x = self.conv2d_3(x)\n",
    "        x = self.batch_norm3(x)\n",
    "        x = self.relu3(x)\n",
    "\n",
    "        x = self.conv2d_4(x)\n",
    "        x = self.batch_norm4(x)\n",
    "        x = self.relu4(x)\n",
    "\n",
    "        #x = self.conv2d_5(x)\n",
    "        #x = self.batch_norm5(x)\n",
    "        #x = self.relu5(x)\n",
    "\n",
    "        x = self.conv2d_final(x)\n",
    "        x = self.tanh(x)\n",
    "\n",
    "        return x"
   ]
  },
  {
   "cell_type": "markdown",
   "metadata": {},
   "source": [
    "# Discriminator"
   ]
  },
  {
   "cell_type": "code",
   "execution_count": 153,
   "metadata": {},
   "outputs": [],
   "source": [
    "class Discriminator(nn.Module):\n",
    "    def __init__(self, in_channels, img_channels=3):\n",
    "        super(Discriminator, self).__init__()\n",
    "\n",
    "\n",
    "        self.conv2d_1 = nn.Conv2d(img_channels, 64, kernel_size=4, stride=2, padding=1, bias=False)\n",
    "        # no batch norm because first layer\n",
    "        self.relu1 = nn.LeakyReLU(relu_slope)\n",
    "        self.dropout1 = nn.Dropout(dropout)\n",
    "\n",
    "        self.conv2d_2 = nn.Conv2d(64, 128, kernel_size=4, stride=2, padding=1, bias=False)\n",
    "        self.batch_norm2 = nn.BatchNorm2d(128, momentum=momentum)\n",
    "        self.relu2 = nn.LeakyReLU(relu_slope) \n",
    "        self.dropout2 = nn.Dropout(dropout)\n",
    "\n",
    "        self.conv2d_3 = nn.Conv2d(128, 256, kernel_size=4, stride=2, padding=1, bias=False)\n",
    "        self.batch_norm3 = nn.BatchNorm2d(256, momentum=momentum)\n",
    "        self.relu3 = nn.LeakyReLU(relu_slope) \n",
    "        self.dropout3 = nn.Dropout(dropout)\n",
    "\n",
    "        self.conv2d_4 = nn.Conv2d(256, 512, kernel_size=4, stride=2, padding=1, bias=False)\n",
    "        self.batch_norm4 = nn.BatchNorm2d(512, momentum=momentum)     \n",
    "        self.relu4 = nn.LeakyReLU(relu_slope) \n",
    "        self.dropout4 = nn.Dropout(dropout)\n",
    "\n",
    "        # 5th block?\n",
    "        #self.conv2d_5 = nn.Conv2D(512, 1024, kernel_size=4, stride=2, padding=1, bias=False)\n",
    "        #self.batch_norm5 = nn.BatchNorm2d(1024, momentum=momentum)      \n",
    "        #self.relu5 = nn.LeakyReLU(relu_slope) \n",
    "        #self.dropout5 = nn.Dropout(dropout)\n",
    "\n",
    "        self.conv2d_final = nn.Conv2d(512, 1, kernel_size=1, stride=1, padding=0, bias = False)\n",
    "        # activation sigmoid\n",
    "        #self.flatten = layers.Flatten()\n",
    "\n",
    "\n",
    "    def forward(self, x):\n",
    "        x = self.conv2d_1(x)\n",
    "        x = self.relu1(x)\n",
    "        x = self.dropout1(x)\n",
    "\n",
    "        x = self.conv2d_2(x)\n",
    "        x = self.batch_norm2(x)\n",
    "        x = self.relu2(x)\n",
    "        x = self.dropout2(x)\n",
    "\n",
    "        x = self.conv2d_3(x)\n",
    "        x = self.batch_norm3(x)\n",
    "        x = self.relu3(x)\n",
    "        x = self.dropout3(x)\n",
    "\n",
    "        x = self.conv2d_4(x)\n",
    "        x = self.batch_norm4(x)\n",
    "        x = self.relu4(x)\n",
    "        x = self.dropout4(x)\n",
    "\n",
    "        #x = self.conv2d_5(x)\n",
    "        #x = self.batch_norm5(x)\n",
    "        #x = self.relu5(x)\n",
    "        #x = self.dropout5(x)\n",
    "        \n",
    "        return self.conv2d_final(x).view(x.shape[0], -1)"
   ]
  },
  {
   "cell_type": "markdown",
   "metadata": {},
   "source": [
    "# Utility Functions"
   ]
  },
  {
   "cell_type": "code",
   "execution_count": 154,
   "metadata": {},
   "outputs": [],
   "source": [
    "# Gradient penalty is used so that the discriminator loss won't deviate that much.\n",
    "# This enforces consistent training, so that the discriminator won't learn to much or\n",
    "# too little.\n",
    "\n",
    "def gradient_penalty(discriminator, real, fake, device=\"cpu\"):\n",
    "    cur_batch_size, chan, height, width = real.shape\n",
    "    beta = torch.rand((cur_batch_size, 1, 1, 1)).repeat(1, chan, height, width).to(device)\n",
    "    \n",
    "    # missized tensors\n",
    "    if(cur_batch_size != batch_size):\n",
    "        fake = fake[:cur_batch_size]\n",
    "\n",
    "    interpolated_images = real * beta + fake.detach() * (1 - beta)\n",
    "    interpolated_images.requires_grad_(True)\n",
    "\n",
    "    # Calculate discriminator scores\n",
    "    mixed_scores = discriminator(interpolated_images)\n",
    "\n",
    "    # Get gradient for the scores (graph needed here because of gradient penalty)\n",
    "    gradient = torch.autograd.grad(\n",
    "        inputs=interpolated_images,\n",
    "        outputs=mixed_scores,\n",
    "        grad_outputs=torch.ones_like(mixed_scores),\n",
    "        create_graph=True,\n",
    "        retain_graph=True,\n",
    "    )[0]\n",
    "    gradient = gradient.view(gradient.shape[0], -1)\n",
    "    gradient_norm = gradient.norm(2, dim=1)\n",
    "    gradient_penalty = torch.mean((gradient_norm - 1) ** 2)\n",
    "    return gradient_penalty\n",
    "\n",
    "\n",
    "def save_checkpoint(model, optimizer, filename=\"checkpoint.pth.tar\"):\n",
    "    print(\"Saving Checkpoint\")\n",
    "    checkpoint = {\n",
    "        \"state_dict\": model.state_dict(),\n",
    "        \"optimizer\": optimizer.state_dict()\n",
    "    }\n",
    "    torch.save(checkpoint, filename)\n",
    "\n",
    "def load_checkpoint(checkpoint_file, model, optimizer, lr):\n",
    "    print(\"Loading Checkpoint\")\n",
    "    checkpoint = torch.load(checkpoint_file, map_location=\"cuda\")\n",
    "    model.load_state_dict(checkpoint[\"state_dict\"])\n",
    "    optimizer.load_state_dict(checkpoint[\"optimizer\"])\n",
    "\n",
    "    # learning rate saved just in case training afterwards\n",
    "    for param_group in optimizer.param_groups:\n",
    "        param_group[\"lr\"] = lr\n",
    "\n",
    "\n",
    "def generate_examples(gen, n=100):\n",
    "    gen.eval()\n",
    "    for i in range(n):\n",
    "        with torch.no_grad():\n",
    "            noise = torch.randn(1, noise_dim, 1, 1).to(device)\n",
    "            img = gen(noise)\n",
    "            save_image(img * 0.5 + 0.5, f'basicgan_examples/img_{i}.png')\n",
    "\n",
    "    gen.train()\n"
   ]
  },
  {
   "cell_type": "markdown",
   "metadata": {},
   "source": [
    "# Training can happen now"
   ]
  },
  {
   "cell_type": "code",
   "execution_count": 155,
   "metadata": {},
   "outputs": [],
   "source": [
    "# Will hopefully speedup since I'm using images of the same resolution for training\n",
    "torch.backends.cudnn.benchmarks = True\n",
    "\n",
    "# Custom batch loader since I am using variable batch sizes at each step\n",
    "def get_loader(image_size):\n",
    "    # image-readable format\n",
    "    transform = transforms.Compose(\n",
    "        [\n",
    "            transforms.Resize((image_size, image_size)),\n",
    "            transforms.ToTensor(),\n",
    "            transforms.RandomHorizontalFlip(p=0.5),\n",
    "            transforms.Normalize(\n",
    "                [0.5 for _ in range(channels)],\n",
    "                [0.5 for _ in range(channels)]\n",
    "            )\n",
    "        ]\n",
    "    )\n",
    "    dataset = datasets.ImageFolder(root=datapath, transform=transform)\n",
    "    loader = DataLoader(\n",
    "        dataset,\n",
    "        batch_size=batch_size,\n",
    "        shuffle=True,\n",
    "        num_workers=4,\n",
    "        pin_memory=True\n",
    "    )\n",
    "\n",
    "    return loader, dataset\n",
    "\n",
    "\n",
    "# Training loop\n",
    "def train_loop(dis, gen, loader, dataset, opt_dis, opt_gen, scaler_gen, scaler_dis, do_grad_pen=True):\n",
    "    loop = tqdm(loader, leave=True)\n",
    "    for batch_index, (real, _) in enumerate(loop):\n",
    "        real = real.to(device)\n",
    "\n",
    "        # Train Discriminator\n",
    "        noise = torch.randn(batch_size, noise_dim, 1, 1).to(device)\n",
    "\n",
    "        with torch.amp.autocast(\"cuda\"):\n",
    "            fake = gen(noise)\n",
    "            dis_real = dis(real)\n",
    "            dis_fake = dis(fake.detach())\n",
    "            gp = gradient_penalty(dis, real, fake, device)\n",
    "            if(do_grad_pen == False):\n",
    "                gp = 0\n",
    "            # minimize mistakes\n",
    "            loss_dis = (\n",
    "                -(torch.mean(dis_real) - torch.mean(dis_fake))\n",
    "                + 10 * gp\n",
    "                + (0.001 * torch.mean(dis_real ** 2))\n",
    "            )\n",
    "\n",
    "        opt_dis.zero_grad()\n",
    "        scaler_dis.scale(loss_dis).backward()\n",
    "        scaler_dis.step(opt_dis)\n",
    "        scaler_dis.update()\n",
    "\n",
    "        # Train Generator:\n",
    "        with torch.amp.autocast(\"cuda\"):\n",
    "            gen_fake = dis(fake)\n",
    "            loss_gen = -torch.mean(gen_fake)\n",
    "\n",
    "        opt_gen.zero_grad()\n",
    "        scaler_gen.scale(loss_gen).backward()\n",
    "        scaler_gen.step(opt_gen)\n",
    "        scaler_gen.update()\n",
    "\n",
    "        # show losses in tqdm\n",
    "        if(do_grad_pen==True):\n",
    "            loop.set_postfix(\n",
    "                gp=gp.item(),\n",
    "                loss_dis=loss_dis.item()\n",
    "            )\n",
    "        else:\n",
    "            loop.set_postfix(\n",
    "                loss_dis=loss_dis.item()\n",
    "            )"
   ]
  },
  {
   "cell_type": "code",
   "execution_count": 156,
   "metadata": {},
   "outputs": [
    {
     "name": "stdout",
     "output_type": "stream",
     "text": [
      "Epoch [1/250]\n"
     ]
    },
    {
     "name": "stderr",
     "output_type": "stream",
     "text": [
      "100%|██████████| 467/467 [00:24<00:00, 19.21it/s, gp=0.0517, loss_dis=0.563]  \n"
     ]
    },
    {
     "name": "stdout",
     "output_type": "stream",
     "text": [
      "Saving Checkpoint\n",
      "Saving Checkpoint\n",
      "Epoch [2/250]\n"
     ]
    },
    {
     "name": "stderr",
     "output_type": "stream",
     "text": [
      "100%|██████████| 467/467 [00:23<00:00, 20.01it/s, gp=0.00969, loss_dis=0.145] \n"
     ]
    },
    {
     "name": "stdout",
     "output_type": "stream",
     "text": [
      "Saving Checkpoint\n",
      "Saving Checkpoint\n",
      "Epoch [3/250]\n"
     ]
    },
    {
     "name": "stderr",
     "output_type": "stream",
     "text": [
      "100%|██████████| 467/467 [00:23<00:00, 19.79it/s, gp=0.00724, loss_dis=-0.0241]  \n"
     ]
    },
    {
     "name": "stdout",
     "output_type": "stream",
     "text": [
      "Saving Checkpoint\n",
      "Saving Checkpoint\n",
      "Epoch [4/250]\n"
     ]
    },
    {
     "name": "stderr",
     "output_type": "stream",
     "text": [
      "100%|██████████| 467/467 [00:23<00:00, 20.00it/s, gp=0.00183, loss_dis=-0.0175]  \n"
     ]
    },
    {
     "name": "stdout",
     "output_type": "stream",
     "text": [
      "Saving Checkpoint\n",
      "Saving Checkpoint\n",
      "Epoch [5/250]\n"
     ]
    },
    {
     "name": "stderr",
     "output_type": "stream",
     "text": [
      "100%|██████████| 467/467 [00:22<00:00, 20.31it/s, gp=0.00443, loss_dis=0.00534]  \n"
     ]
    },
    {
     "name": "stdout",
     "output_type": "stream",
     "text": [
      "Saving Checkpoint\n",
      "Saving Checkpoint\n",
      "Epoch [6/250]\n"
     ]
    },
    {
     "name": "stderr",
     "output_type": "stream",
     "text": [
      "100%|██████████| 467/467 [00:23<00:00, 20.08it/s, gp=0.003, loss_dis=-0.0211]    \n"
     ]
    },
    {
     "name": "stdout",
     "output_type": "stream",
     "text": [
      "Saving Checkpoint\n",
      "Saving Checkpoint\n",
      "Epoch [7/250]\n"
     ]
    },
    {
     "name": "stderr",
     "output_type": "stream",
     "text": [
      "100%|██████████| 467/467 [00:23<00:00, 20.26it/s, gp=0.00624, loss_dis=-0.00163] \n"
     ]
    },
    {
     "name": "stdout",
     "output_type": "stream",
     "text": [
      "Saving Checkpoint\n",
      "Saving Checkpoint\n",
      "Epoch [8/250]\n"
     ]
    },
    {
     "name": "stderr",
     "output_type": "stream",
     "text": [
      "100%|██████████| 467/467 [00:22<00:00, 20.47it/s, gp=0.00272, loss_dis=-0.00975] \n"
     ]
    },
    {
     "name": "stdout",
     "output_type": "stream",
     "text": [
      "Saving Checkpoint\n",
      "Saving Checkpoint\n",
      "Epoch [9/250]\n"
     ]
    },
    {
     "name": "stderr",
     "output_type": "stream",
     "text": [
      "100%|██████████| 467/467 [00:23<00:00, 20.08it/s, gp=0.00211, loss_dis=0.103]    \n"
     ]
    },
    {
     "name": "stdout",
     "output_type": "stream",
     "text": [
      "Saving Checkpoint\n",
      "Saving Checkpoint\n",
      "Epoch [10/250]\n"
     ]
    },
    {
     "name": "stderr",
     "output_type": "stream",
     "text": [
      "100%|██████████| 467/467 [00:22<00:00, 20.41it/s, gp=0.00325, loss_dis=0.000894] \n"
     ]
    },
    {
     "name": "stdout",
     "output_type": "stream",
     "text": [
      "Saving Checkpoint\n",
      "Saving Checkpoint\n",
      "Epoch [11/250]\n"
     ]
    },
    {
     "name": "stderr",
     "output_type": "stream",
     "text": [
      "100%|██████████| 467/467 [00:23<00:00, 20.15it/s, gp=0.00215, loss_dis=0.0147]   \n"
     ]
    },
    {
     "name": "stdout",
     "output_type": "stream",
     "text": [
      "Saving Checkpoint\n",
      "Saving Checkpoint\n",
      "Epoch [12/250]\n"
     ]
    },
    {
     "name": "stderr",
     "output_type": "stream",
     "text": [
      "100%|██████████| 467/467 [00:23<00:00, 20.02it/s, gp=0.00189, loss_dis=-0.0836]  \n"
     ]
    },
    {
     "name": "stdout",
     "output_type": "stream",
     "text": [
      "Saving Checkpoint\n",
      "Saving Checkpoint\n",
      "Epoch [13/250]\n"
     ]
    },
    {
     "name": "stderr",
     "output_type": "stream",
     "text": [
      "100%|██████████| 467/467 [00:23<00:00, 20.00it/s, gp=0.0086, loss_dis=0.0288]    \n"
     ]
    },
    {
     "name": "stdout",
     "output_type": "stream",
     "text": [
      "Saving Checkpoint\n",
      "Saving Checkpoint\n",
      "Epoch [14/250]\n"
     ]
    },
    {
     "name": "stderr",
     "output_type": "stream",
     "text": [
      "100%|██████████| 467/467 [00:23<00:00, 20.27it/s, gp=0.0162, loss_dis=0.194]    \n"
     ]
    },
    {
     "name": "stdout",
     "output_type": "stream",
     "text": [
      "Saving Checkpoint\n",
      "Saving Checkpoint\n",
      "Epoch [15/250]\n"
     ]
    },
    {
     "name": "stderr",
     "output_type": "stream",
     "text": [
      "100%|██████████| 467/467 [00:22<00:00, 20.40it/s, gp=0.00866, loss_dis=0.0856]   \n"
     ]
    },
    {
     "name": "stdout",
     "output_type": "stream",
     "text": [
      "Saving Checkpoint\n",
      "Saving Checkpoint\n",
      "Epoch [16/250]\n"
     ]
    },
    {
     "name": "stderr",
     "output_type": "stream",
     "text": [
      "100%|██████████| 467/467 [00:22<00:00, 20.54it/s, gp=0.00571, loss_dis=-0.0249]  \n"
     ]
    },
    {
     "name": "stdout",
     "output_type": "stream",
     "text": [
      "Saving Checkpoint\n",
      "Saving Checkpoint\n",
      "Epoch [17/250]\n"
     ]
    },
    {
     "name": "stderr",
     "output_type": "stream",
     "text": [
      "100%|██████████| 467/467 [00:22<00:00, 20.98it/s, gp=0.00359, loss_dis=0.0223]   \n"
     ]
    },
    {
     "name": "stdout",
     "output_type": "stream",
     "text": [
      "Saving Checkpoint\n",
      "Saving Checkpoint\n",
      "Epoch [18/250]\n"
     ]
    },
    {
     "name": "stderr",
     "output_type": "stream",
     "text": [
      "100%|██████████| 467/467 [00:22<00:00, 20.64it/s, gp=0.00445, loss_dis=0.0299]   \n"
     ]
    },
    {
     "name": "stdout",
     "output_type": "stream",
     "text": [
      "Saving Checkpoint\n",
      "Saving Checkpoint\n",
      "Epoch [19/250]\n"
     ]
    },
    {
     "name": "stderr",
     "output_type": "stream",
     "text": [
      "100%|██████████| 467/467 [00:24<00:00, 19.38it/s, gp=0.00262, loss_dis=0.00385]  \n"
     ]
    },
    {
     "name": "stdout",
     "output_type": "stream",
     "text": [
      "Saving Checkpoint\n",
      "Saving Checkpoint\n",
      "Epoch [20/250]\n"
     ]
    },
    {
     "name": "stderr",
     "output_type": "stream",
     "text": [
      "100%|██████████| 467/467 [00:23<00:00, 19.80it/s, gp=0.0166, loss_dis=0.113]     \n"
     ]
    },
    {
     "name": "stdout",
     "output_type": "stream",
     "text": [
      "Saving Checkpoint\n",
      "Saving Checkpoint\n",
      "Epoch [21/250]\n"
     ]
    },
    {
     "name": "stderr",
     "output_type": "stream",
     "text": [
      "100%|██████████| 467/467 [00:23<00:00, 19.96it/s, gp=0.00476, loss_dis=-0.0249]  \n"
     ]
    },
    {
     "name": "stdout",
     "output_type": "stream",
     "text": [
      "Saving Checkpoint\n",
      "Saving Checkpoint\n",
      "Epoch [22/250]\n"
     ]
    },
    {
     "name": "stderr",
     "output_type": "stream",
     "text": [
      "100%|██████████| 467/467 [00:22<00:00, 20.44it/s, gp=0.00319, loss_dis=0.0126]   \n"
     ]
    },
    {
     "name": "stdout",
     "output_type": "stream",
     "text": [
      "Saving Checkpoint\n",
      "Saving Checkpoint\n",
      "Epoch [23/250]\n"
     ]
    },
    {
     "name": "stderr",
     "output_type": "stream",
     "text": [
      "100%|██████████| 467/467 [00:23<00:00, 19.99it/s, gp=0.00398, loss_dis=0.000618] \n"
     ]
    },
    {
     "name": "stdout",
     "output_type": "stream",
     "text": [
      "Saving Checkpoint\n",
      "Saving Checkpoint\n",
      "Epoch [24/250]\n"
     ]
    },
    {
     "name": "stderr",
     "output_type": "stream",
     "text": [
      "100%|██████████| 467/467 [00:22<00:00, 20.45it/s, gp=0.00607, loss_dis=0.0798]   \n"
     ]
    },
    {
     "name": "stdout",
     "output_type": "stream",
     "text": [
      "Saving Checkpoint\n",
      "Saving Checkpoint\n",
      "Epoch [25/250]\n"
     ]
    },
    {
     "name": "stderr",
     "output_type": "stream",
     "text": [
      "100%|██████████| 467/467 [00:22<00:00, 20.37it/s, gp=0.00215, loss_dis=0.0457]  \n"
     ]
    },
    {
     "name": "stdout",
     "output_type": "stream",
     "text": [
      "Saving Checkpoint\n",
      "Saving Checkpoint\n",
      "Epoch [26/250]\n"
     ]
    },
    {
     "name": "stderr",
     "output_type": "stream",
     "text": [
      "100%|██████████| 467/467 [00:23<00:00, 19.75it/s, gp=0.0178, loss_dis=0.167]    \n"
     ]
    },
    {
     "name": "stdout",
     "output_type": "stream",
     "text": [
      "Saving Checkpoint\n",
      "Saving Checkpoint\n",
      "Epoch [27/250]\n"
     ]
    },
    {
     "name": "stderr",
     "output_type": "stream",
     "text": [
      "100%|██████████| 467/467 [00:23<00:00, 20.11it/s, gp=0.00492, loss_dis=0.0606]   \n"
     ]
    },
    {
     "name": "stdout",
     "output_type": "stream",
     "text": [
      "Saving Checkpoint\n",
      "Saving Checkpoint\n",
      "Epoch [28/250]\n"
     ]
    },
    {
     "name": "stderr",
     "output_type": "stream",
     "text": [
      "100%|██████████| 467/467 [00:23<00:00, 20.05it/s, gp=0.00132, loss_dis=0.00127]  \n"
     ]
    },
    {
     "name": "stdout",
     "output_type": "stream",
     "text": [
      "Saving Checkpoint\n",
      "Saving Checkpoint\n",
      "Epoch [29/250]\n"
     ]
    },
    {
     "name": "stderr",
     "output_type": "stream",
     "text": [
      "100%|██████████| 467/467 [00:22<00:00, 20.41it/s, gp=0.0138, loss_dis=0.122]     \n"
     ]
    },
    {
     "name": "stdout",
     "output_type": "stream",
     "text": [
      "Saving Checkpoint\n",
      "Saving Checkpoint\n",
      "Epoch [30/250]\n"
     ]
    },
    {
     "name": "stderr",
     "output_type": "stream",
     "text": [
      "100%|██████████| 467/467 [00:23<00:00, 20.08it/s, gp=0.00276, loss_dis=0.012]    \n"
     ]
    },
    {
     "name": "stdout",
     "output_type": "stream",
     "text": [
      "Saving Checkpoint\n",
      "Saving Checkpoint\n",
      "Epoch [31/250]\n"
     ]
    },
    {
     "name": "stderr",
     "output_type": "stream",
     "text": [
      "100%|██████████| 467/467 [00:26<00:00, 17.92it/s, gp=0.00345, loss_dis=-0.0172]  \n"
     ]
    },
    {
     "name": "stdout",
     "output_type": "stream",
     "text": [
      "Saving Checkpoint\n",
      "Saving Checkpoint\n",
      "Epoch [32/250]\n"
     ]
    },
    {
     "name": "stderr",
     "output_type": "stream",
     "text": [
      "100%|██████████| 467/467 [00:24<00:00, 18.89it/s, gp=0.00235, loss_dis=0.0692]   \n"
     ]
    },
    {
     "name": "stdout",
     "output_type": "stream",
     "text": [
      "Saving Checkpoint\n",
      "Saving Checkpoint\n",
      "Epoch [33/250]\n"
     ]
    },
    {
     "name": "stderr",
     "output_type": "stream",
     "text": [
      "100%|██████████| 467/467 [00:23<00:00, 19.46it/s, gp=0.0068, loss_dis=0.0195]    \n"
     ]
    },
    {
     "name": "stdout",
     "output_type": "stream",
     "text": [
      "Saving Checkpoint\n",
      "Saving Checkpoint\n",
      "Epoch [34/250]\n"
     ]
    },
    {
     "name": "stderr",
     "output_type": "stream",
     "text": [
      "100%|██████████| 467/467 [00:24<00:00, 19.32it/s, gp=0.0015, loss_dis=0.000553]  \n"
     ]
    },
    {
     "name": "stdout",
     "output_type": "stream",
     "text": [
      "Saving Checkpoint\n",
      "Saving Checkpoint\n",
      "Epoch [35/250]\n"
     ]
    },
    {
     "name": "stderr",
     "output_type": "stream",
     "text": [
      "100%|██████████| 467/467 [00:23<00:00, 19.59it/s, gp=0.00223, loss_dis=-0.0227]  \n"
     ]
    },
    {
     "name": "stdout",
     "output_type": "stream",
     "text": [
      "Saving Checkpoint\n",
      "Saving Checkpoint\n",
      "Epoch [36/250]\n"
     ]
    },
    {
     "name": "stderr",
     "output_type": "stream",
     "text": [
      "100%|██████████| 467/467 [00:23<00:00, 19.55it/s, gp=0.00265, loss_dis=0.0366]   \n"
     ]
    },
    {
     "name": "stdout",
     "output_type": "stream",
     "text": [
      "Saving Checkpoint\n",
      "Saving Checkpoint\n",
      "Epoch [37/250]\n"
     ]
    },
    {
     "name": "stderr",
     "output_type": "stream",
     "text": [
      "100%|██████████| 467/467 [00:23<00:00, 19.82it/s, gp=0.00341, loss_dis=0.00161]  \n"
     ]
    },
    {
     "name": "stdout",
     "output_type": "stream",
     "text": [
      "Saving Checkpoint\n",
      "Saving Checkpoint\n",
      "Epoch [38/250]\n"
     ]
    },
    {
     "name": "stderr",
     "output_type": "stream",
     "text": [
      "100%|██████████| 467/467 [00:23<00:00, 20.18it/s, gp=0.00296, loss_dis=-0.036]  \n"
     ]
    },
    {
     "name": "stdout",
     "output_type": "stream",
     "text": [
      "Saving Checkpoint\n",
      "Saving Checkpoint\n",
      "Epoch [39/250]\n"
     ]
    },
    {
     "name": "stderr",
     "output_type": "stream",
     "text": [
      "100%|██████████| 467/467 [00:23<00:00, 20.09it/s, gp=0.00524, loss_dis=-0.00254] \n"
     ]
    },
    {
     "name": "stdout",
     "output_type": "stream",
     "text": [
      "Saving Checkpoint\n",
      "Saving Checkpoint\n",
      "Epoch [40/250]\n"
     ]
    },
    {
     "name": "stderr",
     "output_type": "stream",
     "text": [
      "100%|██████████| 467/467 [00:23<00:00, 20.08it/s, gp=0.00153, loss_dis=-0.0232]  \n"
     ]
    },
    {
     "name": "stdout",
     "output_type": "stream",
     "text": [
      "Saving Checkpoint\n",
      "Saving Checkpoint\n",
      "Epoch [41/250]\n"
     ]
    },
    {
     "name": "stderr",
     "output_type": "stream",
     "text": [
      "100%|██████████| 467/467 [00:25<00:00, 18.27it/s, gp=0.00258, loss_dis=0.0284]   \n"
     ]
    },
    {
     "name": "stdout",
     "output_type": "stream",
     "text": [
      "Saving Checkpoint\n",
      "Saving Checkpoint\n",
      "Epoch [42/250]\n"
     ]
    },
    {
     "name": "stderr",
     "output_type": "stream",
     "text": [
      "100%|██████████| 467/467 [00:23<00:00, 19.78it/s, gp=0.00545, loss_dis=0.0507]   \n"
     ]
    },
    {
     "name": "stdout",
     "output_type": "stream",
     "text": [
      "Saving Checkpoint\n",
      "Saving Checkpoint\n",
      "Epoch [43/250]\n"
     ]
    },
    {
     "name": "stderr",
     "output_type": "stream",
     "text": [
      "100%|██████████| 467/467 [00:23<00:00, 19.69it/s, gp=0.00333, loss_dis=0.0339]   \n"
     ]
    },
    {
     "name": "stdout",
     "output_type": "stream",
     "text": [
      "Saving Checkpoint\n",
      "Saving Checkpoint\n",
      "Epoch [44/250]\n"
     ]
    },
    {
     "name": "stderr",
     "output_type": "stream",
     "text": [
      "100%|██████████| 467/467 [00:23<00:00, 19.70it/s, gp=0.00106, loss_dis=0.0348]   \n"
     ]
    },
    {
     "name": "stdout",
     "output_type": "stream",
     "text": [
      "Saving Checkpoint\n",
      "Saving Checkpoint\n",
      "Epoch [45/250]\n"
     ]
    },
    {
     "name": "stderr",
     "output_type": "stream",
     "text": [
      "100%|██████████| 467/467 [00:23<00:00, 20.30it/s, gp=0.0034, loss_dis=0.00327]   \n"
     ]
    },
    {
     "name": "stdout",
     "output_type": "stream",
     "text": [
      "Saving Checkpoint\n",
      "Saving Checkpoint\n",
      "Epoch [46/250]\n"
     ]
    },
    {
     "name": "stderr",
     "output_type": "stream",
     "text": [
      "100%|██████████| 467/467 [00:23<00:00, 20.10it/s, gp=0.00279, loss_dis=-0.0289]  \n"
     ]
    },
    {
     "name": "stdout",
     "output_type": "stream",
     "text": [
      "Saving Checkpoint\n",
      "Saving Checkpoint\n",
      "Epoch [47/250]\n"
     ]
    },
    {
     "name": "stderr",
     "output_type": "stream",
     "text": [
      "100%|██████████| 467/467 [00:22<00:00, 20.33it/s, gp=0.00376, loss_dis=0.0564]   \n"
     ]
    },
    {
     "name": "stdout",
     "output_type": "stream",
     "text": [
      "Saving Checkpoint\n",
      "Saving Checkpoint\n",
      "Epoch [48/250]\n"
     ]
    },
    {
     "name": "stderr",
     "output_type": "stream",
     "text": [
      "100%|██████████| 467/467 [00:23<00:00, 19.59it/s, gp=0.00372, loss_dis=0.0497]  \n"
     ]
    },
    {
     "name": "stdout",
     "output_type": "stream",
     "text": [
      "Saving Checkpoint\n",
      "Saving Checkpoint\n",
      "Epoch [49/250]\n"
     ]
    },
    {
     "name": "stderr",
     "output_type": "stream",
     "text": [
      "100%|██████████| 467/467 [00:23<00:00, 20.26it/s, gp=0.00448, loss_dis=0.0662]   \n"
     ]
    },
    {
     "name": "stdout",
     "output_type": "stream",
     "text": [
      "Saving Checkpoint\n",
      "Saving Checkpoint\n",
      "Epoch [50/250]\n"
     ]
    },
    {
     "name": "stderr",
     "output_type": "stream",
     "text": [
      "100%|██████████| 467/467 [00:22<00:00, 20.48it/s, gp=0.00785, loss_dis=0.101]    \n"
     ]
    },
    {
     "name": "stdout",
     "output_type": "stream",
     "text": [
      "Saving Checkpoint\n",
      "Saving Checkpoint\n",
      "Epoch [51/250]\n"
     ]
    },
    {
     "name": "stderr",
     "output_type": "stream",
     "text": [
      "100%|██████████| 467/467 [00:23<00:00, 20.23it/s, gp=0.00915, loss_dis=0.082]    \n"
     ]
    },
    {
     "name": "stdout",
     "output_type": "stream",
     "text": [
      "Saving Checkpoint\n",
      "Saving Checkpoint\n",
      "Epoch [52/250]\n"
     ]
    },
    {
     "name": "stderr",
     "output_type": "stream",
     "text": [
      "100%|██████████| 467/467 [00:22<00:00, 20.36it/s, gp=0.00956, loss_dis=0.134]    \n"
     ]
    },
    {
     "name": "stdout",
     "output_type": "stream",
     "text": [
      "Saving Checkpoint\n",
      "Saving Checkpoint\n",
      "Epoch [53/250]\n"
     ]
    },
    {
     "name": "stderr",
     "output_type": "stream",
     "text": [
      "100%|██████████| 467/467 [00:23<00:00, 19.86it/s, gp=0.011, loss_dis=0.119]      \n"
     ]
    },
    {
     "name": "stdout",
     "output_type": "stream",
     "text": [
      "Saving Checkpoint\n",
      "Saving Checkpoint\n",
      "Epoch [54/250]\n"
     ]
    },
    {
     "name": "stderr",
     "output_type": "stream",
     "text": [
      "100%|██████████| 467/467 [00:23<00:00, 20.06it/s, gp=0.00514, loss_dis=-0.0555]  \n"
     ]
    },
    {
     "name": "stdout",
     "output_type": "stream",
     "text": [
      "Saving Checkpoint\n",
      "Saving Checkpoint\n",
      "Epoch [55/250]\n"
     ]
    },
    {
     "name": "stderr",
     "output_type": "stream",
     "text": [
      "100%|██████████| 467/467 [00:23<00:00, 19.71it/s, gp=0.00125, loss_dis=-0.0118]  \n"
     ]
    },
    {
     "name": "stdout",
     "output_type": "stream",
     "text": [
      "Saving Checkpoint\n",
      "Saving Checkpoint\n",
      "Epoch [56/250]\n"
     ]
    },
    {
     "name": "stderr",
     "output_type": "stream",
     "text": [
      "100%|██████████| 467/467 [00:23<00:00, 20.09it/s, gp=0.00368, loss_dis=0.0107]   \n"
     ]
    },
    {
     "name": "stdout",
     "output_type": "stream",
     "text": [
      "Saving Checkpoint\n",
      "Saving Checkpoint\n",
      "Epoch [57/250]\n"
     ]
    },
    {
     "name": "stderr",
     "output_type": "stream",
     "text": [
      "100%|██████████| 467/467 [00:23<00:00, 19.69it/s, gp=0.00179, loss_dis=0.0376]   \n"
     ]
    },
    {
     "name": "stdout",
     "output_type": "stream",
     "text": [
      "Saving Checkpoint\n",
      "Saving Checkpoint\n",
      "Epoch [58/250]\n"
     ]
    },
    {
     "name": "stderr",
     "output_type": "stream",
     "text": [
      "100%|██████████| 467/467 [00:23<00:00, 20.23it/s, gp=0.000715, loss_dis=-0.0432] \n"
     ]
    },
    {
     "name": "stdout",
     "output_type": "stream",
     "text": [
      "Saving Checkpoint\n",
      "Saving Checkpoint\n",
      "Epoch [59/250]\n"
     ]
    },
    {
     "name": "stderr",
     "output_type": "stream",
     "text": [
      "100%|██████████| 467/467 [00:23<00:00, 19.94it/s, gp=0.0122, loss_dis=0.061]     \n"
     ]
    },
    {
     "name": "stdout",
     "output_type": "stream",
     "text": [
      "Saving Checkpoint\n",
      "Saving Checkpoint\n",
      "Epoch [60/250]\n"
     ]
    },
    {
     "name": "stderr",
     "output_type": "stream",
     "text": [
      "100%|██████████| 467/467 [00:23<00:00, 19.64it/s, gp=0.00306, loss_dis=0.0313]   \n"
     ]
    },
    {
     "name": "stdout",
     "output_type": "stream",
     "text": [
      "Saving Checkpoint\n",
      "Saving Checkpoint\n",
      "Epoch [61/250]\n"
     ]
    },
    {
     "name": "stderr",
     "output_type": "stream",
     "text": [
      "100%|██████████| 467/467 [00:24<00:00, 19.37it/s, gp=0.00155, loss_dis=0.00143]  \n"
     ]
    },
    {
     "name": "stdout",
     "output_type": "stream",
     "text": [
      "Saving Checkpoint\n",
      "Saving Checkpoint\n",
      "Epoch [62/250]\n"
     ]
    },
    {
     "name": "stderr",
     "output_type": "stream",
     "text": [
      "100%|██████████| 467/467 [00:23<00:00, 20.06it/s, gp=0.00267, loss_dis=0.099]    \n"
     ]
    },
    {
     "name": "stdout",
     "output_type": "stream",
     "text": [
      "Saving Checkpoint\n",
      "Saving Checkpoint\n",
      "Epoch [63/250]\n"
     ]
    },
    {
     "name": "stderr",
     "output_type": "stream",
     "text": [
      "100%|██████████| 467/467 [00:23<00:00, 20.10it/s, gp=0.00177, loss_dis=-0.0223]  \n"
     ]
    },
    {
     "name": "stdout",
     "output_type": "stream",
     "text": [
      "Saving Checkpoint\n",
      "Saving Checkpoint\n",
      "Epoch [64/250]\n"
     ]
    },
    {
     "name": "stderr",
     "output_type": "stream",
     "text": [
      "100%|██████████| 467/467 [00:23<00:00, 19.98it/s, gp=0.000564, loss_dis=0.0149]  \n"
     ]
    },
    {
     "name": "stdout",
     "output_type": "stream",
     "text": [
      "Saving Checkpoint\n",
      "Saving Checkpoint\n",
      "Epoch [65/250]\n"
     ]
    },
    {
     "name": "stderr",
     "output_type": "stream",
     "text": [
      "100%|██████████| 467/467 [00:23<00:00, 20.27it/s, gp=0.00781, loss_dis=0.106]    \n"
     ]
    },
    {
     "name": "stdout",
     "output_type": "stream",
     "text": [
      "Saving Checkpoint\n",
      "Saving Checkpoint\n",
      "Epoch [66/250]\n"
     ]
    },
    {
     "name": "stderr",
     "output_type": "stream",
     "text": [
      "100%|██████████| 467/467 [00:23<00:00, 20.12it/s, gp=0.00292, loss_dis=0.0526]   \n"
     ]
    },
    {
     "name": "stdout",
     "output_type": "stream",
     "text": [
      "Saving Checkpoint\n",
      "Saving Checkpoint\n",
      "Epoch [67/250]\n"
     ]
    },
    {
     "name": "stderr",
     "output_type": "stream",
     "text": [
      "100%|██████████| 467/467 [00:23<00:00, 19.60it/s, gp=0.00287, loss_dis=-0.00233] \n"
     ]
    },
    {
     "name": "stdout",
     "output_type": "stream",
     "text": [
      "Saving Checkpoint\n",
      "Saving Checkpoint\n",
      "Epoch [68/250]\n"
     ]
    },
    {
     "name": "stderr",
     "output_type": "stream",
     "text": [
      "100%|██████████| 467/467 [00:23<00:00, 19.84it/s, gp=0.00799, loss_dis=0.0253]   \n"
     ]
    },
    {
     "name": "stdout",
     "output_type": "stream",
     "text": [
      "Saving Checkpoint\n",
      "Saving Checkpoint\n",
      "Epoch [69/250]\n"
     ]
    },
    {
     "name": "stderr",
     "output_type": "stream",
     "text": [
      "100%|██████████| 467/467 [00:23<00:00, 19.74it/s, gp=0.00326, loss_dis=0.0147]   \n"
     ]
    },
    {
     "name": "stdout",
     "output_type": "stream",
     "text": [
      "Saving Checkpoint\n",
      "Saving Checkpoint\n",
      "Epoch [70/250]\n"
     ]
    },
    {
     "name": "stderr",
     "output_type": "stream",
     "text": [
      "100%|██████████| 467/467 [00:23<00:00, 20.16it/s, gp=0.000972, loss_dis=0.0217]  \n"
     ]
    },
    {
     "name": "stdout",
     "output_type": "stream",
     "text": [
      "Saving Checkpoint\n",
      "Saving Checkpoint\n",
      "Epoch [71/250]\n"
     ]
    },
    {
     "name": "stderr",
     "output_type": "stream",
     "text": [
      "100%|██████████| 467/467 [00:23<00:00, 19.98it/s, gp=0.0176, loss_dis=0.0776]    \n"
     ]
    },
    {
     "name": "stdout",
     "output_type": "stream",
     "text": [
      "Saving Checkpoint\n",
      "Saving Checkpoint\n",
      "Epoch [72/250]\n"
     ]
    },
    {
     "name": "stderr",
     "output_type": "stream",
     "text": [
      "100%|██████████| 467/467 [00:23<00:00, 19.95it/s, gp=0.00418, loss_dis=0.0926]    \n"
     ]
    },
    {
     "name": "stdout",
     "output_type": "stream",
     "text": [
      "Saving Checkpoint\n",
      "Saving Checkpoint\n",
      "Epoch [73/250]\n"
     ]
    },
    {
     "name": "stderr",
     "output_type": "stream",
     "text": [
      "100%|██████████| 467/467 [00:23<00:00, 19.53it/s, gp=0.00116, loss_dis=-0.0792]  \n"
     ]
    },
    {
     "name": "stdout",
     "output_type": "stream",
     "text": [
      "Saving Checkpoint\n",
      "Saving Checkpoint\n",
      "Epoch [74/250]\n"
     ]
    },
    {
     "name": "stderr",
     "output_type": "stream",
     "text": [
      "100%|██████████| 467/467 [00:23<00:00, 19.47it/s, gp=0.00259, loss_dis=0.0247]  \n"
     ]
    },
    {
     "name": "stdout",
     "output_type": "stream",
     "text": [
      "Saving Checkpoint\n",
      "Saving Checkpoint\n",
      "Epoch [75/250]\n"
     ]
    },
    {
     "name": "stderr",
     "output_type": "stream",
     "text": [
      "100%|██████████| 467/467 [00:23<00:00, 19.99it/s, gp=0.000897, loss_dis=-0.0713] \n"
     ]
    },
    {
     "name": "stdout",
     "output_type": "stream",
     "text": [
      "Saving Checkpoint\n",
      "Saving Checkpoint\n",
      "Epoch [76/250]\n"
     ]
    },
    {
     "name": "stderr",
     "output_type": "stream",
     "text": [
      "100%|██████████| 467/467 [00:23<00:00, 19.91it/s, gp=0.00362, loss_dis=0.0806]   \n"
     ]
    },
    {
     "name": "stdout",
     "output_type": "stream",
     "text": [
      "Saving Checkpoint\n",
      "Saving Checkpoint\n",
      "Epoch [77/250]\n"
     ]
    },
    {
     "name": "stderr",
     "output_type": "stream",
     "text": [
      "100%|██████████| 467/467 [00:22<00:00, 20.34it/s, gp=0.00126, loss_dis=-0.0229]  \n"
     ]
    },
    {
     "name": "stdout",
     "output_type": "stream",
     "text": [
      "Saving Checkpoint\n",
      "Saving Checkpoint\n",
      "Epoch [78/250]\n"
     ]
    },
    {
     "name": "stderr",
     "output_type": "stream",
     "text": [
      "100%|██████████| 467/467 [00:23<00:00, 20.23it/s, gp=0.00319, loss_dis=-0.0579]  \n"
     ]
    },
    {
     "name": "stdout",
     "output_type": "stream",
     "text": [
      "Saving Checkpoint\n",
      "Saving Checkpoint\n",
      "Epoch [79/250]\n"
     ]
    },
    {
     "name": "stderr",
     "output_type": "stream",
     "text": [
      "100%|██████████| 467/467 [00:23<00:00, 19.69it/s, gp=0.00147, loss_dis=0.00313]  \n"
     ]
    },
    {
     "name": "stdout",
     "output_type": "stream",
     "text": [
      "Saving Checkpoint\n",
      "Saving Checkpoint\n",
      "Epoch [80/250]\n"
     ]
    },
    {
     "name": "stderr",
     "output_type": "stream",
     "text": [
      "100%|██████████| 467/467 [00:23<00:00, 19.61it/s, gp=0.00137, loss_dis=-0.0339]  \n"
     ]
    },
    {
     "name": "stdout",
     "output_type": "stream",
     "text": [
      "Saving Checkpoint\n",
      "Saving Checkpoint\n",
      "Epoch [81/250]\n"
     ]
    },
    {
     "name": "stderr",
     "output_type": "stream",
     "text": [
      "100%|██████████| 467/467 [00:24<00:00, 19.26it/s, gp=0.00706, loss_dis=0.0854]    \n"
     ]
    },
    {
     "name": "stdout",
     "output_type": "stream",
     "text": [
      "Saving Checkpoint\n",
      "Saving Checkpoint\n",
      "Epoch [82/250]\n"
     ]
    },
    {
     "name": "stderr",
     "output_type": "stream",
     "text": [
      "100%|██████████| 467/467 [00:23<00:00, 19.97it/s, gp=0.00305, loss_dis=0.102]    \n"
     ]
    },
    {
     "name": "stdout",
     "output_type": "stream",
     "text": [
      "Saving Checkpoint\n",
      "Saving Checkpoint\n",
      "Epoch [83/250]\n"
     ]
    },
    {
     "name": "stderr",
     "output_type": "stream",
     "text": [
      "100%|██████████| 467/467 [00:23<00:00, 19.91it/s, gp=0.00347, loss_dis=0.00122]  \n"
     ]
    },
    {
     "name": "stdout",
     "output_type": "stream",
     "text": [
      "Saving Checkpoint\n",
      "Saving Checkpoint\n",
      "Epoch [84/250]\n"
     ]
    },
    {
     "name": "stderr",
     "output_type": "stream",
     "text": [
      "100%|██████████| 467/467 [00:22<00:00, 20.35it/s, gp=0.00149, loss_dis=-0.00218] \n"
     ]
    },
    {
     "name": "stdout",
     "output_type": "stream",
     "text": [
      "Saving Checkpoint\n",
      "Saving Checkpoint\n",
      "Epoch [85/250]\n"
     ]
    },
    {
     "name": "stderr",
     "output_type": "stream",
     "text": [
      "100%|██████████| 467/467 [00:23<00:00, 19.84it/s, gp=0.00317, loss_dis=-0.00763] \n"
     ]
    },
    {
     "name": "stdout",
     "output_type": "stream",
     "text": [
      "Saving Checkpoint\n",
      "Saving Checkpoint\n",
      "Epoch [86/250]\n"
     ]
    },
    {
     "name": "stderr",
     "output_type": "stream",
     "text": [
      "100%|██████████| 467/467 [00:23<00:00, 20.21it/s, gp=0.00215, loss_dis=0.0256]   \n"
     ]
    },
    {
     "name": "stdout",
     "output_type": "stream",
     "text": [
      "Saving Checkpoint\n",
      "Saving Checkpoint\n",
      "Epoch [87/250]\n"
     ]
    },
    {
     "name": "stderr",
     "output_type": "stream",
     "text": [
      "100%|██████████| 467/467 [00:23<00:00, 20.05it/s, gp=0.00209, loss_dis=0.0399]   \n"
     ]
    },
    {
     "name": "stdout",
     "output_type": "stream",
     "text": [
      "Saving Checkpoint\n",
      "Saving Checkpoint\n",
      "Epoch [88/250]\n"
     ]
    },
    {
     "name": "stderr",
     "output_type": "stream",
     "text": [
      "100%|██████████| 467/467 [00:23<00:00, 19.78it/s, gp=0.00229, loss_dis=-0.0758]  \n"
     ]
    },
    {
     "name": "stdout",
     "output_type": "stream",
     "text": [
      "Saving Checkpoint\n",
      "Saving Checkpoint\n",
      "Epoch [89/250]\n"
     ]
    },
    {
     "name": "stderr",
     "output_type": "stream",
     "text": [
      "100%|██████████| 467/467 [00:22<00:00, 20.38it/s, gp=0.00509, loss_dis=0.0448]   \n"
     ]
    },
    {
     "name": "stdout",
     "output_type": "stream",
     "text": [
      "Saving Checkpoint\n",
      "Saving Checkpoint\n",
      "Epoch [90/250]\n"
     ]
    },
    {
     "name": "stderr",
     "output_type": "stream",
     "text": [
      "100%|██████████| 467/467 [00:23<00:00, 19.71it/s, gp=0.00177, loss_dis=-0.00671] \n"
     ]
    },
    {
     "name": "stdout",
     "output_type": "stream",
     "text": [
      "Saving Checkpoint\n",
      "Saving Checkpoint\n",
      "Epoch [91/250]\n"
     ]
    },
    {
     "name": "stderr",
     "output_type": "stream",
     "text": [
      "100%|██████████| 467/467 [00:23<00:00, 19.93it/s, gp=0.00269, loss_dis=0.0135]   \n"
     ]
    },
    {
     "name": "stdout",
     "output_type": "stream",
     "text": [
      "Saving Checkpoint\n",
      "Saving Checkpoint\n",
      "Epoch [92/250]\n"
     ]
    },
    {
     "name": "stderr",
     "output_type": "stream",
     "text": [
      "100%|██████████| 467/467 [00:23<00:00, 20.15it/s, gp=0.00212, loss_dis=0.00833]  \n"
     ]
    },
    {
     "name": "stdout",
     "output_type": "stream",
     "text": [
      "Saving Checkpoint\n",
      "Saving Checkpoint\n",
      "Epoch [93/250]\n"
     ]
    },
    {
     "name": "stderr",
     "output_type": "stream",
     "text": [
      "100%|██████████| 467/467 [00:23<00:00, 19.60it/s, gp=0.00146, loss_dis=0.00727]  \n"
     ]
    },
    {
     "name": "stdout",
     "output_type": "stream",
     "text": [
      "Saving Checkpoint\n",
      "Saving Checkpoint\n",
      "Epoch [94/250]\n"
     ]
    },
    {
     "name": "stderr",
     "output_type": "stream",
     "text": [
      "100%|██████████| 467/467 [00:23<00:00, 19.92it/s, gp=0.00192, loss_dis=0.0463]   \n"
     ]
    },
    {
     "name": "stdout",
     "output_type": "stream",
     "text": [
      "Saving Checkpoint\n",
      "Saving Checkpoint\n",
      "Epoch [95/250]\n"
     ]
    },
    {
     "name": "stderr",
     "output_type": "stream",
     "text": [
      "100%|██████████| 467/467 [00:23<00:00, 20.00it/s, gp=0.00125, loss_dis=0.0218]   \n"
     ]
    },
    {
     "name": "stdout",
     "output_type": "stream",
     "text": [
      "Saving Checkpoint\n",
      "Saving Checkpoint\n",
      "Epoch [96/250]\n"
     ]
    },
    {
     "name": "stderr",
     "output_type": "stream",
     "text": [
      "100%|██████████| 467/467 [00:23<00:00, 19.99it/s, gp=0.00206, loss_dis=-0.0323]  \n"
     ]
    },
    {
     "name": "stdout",
     "output_type": "stream",
     "text": [
      "Saving Checkpoint\n",
      "Saving Checkpoint\n",
      "Epoch [97/250]\n"
     ]
    },
    {
     "name": "stderr",
     "output_type": "stream",
     "text": [
      "100%|██████████| 467/467 [00:23<00:00, 19.56it/s, gp=0.00163, loss_dis=0.0379]    \n"
     ]
    },
    {
     "name": "stdout",
     "output_type": "stream",
     "text": [
      "Saving Checkpoint\n",
      "Saving Checkpoint\n",
      "Epoch [98/250]\n"
     ]
    },
    {
     "name": "stderr",
     "output_type": "stream",
     "text": [
      "100%|██████████| 467/467 [00:23<00:00, 19.84it/s, gp=0.00451, loss_dis=0.155]    \n"
     ]
    },
    {
     "name": "stdout",
     "output_type": "stream",
     "text": [
      "Saving Checkpoint\n",
      "Saving Checkpoint\n",
      "Epoch [99/250]\n"
     ]
    },
    {
     "name": "stderr",
     "output_type": "stream",
     "text": [
      "100%|██████████| 467/467 [00:23<00:00, 20.29it/s, gp=0.00229, loss_dis=0.0279]   \n"
     ]
    },
    {
     "name": "stdout",
     "output_type": "stream",
     "text": [
      "Saving Checkpoint\n",
      "Saving Checkpoint\n",
      "Epoch [100/250]\n"
     ]
    },
    {
     "name": "stderr",
     "output_type": "stream",
     "text": [
      "100%|██████████| 467/467 [00:23<00:00, 20.30it/s, gp=0.00589, loss_dis=0.0957]    \n"
     ]
    },
    {
     "name": "stdout",
     "output_type": "stream",
     "text": [
      "Saving Checkpoint\n",
      "Saving Checkpoint\n",
      "Epoch [101/250]\n"
     ]
    },
    {
     "name": "stderr",
     "output_type": "stream",
     "text": [
      "100%|██████████| 467/467 [00:23<00:00, 19.88it/s, gp=0.00582, loss_dis=-0.017]   \n"
     ]
    },
    {
     "name": "stdout",
     "output_type": "stream",
     "text": [
      "Saving Checkpoint\n",
      "Saving Checkpoint\n",
      "Epoch [102/250]\n"
     ]
    },
    {
     "name": "stderr",
     "output_type": "stream",
     "text": [
      "100%|██████████| 467/467 [00:23<00:00, 19.97it/s, gp=0.00326, loss_dis=0.0138]   \n"
     ]
    },
    {
     "name": "stdout",
     "output_type": "stream",
     "text": [
      "Saving Checkpoint\n",
      "Saving Checkpoint\n",
      "Epoch [103/250]\n"
     ]
    },
    {
     "name": "stderr",
     "output_type": "stream",
     "text": [
      "100%|██████████| 467/467 [00:23<00:00, 20.03it/s, gp=0.00128, loss_dis=0.0374]   \n"
     ]
    },
    {
     "name": "stdout",
     "output_type": "stream",
     "text": [
      "Saving Checkpoint\n",
      "Saving Checkpoint\n",
      "Epoch [104/250]\n"
     ]
    },
    {
     "name": "stderr",
     "output_type": "stream",
     "text": [
      "100%|██████████| 467/467 [00:23<00:00, 19.78it/s, gp=0.00335, loss_dis=0.00461]   \n"
     ]
    },
    {
     "name": "stdout",
     "output_type": "stream",
     "text": [
      "Saving Checkpoint\n",
      "Saving Checkpoint\n",
      "Epoch [105/250]\n"
     ]
    },
    {
     "name": "stderr",
     "output_type": "stream",
     "text": [
      "100%|██████████| 467/467 [00:23<00:00, 19.70it/s, gp=0.00351, loss_dis=0.0631]   \n"
     ]
    },
    {
     "name": "stdout",
     "output_type": "stream",
     "text": [
      "Saving Checkpoint\n",
      "Saving Checkpoint\n",
      "Epoch [106/250]\n"
     ]
    },
    {
     "name": "stderr",
     "output_type": "stream",
     "text": [
      "100%|██████████| 467/467 [00:23<00:00, 19.61it/s, gp=0.00971, loss_dis=0.138]     \n"
     ]
    },
    {
     "name": "stdout",
     "output_type": "stream",
     "text": [
      "Saving Checkpoint\n",
      "Saving Checkpoint\n",
      "Epoch [107/250]\n"
     ]
    },
    {
     "name": "stderr",
     "output_type": "stream",
     "text": [
      "100%|██████████| 467/467 [00:23<00:00, 19.70it/s, gp=0.00176, loss_dis=0.107]    \n"
     ]
    },
    {
     "name": "stdout",
     "output_type": "stream",
     "text": [
      "Saving Checkpoint\n",
      "Saving Checkpoint\n",
      "Epoch [108/250]\n"
     ]
    },
    {
     "name": "stderr",
     "output_type": "stream",
     "text": [
      "100%|██████████| 467/467 [00:24<00:00, 19.30it/s, gp=0.00195, loss_dis=0.0671]    \n"
     ]
    },
    {
     "name": "stdout",
     "output_type": "stream",
     "text": [
      "Saving Checkpoint\n",
      "Saving Checkpoint\n",
      "Epoch [109/250]\n"
     ]
    },
    {
     "name": "stderr",
     "output_type": "stream",
     "text": [
      "100%|██████████| 467/467 [00:23<00:00, 19.79it/s, gp=0.0011, loss_dis=-0.0588]   \n"
     ]
    },
    {
     "name": "stdout",
     "output_type": "stream",
     "text": [
      "Saving Checkpoint\n",
      "Saving Checkpoint\n",
      "Epoch [110/250]\n"
     ]
    },
    {
     "name": "stderr",
     "output_type": "stream",
     "text": [
      "100%|██████████| 467/467 [00:23<00:00, 19.87it/s, gp=0.00551, loss_dis=0.121]    \n"
     ]
    },
    {
     "name": "stdout",
     "output_type": "stream",
     "text": [
      "Saving Checkpoint\n",
      "Saving Checkpoint\n",
      "Epoch [111/250]\n"
     ]
    },
    {
     "name": "stderr",
     "output_type": "stream",
     "text": [
      "100%|██████████| 467/467 [00:24<00:00, 19.38it/s, gp=0.0022, loss_dis=0.0226]    \n"
     ]
    },
    {
     "name": "stdout",
     "output_type": "stream",
     "text": [
      "Saving Checkpoint\n",
      "Saving Checkpoint\n",
      "Epoch [112/250]\n"
     ]
    },
    {
     "name": "stderr",
     "output_type": "stream",
     "text": [
      "100%|██████████| 467/467 [00:23<00:00, 19.75it/s, gp=0.0143, loss_dis=0.0641]    \n"
     ]
    },
    {
     "name": "stdout",
     "output_type": "stream",
     "text": [
      "Saving Checkpoint\n",
      "Saving Checkpoint\n",
      "Epoch [113/250]\n"
     ]
    },
    {
     "name": "stderr",
     "output_type": "stream",
     "text": [
      "100%|██████████| 467/467 [00:23<00:00, 19.64it/s, gp=0.00352, loss_dis=0.113]    \n"
     ]
    },
    {
     "name": "stdout",
     "output_type": "stream",
     "text": [
      "Saving Checkpoint\n",
      "Saving Checkpoint\n",
      "Epoch [114/250]\n"
     ]
    },
    {
     "name": "stderr",
     "output_type": "stream",
     "text": [
      "100%|██████████| 467/467 [00:23<00:00, 19.78it/s, gp=0.00642, loss_dis=0.0679]   \n"
     ]
    },
    {
     "name": "stdout",
     "output_type": "stream",
     "text": [
      "Saving Checkpoint\n",
      "Saving Checkpoint\n",
      "Epoch [115/250]\n"
     ]
    },
    {
     "name": "stderr",
     "output_type": "stream",
     "text": [
      "100%|██████████| 467/467 [00:23<00:00, 19.88it/s, gp=0.00396, loss_dis=0.033]    \n"
     ]
    },
    {
     "name": "stdout",
     "output_type": "stream",
     "text": [
      "Saving Checkpoint\n",
      "Saving Checkpoint\n",
      "Epoch [116/250]\n"
     ]
    },
    {
     "name": "stderr",
     "output_type": "stream",
     "text": [
      "100%|██████████| 467/467 [00:23<00:00, 20.29it/s, gp=0.00365, loss_dis=0.0235]    \n"
     ]
    },
    {
     "name": "stdout",
     "output_type": "stream",
     "text": [
      "Saving Checkpoint\n",
      "Saving Checkpoint\n",
      "Epoch [117/250]\n"
     ]
    },
    {
     "name": "stderr",
     "output_type": "stream",
     "text": [
      "100%|██████████| 467/467 [00:24<00:00, 18.98it/s, gp=0.00572, loss_dis=-0.00413] \n"
     ]
    },
    {
     "name": "stdout",
     "output_type": "stream",
     "text": [
      "Saving Checkpoint\n",
      "Saving Checkpoint\n",
      "Epoch [118/250]\n"
     ]
    },
    {
     "name": "stderr",
     "output_type": "stream",
     "text": [
      "100%|██████████| 467/467 [00:24<00:00, 18.99it/s, gp=0.000581, loss_dis=0.0338]   \n"
     ]
    },
    {
     "name": "stdout",
     "output_type": "stream",
     "text": [
      "Saving Checkpoint\n",
      "Saving Checkpoint\n",
      "Epoch [119/250]\n"
     ]
    },
    {
     "name": "stderr",
     "output_type": "stream",
     "text": [
      "100%|██████████| 467/467 [00:24<00:00, 19.33it/s, gp=0.00127, loss_dis=0.0157]   \n"
     ]
    },
    {
     "name": "stdout",
     "output_type": "stream",
     "text": [
      "Saving Checkpoint\n",
      "Saving Checkpoint\n",
      "Epoch [120/250]\n"
     ]
    },
    {
     "name": "stderr",
     "output_type": "stream",
     "text": [
      "100%|██████████| 467/467 [00:24<00:00, 18.94it/s, gp=0.00683, loss_dis=0.0658]   \n"
     ]
    },
    {
     "name": "stdout",
     "output_type": "stream",
     "text": [
      "Saving Checkpoint\n",
      "Saving Checkpoint\n",
      "Epoch [121/250]\n"
     ]
    },
    {
     "name": "stderr",
     "output_type": "stream",
     "text": [
      "100%|██████████| 467/467 [00:24<00:00, 18.97it/s, gp=0.00859, loss_dis=0.0709]    \n"
     ]
    },
    {
     "name": "stdout",
     "output_type": "stream",
     "text": [
      "Saving Checkpoint\n",
      "Saving Checkpoint\n",
      "Epoch [122/250]\n"
     ]
    },
    {
     "name": "stderr",
     "output_type": "stream",
     "text": [
      "100%|██████████| 467/467 [00:24<00:00, 18.82it/s, gp=0.00623, loss_dis=0.0675]   \n"
     ]
    },
    {
     "name": "stdout",
     "output_type": "stream",
     "text": [
      "Saving Checkpoint\n",
      "Saving Checkpoint\n",
      "Epoch [123/250]\n"
     ]
    },
    {
     "name": "stderr",
     "output_type": "stream",
     "text": [
      "100%|██████████| 467/467 [00:24<00:00, 19.22it/s, gp=0.00593, loss_dis=0.0449]   \n"
     ]
    },
    {
     "name": "stdout",
     "output_type": "stream",
     "text": [
      "Saving Checkpoint\n",
      "Saving Checkpoint\n",
      "Epoch [124/250]\n"
     ]
    },
    {
     "name": "stderr",
     "output_type": "stream",
     "text": [
      "100%|██████████| 467/467 [00:23<00:00, 19.53it/s, gp=0.000538, loss_dis=0.00818] \n"
     ]
    },
    {
     "name": "stdout",
     "output_type": "stream",
     "text": [
      "Saving Checkpoint\n",
      "Saving Checkpoint\n",
      "Epoch [125/250]\n"
     ]
    },
    {
     "name": "stderr",
     "output_type": "stream",
     "text": [
      "100%|██████████| 467/467 [00:24<00:00, 19.41it/s, gp=0.00171, loss_dis=-0.0721]  \n"
     ]
    },
    {
     "name": "stdout",
     "output_type": "stream",
     "text": [
      "Saving Checkpoint\n",
      "Saving Checkpoint\n",
      "Epoch [126/250]\n"
     ]
    },
    {
     "name": "stderr",
     "output_type": "stream",
     "text": [
      "100%|██████████| 467/467 [00:24<00:00, 19.07it/s, gp=0.00519, loss_dis=0.0721]   \n"
     ]
    },
    {
     "name": "stdout",
     "output_type": "stream",
     "text": [
      "Saving Checkpoint\n",
      "Saving Checkpoint\n",
      "Epoch [127/250]\n"
     ]
    },
    {
     "name": "stderr",
     "output_type": "stream",
     "text": [
      "100%|██████████| 467/467 [00:23<00:00, 19.55it/s, gp=0.000516, loss_dis=-0.096]  \n"
     ]
    },
    {
     "name": "stdout",
     "output_type": "stream",
     "text": [
      "Saving Checkpoint\n",
      "Saving Checkpoint\n",
      "Epoch [128/250]\n"
     ]
    },
    {
     "name": "stderr",
     "output_type": "stream",
     "text": [
      "100%|██████████| 467/467 [00:24<00:00, 19.27it/s, gp=0.00212, loss_dis=-0.097]   \n"
     ]
    },
    {
     "name": "stdout",
     "output_type": "stream",
     "text": [
      "Saving Checkpoint\n",
      "Saving Checkpoint\n",
      "Epoch [129/250]\n"
     ]
    },
    {
     "name": "stderr",
     "output_type": "stream",
     "text": [
      "100%|██████████| 467/467 [00:24<00:00, 18.85it/s, gp=0.0159, loss_dis=0.182]     \n"
     ]
    },
    {
     "name": "stdout",
     "output_type": "stream",
     "text": [
      "Saving Checkpoint\n",
      "Saving Checkpoint\n",
      "Epoch [130/250]\n"
     ]
    },
    {
     "name": "stderr",
     "output_type": "stream",
     "text": [
      "100%|██████████| 467/467 [00:23<00:00, 19.59it/s, gp=0.00171, loss_dis=-0.0725]  \n"
     ]
    },
    {
     "name": "stdout",
     "output_type": "stream",
     "text": [
      "Saving Checkpoint\n",
      "Saving Checkpoint\n",
      "Epoch [131/250]\n"
     ]
    },
    {
     "name": "stderr",
     "output_type": "stream",
     "text": [
      "100%|██████████| 467/467 [00:24<00:00, 19.25it/s, gp=0.00128, loss_dis=-0.00413] \n"
     ]
    },
    {
     "name": "stdout",
     "output_type": "stream",
     "text": [
      "Saving Checkpoint\n",
      "Saving Checkpoint\n",
      "Epoch [132/250]\n"
     ]
    },
    {
     "name": "stderr",
     "output_type": "stream",
     "text": [
      "100%|██████████| 467/467 [00:24<00:00, 18.94it/s, gp=0.00191, loss_dis=0.0158]   \n"
     ]
    },
    {
     "name": "stdout",
     "output_type": "stream",
     "text": [
      "Saving Checkpoint\n",
      "Saving Checkpoint\n",
      "Epoch [133/250]\n"
     ]
    },
    {
     "name": "stderr",
     "output_type": "stream",
     "text": [
      "100%|██████████| 467/467 [00:24<00:00, 19.40it/s, gp=0.012, loss_dis=0.039]      \n"
     ]
    },
    {
     "name": "stdout",
     "output_type": "stream",
     "text": [
      "Saving Checkpoint\n",
      "Saving Checkpoint\n",
      "Epoch [134/250]\n"
     ]
    },
    {
     "name": "stderr",
     "output_type": "stream",
     "text": [
      "100%|██████████| 467/467 [00:24<00:00, 19.43it/s, gp=0.00146, loss_dis=-0.0649]   \n"
     ]
    },
    {
     "name": "stdout",
     "output_type": "stream",
     "text": [
      "Saving Checkpoint\n",
      "Saving Checkpoint\n",
      "Epoch [135/250]\n"
     ]
    },
    {
     "name": "stderr",
     "output_type": "stream",
     "text": [
      "100%|██████████| 467/467 [00:24<00:00, 19.10it/s, gp=0.00174, loss_dis=0.147]    \n"
     ]
    },
    {
     "name": "stdout",
     "output_type": "stream",
     "text": [
      "Saving Checkpoint\n",
      "Saving Checkpoint\n",
      "Epoch [136/250]\n"
     ]
    },
    {
     "name": "stderr",
     "output_type": "stream",
     "text": [
      "100%|██████████| 467/467 [00:24<00:00, 19.34it/s, gp=0.00356, loss_dis=0.0206]   \n"
     ]
    },
    {
     "name": "stdout",
     "output_type": "stream",
     "text": [
      "Saving Checkpoint\n",
      "Saving Checkpoint\n",
      "Epoch [137/250]\n"
     ]
    },
    {
     "name": "stderr",
     "output_type": "stream",
     "text": [
      "100%|██████████| 467/467 [00:24<00:00, 19.14it/s, gp=0.00141, loss_dis=0.103]    \n"
     ]
    },
    {
     "name": "stdout",
     "output_type": "stream",
     "text": [
      "Saving Checkpoint\n",
      "Saving Checkpoint\n",
      "Epoch [138/250]\n"
     ]
    },
    {
     "name": "stderr",
     "output_type": "stream",
     "text": [
      "100%|██████████| 467/467 [00:24<00:00, 18.93it/s, gp=0.00627, loss_dis=0.174]     \n"
     ]
    },
    {
     "name": "stdout",
     "output_type": "stream",
     "text": [
      "Saving Checkpoint\n",
      "Saving Checkpoint\n",
      "Epoch [139/250]\n"
     ]
    },
    {
     "name": "stderr",
     "output_type": "stream",
     "text": [
      "100%|██████████| 467/467 [00:24<00:00, 19.29it/s, gp=0.0017, loss_dis=-0.139]    \n"
     ]
    },
    {
     "name": "stdout",
     "output_type": "stream",
     "text": [
      "Saving Checkpoint\n",
      "Saving Checkpoint\n",
      "Epoch [140/250]\n"
     ]
    },
    {
     "name": "stderr",
     "output_type": "stream",
     "text": [
      "100%|██████████| 467/467 [00:24<00:00, 19.39it/s, gp=0.0015, loss_dis=0.0537]    \n"
     ]
    },
    {
     "name": "stdout",
     "output_type": "stream",
     "text": [
      "Saving Checkpoint\n",
      "Saving Checkpoint\n",
      "Epoch [141/250]\n"
     ]
    },
    {
     "name": "stderr",
     "output_type": "stream",
     "text": [
      "100%|██████████| 467/467 [00:24<00:00, 19.40it/s, gp=0.00105, loss_dis=-0.0155]  \n"
     ]
    },
    {
     "name": "stdout",
     "output_type": "stream",
     "text": [
      "Saving Checkpoint\n",
      "Saving Checkpoint\n",
      "Epoch [142/250]\n"
     ]
    },
    {
     "name": "stderr",
     "output_type": "stream",
     "text": [
      "100%|██████████| 467/467 [00:23<00:00, 19.48it/s, gp=0.00122, loss_dis=-0.00947]  \n"
     ]
    },
    {
     "name": "stdout",
     "output_type": "stream",
     "text": [
      "Saving Checkpoint\n",
      "Saving Checkpoint\n",
      "Epoch [143/250]\n"
     ]
    },
    {
     "name": "stderr",
     "output_type": "stream",
     "text": [
      "100%|██████████| 467/467 [00:24<00:00, 19.43it/s, gp=0.00327, loss_dis=-0.0158]  \n"
     ]
    },
    {
     "name": "stdout",
     "output_type": "stream",
     "text": [
      "Saving Checkpoint\n",
      "Saving Checkpoint\n",
      "Epoch [144/250]\n"
     ]
    },
    {
     "name": "stderr",
     "output_type": "stream",
     "text": [
      "100%|██████████| 467/467 [00:24<00:00, 19.44it/s, gp=0.00208, loss_dis=0.118]     \n"
     ]
    },
    {
     "name": "stdout",
     "output_type": "stream",
     "text": [
      "Saving Checkpoint\n",
      "Saving Checkpoint\n",
      "Epoch [145/250]\n"
     ]
    },
    {
     "name": "stderr",
     "output_type": "stream",
     "text": [
      "100%|██████████| 467/467 [00:24<00:00, 19.04it/s, gp=0.00186, loss_dis=-0.00765]  \n"
     ]
    },
    {
     "name": "stdout",
     "output_type": "stream",
     "text": [
      "Saving Checkpoint\n",
      "Saving Checkpoint\n",
      "Epoch [146/250]\n"
     ]
    },
    {
     "name": "stderr",
     "output_type": "stream",
     "text": [
      "100%|██████████| 467/467 [00:24<00:00, 18.81it/s, gp=0.00605, loss_dis=-0.0297]  \n"
     ]
    },
    {
     "name": "stdout",
     "output_type": "stream",
     "text": [
      "Saving Checkpoint\n",
      "Saving Checkpoint\n",
      "Epoch [147/250]\n"
     ]
    },
    {
     "name": "stderr",
     "output_type": "stream",
     "text": [
      "100%|██████████| 467/467 [00:23<00:00, 19.54it/s, gp=0.00193, loss_dis=-0.0712]  \n"
     ]
    },
    {
     "name": "stdout",
     "output_type": "stream",
     "text": [
      "Saving Checkpoint\n",
      "Saving Checkpoint\n",
      "Epoch [148/250]\n"
     ]
    },
    {
     "name": "stderr",
     "output_type": "stream",
     "text": [
      "100%|██████████| 467/467 [00:23<00:00, 19.65it/s, gp=0.00286, loss_dis=-0.00784] \n"
     ]
    },
    {
     "name": "stdout",
     "output_type": "stream",
     "text": [
      "Saving Checkpoint\n",
      "Saving Checkpoint\n",
      "Epoch [149/250]\n"
     ]
    },
    {
     "name": "stderr",
     "output_type": "stream",
     "text": [
      "100%|██████████| 467/467 [00:23<00:00, 19.49it/s, gp=0.00607, loss_dis=0.0331]    \n"
     ]
    },
    {
     "name": "stdout",
     "output_type": "stream",
     "text": [
      "Saving Checkpoint\n",
      "Saving Checkpoint\n",
      "Epoch [150/250]\n"
     ]
    },
    {
     "name": "stderr",
     "output_type": "stream",
     "text": [
      "100%|██████████| 467/467 [00:24<00:00, 18.79it/s, gp=0.00151, loss_dis=-0.0149]  \n"
     ]
    },
    {
     "name": "stdout",
     "output_type": "stream",
     "text": [
      "Saving Checkpoint\n",
      "Saving Checkpoint\n",
      "Epoch [151/250]\n"
     ]
    },
    {
     "name": "stderr",
     "output_type": "stream",
     "text": [
      "100%|██████████| 467/467 [00:24<00:00, 19.37it/s, gp=0.00701, loss_dis=0.0597]   \n"
     ]
    },
    {
     "name": "stdout",
     "output_type": "stream",
     "text": [
      "Saving Checkpoint\n",
      "Saving Checkpoint\n",
      "Epoch [152/250]\n"
     ]
    },
    {
     "name": "stderr",
     "output_type": "stream",
     "text": [
      "100%|██████████| 467/467 [00:23<00:00, 19.62it/s, gp=0.0138, loss_dis=0.159]     \n"
     ]
    },
    {
     "name": "stdout",
     "output_type": "stream",
     "text": [
      "Saving Checkpoint\n",
      "Saving Checkpoint\n",
      "Epoch [153/250]\n"
     ]
    },
    {
     "name": "stderr",
     "output_type": "stream",
     "text": [
      "100%|██████████| 467/467 [00:24<00:00, 19.35it/s, gp=0.000948, loss_dis=-0.0311]  \n"
     ]
    },
    {
     "name": "stdout",
     "output_type": "stream",
     "text": [
      "Saving Checkpoint\n",
      "Saving Checkpoint\n",
      "Epoch [154/250]\n"
     ]
    },
    {
     "name": "stderr",
     "output_type": "stream",
     "text": [
      "100%|██████████| 467/467 [00:24<00:00, 18.87it/s, gp=0.000609, loss_dis=-0.0251] \n"
     ]
    },
    {
     "name": "stdout",
     "output_type": "stream",
     "text": [
      "Saving Checkpoint\n",
      "Saving Checkpoint\n",
      "Epoch [155/250]\n"
     ]
    },
    {
     "name": "stderr",
     "output_type": "stream",
     "text": [
      "100%|██████████| 467/467 [00:24<00:00, 19.33it/s, gp=0.00464, loss_dis=-0.0288]  \n"
     ]
    },
    {
     "name": "stdout",
     "output_type": "stream",
     "text": [
      "Saving Checkpoint\n",
      "Saving Checkpoint\n",
      "Epoch [156/250]\n"
     ]
    },
    {
     "name": "stderr",
     "output_type": "stream",
     "text": [
      "100%|██████████| 467/467 [00:23<00:00, 19.73it/s, gp=0.0045, loss_dis=0.0452]    \n"
     ]
    },
    {
     "name": "stdout",
     "output_type": "stream",
     "text": [
      "Saving Checkpoint\n",
      "Saving Checkpoint\n",
      "Epoch [157/250]\n"
     ]
    },
    {
     "name": "stderr",
     "output_type": "stream",
     "text": [
      "100%|██████████| 467/467 [00:24<00:00, 19.41it/s, gp=0.00188, loss_dis=-0.00669] \n"
     ]
    },
    {
     "name": "stdout",
     "output_type": "stream",
     "text": [
      "Saving Checkpoint\n",
      "Saving Checkpoint\n",
      "Epoch [158/250]\n"
     ]
    },
    {
     "name": "stderr",
     "output_type": "stream",
     "text": [
      "100%|██████████| 467/467 [00:23<00:00, 19.53it/s, gp=0.00273, loss_dis=-0.0137]  \n"
     ]
    },
    {
     "name": "stdout",
     "output_type": "stream",
     "text": [
      "Saving Checkpoint\n",
      "Saving Checkpoint\n",
      "Epoch [159/250]\n"
     ]
    },
    {
     "name": "stderr",
     "output_type": "stream",
     "text": [
      "100%|██████████| 467/467 [00:24<00:00, 19.22it/s, gp=0.0105, loss_dis=0.162]     \n"
     ]
    },
    {
     "name": "stdout",
     "output_type": "stream",
     "text": [
      "Saving Checkpoint\n",
      "Saving Checkpoint\n",
      "Epoch [160/250]\n"
     ]
    },
    {
     "name": "stderr",
     "output_type": "stream",
     "text": [
      "100%|██████████| 467/467 [00:24<00:00, 18.74it/s, gp=0.0089, loss_dis=-0.0165]    \n"
     ]
    },
    {
     "name": "stdout",
     "output_type": "stream",
     "text": [
      "Saving Checkpoint\n",
      "Saving Checkpoint\n",
      "Epoch [161/250]\n"
     ]
    },
    {
     "name": "stderr",
     "output_type": "stream",
     "text": [
      "100%|██████████| 467/467 [00:24<00:00, 18.89it/s, gp=0.00129, loss_dis=-0.129]    \n"
     ]
    },
    {
     "name": "stdout",
     "output_type": "stream",
     "text": [
      "Saving Checkpoint\n",
      "Saving Checkpoint\n",
      "Epoch [162/250]\n"
     ]
    },
    {
     "name": "stderr",
     "output_type": "stream",
     "text": [
      "100%|██████████| 467/467 [00:24<00:00, 19.07it/s, gp=0.00536, loss_dis=0.168]    \n"
     ]
    },
    {
     "name": "stdout",
     "output_type": "stream",
     "text": [
      "Saving Checkpoint\n",
      "Saving Checkpoint\n",
      "Epoch [163/250]\n"
     ]
    },
    {
     "name": "stderr",
     "output_type": "stream",
     "text": [
      "100%|██████████| 467/467 [00:24<00:00, 19.40it/s, gp=0.00658, loss_dis=-0.0295]   \n"
     ]
    },
    {
     "name": "stdout",
     "output_type": "stream",
     "text": [
      "Saving Checkpoint\n",
      "Saving Checkpoint\n",
      "Epoch [164/250]\n"
     ]
    },
    {
     "name": "stderr",
     "output_type": "stream",
     "text": [
      "100%|██████████| 467/467 [00:24<00:00, 19.40it/s, gp=0.00179, loss_dis=0.0635]    \n"
     ]
    },
    {
     "name": "stdout",
     "output_type": "stream",
     "text": [
      "Saving Checkpoint\n",
      "Saving Checkpoint\n",
      "Epoch [165/250]\n"
     ]
    },
    {
     "name": "stderr",
     "output_type": "stream",
     "text": [
      "100%|██████████| 467/467 [00:24<00:00, 19.41it/s, gp=0.00129, loss_dis=0.0655]    \n"
     ]
    },
    {
     "name": "stdout",
     "output_type": "stream",
     "text": [
      "Saving Checkpoint\n",
      "Saving Checkpoint\n",
      "Epoch [166/250]\n"
     ]
    },
    {
     "name": "stderr",
     "output_type": "stream",
     "text": [
      "100%|██████████| 467/467 [00:23<00:00, 19.70it/s, gp=0.00236, loss_dis=-0.0139]  \n"
     ]
    },
    {
     "name": "stdout",
     "output_type": "stream",
     "text": [
      "Saving Checkpoint\n",
      "Saving Checkpoint\n",
      "Epoch [167/250]\n"
     ]
    },
    {
     "name": "stderr",
     "output_type": "stream",
     "text": [
      "100%|██████████| 467/467 [00:24<00:00, 18.90it/s, gp=0.00176, loss_dis=0.0358]   \n"
     ]
    },
    {
     "name": "stdout",
     "output_type": "stream",
     "text": [
      "Saving Checkpoint\n",
      "Saving Checkpoint\n",
      "Epoch [168/250]\n"
     ]
    },
    {
     "name": "stderr",
     "output_type": "stream",
     "text": [
      "100%|██████████| 467/467 [00:25<00:00, 18.02it/s, gp=0.0012, loss_dis=-0.147]     \n"
     ]
    },
    {
     "name": "stdout",
     "output_type": "stream",
     "text": [
      "Saving Checkpoint\n",
      "Saving Checkpoint\n",
      "Epoch [169/250]\n"
     ]
    },
    {
     "name": "stderr",
     "output_type": "stream",
     "text": [
      "100%|██████████| 467/467 [00:26<00:00, 17.31it/s, gp=0.00129, loss_dis=-0.138]    \n"
     ]
    },
    {
     "name": "stdout",
     "output_type": "stream",
     "text": [
      "Saving Checkpoint\n",
      "Saving Checkpoint\n",
      "Epoch [170/250]\n"
     ]
    },
    {
     "name": "stderr",
     "output_type": "stream",
     "text": [
      "100%|██████████| 467/467 [00:26<00:00, 17.70it/s, gp=0.00475, loss_dis=0.0234]   \n"
     ]
    },
    {
     "name": "stdout",
     "output_type": "stream",
     "text": [
      "Saving Checkpoint\n",
      "Saving Checkpoint\n",
      "Epoch [171/250]\n"
     ]
    },
    {
     "name": "stderr",
     "output_type": "stream",
     "text": [
      "100%|██████████| 467/467 [00:25<00:00, 18.47it/s, gp=0.00119, loss_dis=-0.00869] \n"
     ]
    },
    {
     "name": "stdout",
     "output_type": "stream",
     "text": [
      "Saving Checkpoint\n",
      "Saving Checkpoint\n",
      "Epoch [172/250]\n"
     ]
    },
    {
     "name": "stderr",
     "output_type": "stream",
     "text": [
      "100%|██████████| 467/467 [00:25<00:00, 18.42it/s, gp=0.00353, loss_dis=0.0333]   \n"
     ]
    },
    {
     "name": "stdout",
     "output_type": "stream",
     "text": [
      "Saving Checkpoint\n",
      "Saving Checkpoint\n",
      "Epoch [173/250]\n"
     ]
    },
    {
     "name": "stderr",
     "output_type": "stream",
     "text": [
      "100%|██████████| 467/467 [00:25<00:00, 18.08it/s, gp=0.00316, loss_dis=-0.00781] \n"
     ]
    },
    {
     "name": "stdout",
     "output_type": "stream",
     "text": [
      "Saving Checkpoint\n",
      "Saving Checkpoint\n",
      "Epoch [174/250]\n"
     ]
    },
    {
     "name": "stderr",
     "output_type": "stream",
     "text": [
      "100%|██████████| 467/467 [00:24<00:00, 18.72it/s, gp=0.00247, loss_dis=-0.0616]  \n"
     ]
    },
    {
     "name": "stdout",
     "output_type": "stream",
     "text": [
      "Saving Checkpoint\n",
      "Saving Checkpoint\n",
      "Epoch [175/250]\n"
     ]
    },
    {
     "name": "stderr",
     "output_type": "stream",
     "text": [
      "100%|██████████| 467/467 [00:25<00:00, 18.58it/s, gp=0.00175, loss_dis=-0.0931]  \n"
     ]
    },
    {
     "name": "stdout",
     "output_type": "stream",
     "text": [
      "Saving Checkpoint\n",
      "Saving Checkpoint\n",
      "Epoch [176/250]\n"
     ]
    },
    {
     "name": "stderr",
     "output_type": "stream",
     "text": [
      "100%|██████████| 467/467 [00:24<00:00, 18.93it/s, gp=0.0057, loss_dis=0.0289]     \n"
     ]
    },
    {
     "name": "stdout",
     "output_type": "stream",
     "text": [
      "Saving Checkpoint\n",
      "Saving Checkpoint\n",
      "Epoch [177/250]\n"
     ]
    },
    {
     "name": "stderr",
     "output_type": "stream",
     "text": [
      "100%|██████████| 467/467 [00:24<00:00, 19.38it/s, gp=0.000983, loss_dis=0.0543]  \n"
     ]
    },
    {
     "name": "stdout",
     "output_type": "stream",
     "text": [
      "Saving Checkpoint\n",
      "Saving Checkpoint\n",
      "Epoch [178/250]\n"
     ]
    },
    {
     "name": "stderr",
     "output_type": "stream",
     "text": [
      "100%|██████████| 467/467 [00:25<00:00, 18.59it/s, gp=0.000713, loss_dis=0.00191]  \n"
     ]
    },
    {
     "name": "stdout",
     "output_type": "stream",
     "text": [
      "Saving Checkpoint\n",
      "Saving Checkpoint\n",
      "Epoch [179/250]\n"
     ]
    },
    {
     "name": "stderr",
     "output_type": "stream",
     "text": [
      "100%|██████████| 467/467 [00:24<00:00, 19.01it/s, gp=0.00482, loss_dis=0.154]    \n"
     ]
    },
    {
     "name": "stdout",
     "output_type": "stream",
     "text": [
      "Saving Checkpoint\n",
      "Saving Checkpoint\n",
      "Epoch [180/250]\n"
     ]
    },
    {
     "name": "stderr",
     "output_type": "stream",
     "text": [
      "100%|██████████| 467/467 [00:24<00:00, 18.77it/s, gp=0.00213, loss_dis=0.111]    \n"
     ]
    },
    {
     "name": "stdout",
     "output_type": "stream",
     "text": [
      "Saving Checkpoint\n",
      "Saving Checkpoint\n",
      "Epoch [181/250]\n"
     ]
    },
    {
     "name": "stderr",
     "output_type": "stream",
     "text": [
      "100%|██████████| 467/467 [00:25<00:00, 18.43it/s, gp=0.00085, loss_dis=0.000372] \n"
     ]
    },
    {
     "name": "stdout",
     "output_type": "stream",
     "text": [
      "Saving Checkpoint\n",
      "Saving Checkpoint\n",
      "Epoch [182/250]\n"
     ]
    },
    {
     "name": "stderr",
     "output_type": "stream",
     "text": [
      "100%|██████████| 467/467 [00:24<00:00, 18.95it/s, gp=0.00122, loss_dis=0.0782]   \n"
     ]
    },
    {
     "name": "stdout",
     "output_type": "stream",
     "text": [
      "Saving Checkpoint\n",
      "Saving Checkpoint\n",
      "Epoch [183/250]\n"
     ]
    },
    {
     "name": "stderr",
     "output_type": "stream",
     "text": [
      "100%|██████████| 467/467 [00:24<00:00, 18.97it/s, gp=0.00552, loss_dis=-0.0618]   \n"
     ]
    },
    {
     "name": "stdout",
     "output_type": "stream",
     "text": [
      "Saving Checkpoint\n",
      "Saving Checkpoint\n",
      "Epoch [184/250]\n"
     ]
    },
    {
     "name": "stderr",
     "output_type": "stream",
     "text": [
      "100%|██████████| 467/467 [00:24<00:00, 18.68it/s, gp=0.00244, loss_dis=0.102]    \n"
     ]
    },
    {
     "name": "stdout",
     "output_type": "stream",
     "text": [
      "Saving Checkpoint\n",
      "Saving Checkpoint\n",
      "Epoch [185/250]\n"
     ]
    },
    {
     "name": "stderr",
     "output_type": "stream",
     "text": [
      "100%|██████████| 467/467 [00:25<00:00, 18.35it/s, gp=0.00124, loss_dis=0.0618]    \n"
     ]
    },
    {
     "name": "stdout",
     "output_type": "stream",
     "text": [
      "Saving Checkpoint\n",
      "Saving Checkpoint\n",
      "Epoch [186/250]\n"
     ]
    },
    {
     "name": "stderr",
     "output_type": "stream",
     "text": [
      "100%|██████████| 467/467 [00:24<00:00, 18.90it/s, gp=0.00284, loss_dis=0.0443]    \n"
     ]
    },
    {
     "name": "stdout",
     "output_type": "stream",
     "text": [
      "Saving Checkpoint\n",
      "Saving Checkpoint\n",
      "Epoch [187/250]\n"
     ]
    },
    {
     "name": "stderr",
     "output_type": "stream",
     "text": [
      "100%|██████████| 467/467 [00:24<00:00, 19.17it/s, gp=0.000787, loss_dis=0.044]   \n"
     ]
    },
    {
     "name": "stdout",
     "output_type": "stream",
     "text": [
      "Saving Checkpoint\n",
      "Saving Checkpoint\n",
      "Epoch [188/250]\n"
     ]
    },
    {
     "name": "stderr",
     "output_type": "stream",
     "text": [
      "100%|██████████| 467/467 [00:25<00:00, 18.66it/s, gp=0.000722, loss_dis=0.0853]   \n"
     ]
    },
    {
     "name": "stdout",
     "output_type": "stream",
     "text": [
      "Saving Checkpoint\n",
      "Saving Checkpoint\n",
      "Epoch [189/250]\n"
     ]
    },
    {
     "name": "stderr",
     "output_type": "stream",
     "text": [
      "100%|██████████| 467/467 [00:23<00:00, 19.71it/s, gp=0.00249, loss_dis=-0.034]   \n"
     ]
    },
    {
     "name": "stdout",
     "output_type": "stream",
     "text": [
      "Saving Checkpoint\n",
      "Saving Checkpoint\n",
      "Epoch [190/250]\n"
     ]
    },
    {
     "name": "stderr",
     "output_type": "stream",
     "text": [
      "100%|██████████| 467/467 [00:23<00:00, 19.95it/s, gp=0.00213, loss_dis=0.0523]    \n"
     ]
    },
    {
     "name": "stdout",
     "output_type": "stream",
     "text": [
      "Saving Checkpoint\n",
      "Saving Checkpoint\n",
      "Epoch [191/250]\n"
     ]
    },
    {
     "name": "stderr",
     "output_type": "stream",
     "text": [
      "100%|██████████| 467/467 [00:23<00:00, 19.84it/s, gp=0.00121, loss_dis=0.0438]    \n"
     ]
    },
    {
     "name": "stdout",
     "output_type": "stream",
     "text": [
      "Saving Checkpoint\n",
      "Saving Checkpoint\n",
      "Epoch [192/250]\n"
     ]
    },
    {
     "name": "stderr",
     "output_type": "stream",
     "text": [
      "100%|██████████| 467/467 [00:24<00:00, 19.39it/s, gp=0.000716, loss_dis=-0.074]   \n"
     ]
    },
    {
     "name": "stdout",
     "output_type": "stream",
     "text": [
      "Saving Checkpoint\n",
      "Saving Checkpoint\n",
      "Epoch [193/250]\n"
     ]
    },
    {
     "name": "stderr",
     "output_type": "stream",
     "text": [
      "100%|██████████| 467/467 [00:24<00:00, 19.10it/s, gp=0.00219, loss_dis=0.104]    \n"
     ]
    },
    {
     "name": "stdout",
     "output_type": "stream",
     "text": [
      "Saving Checkpoint\n",
      "Saving Checkpoint\n",
      "Epoch [194/250]\n"
     ]
    },
    {
     "name": "stderr",
     "output_type": "stream",
     "text": [
      "100%|██████████| 467/467 [00:25<00:00, 18.50it/s, gp=0.000915, loss_dis=0.00267] \n"
     ]
    },
    {
     "name": "stdout",
     "output_type": "stream",
     "text": [
      "Saving Checkpoint\n",
      "Saving Checkpoint\n",
      "Epoch [195/250]\n"
     ]
    },
    {
     "name": "stderr",
     "output_type": "stream",
     "text": [
      "100%|██████████| 467/467 [00:25<00:00, 17.98it/s, gp=0.00121, loss_dis=0.0379]    \n"
     ]
    },
    {
     "name": "stdout",
     "output_type": "stream",
     "text": [
      "Saving Checkpoint\n",
      "Saving Checkpoint\n",
      "Epoch [196/250]\n"
     ]
    },
    {
     "name": "stderr",
     "output_type": "stream",
     "text": [
      "100%|██████████| 467/467 [00:25<00:00, 18.27it/s, gp=0.00126, loss_dis=0.115]     \n"
     ]
    },
    {
     "name": "stdout",
     "output_type": "stream",
     "text": [
      "Saving Checkpoint\n",
      "Saving Checkpoint\n",
      "Epoch [197/250]\n"
     ]
    },
    {
     "name": "stderr",
     "output_type": "stream",
     "text": [
      "100%|██████████| 467/467 [00:25<00:00, 17.99it/s, gp=0.000885, loss_dis=-0.0463] \n"
     ]
    },
    {
     "name": "stdout",
     "output_type": "stream",
     "text": [
      "Saving Checkpoint\n",
      "Saving Checkpoint\n",
      "Epoch [198/250]\n"
     ]
    },
    {
     "name": "stderr",
     "output_type": "stream",
     "text": [
      "100%|██████████| 467/467 [00:24<00:00, 18.82it/s, gp=0.0209, loss_dis=0.063]      \n"
     ]
    },
    {
     "name": "stdout",
     "output_type": "stream",
     "text": [
      "Saving Checkpoint\n",
      "Saving Checkpoint\n",
      "Epoch [199/250]\n"
     ]
    },
    {
     "name": "stderr",
     "output_type": "stream",
     "text": [
      "100%|██████████| 467/467 [00:25<00:00, 18.45it/s, gp=0.00168, loss_dis=-0.0365]  \n"
     ]
    },
    {
     "name": "stdout",
     "output_type": "stream",
     "text": [
      "Saving Checkpoint\n",
      "Saving Checkpoint\n",
      "Epoch [200/250]\n"
     ]
    },
    {
     "name": "stderr",
     "output_type": "stream",
     "text": [
      "100%|██████████| 467/467 [00:25<00:00, 18.56it/s, gp=0.00089, loss_dis=0.167]    \n"
     ]
    },
    {
     "name": "stdout",
     "output_type": "stream",
     "text": [
      "Saving Checkpoint\n",
      "Saving Checkpoint\n",
      "Epoch [201/250]\n"
     ]
    },
    {
     "name": "stderr",
     "output_type": "stream",
     "text": [
      "100%|██████████| 467/467 [00:23<00:00, 19.58it/s, gp=0.00244, loss_dis=-0.0255]   \n"
     ]
    },
    {
     "name": "stdout",
     "output_type": "stream",
     "text": [
      "Saving Checkpoint\n",
      "Saving Checkpoint\n",
      "Epoch [202/250]\n"
     ]
    },
    {
     "name": "stderr",
     "output_type": "stream",
     "text": [
      "100%|██████████| 467/467 [00:24<00:00, 18.83it/s, gp=0.00137, loss_dis=0.0825]   \n"
     ]
    },
    {
     "name": "stdout",
     "output_type": "stream",
     "text": [
      "Saving Checkpoint\n",
      "Saving Checkpoint\n",
      "Epoch [203/250]\n"
     ]
    },
    {
     "name": "stderr",
     "output_type": "stream",
     "text": [
      "100%|██████████| 467/467 [00:24<00:00, 18.72it/s, gp=0.000508, loss_dis=-0.0589]  \n"
     ]
    },
    {
     "name": "stdout",
     "output_type": "stream",
     "text": [
      "Saving Checkpoint\n",
      "Saving Checkpoint\n",
      "Epoch [204/250]\n"
     ]
    },
    {
     "name": "stderr",
     "output_type": "stream",
     "text": [
      "100%|██████████| 467/467 [00:24<00:00, 18.83it/s, gp=0.00433, loss_dis=-0.0858]  \n"
     ]
    },
    {
     "name": "stdout",
     "output_type": "stream",
     "text": [
      "Saving Checkpoint\n",
      "Saving Checkpoint\n",
      "Epoch [205/250]\n"
     ]
    },
    {
     "name": "stderr",
     "output_type": "stream",
     "text": [
      "100%|██████████| 467/467 [00:25<00:00, 18.63it/s, gp=0.000545, loss_dis=-0.112]  \n"
     ]
    },
    {
     "name": "stdout",
     "output_type": "stream",
     "text": [
      "Saving Checkpoint\n",
      "Saving Checkpoint\n",
      "Epoch [206/250]\n"
     ]
    },
    {
     "name": "stderr",
     "output_type": "stream",
     "text": [
      "100%|██████████| 467/467 [00:24<00:00, 18.84it/s, gp=0.00446, loss_dis=-0.0297]   \n"
     ]
    },
    {
     "name": "stdout",
     "output_type": "stream",
     "text": [
      "Saving Checkpoint\n",
      "Saving Checkpoint\n",
      "Epoch [207/250]\n"
     ]
    },
    {
     "name": "stderr",
     "output_type": "stream",
     "text": [
      "100%|██████████| 467/467 [00:24<00:00, 18.85it/s, gp=0.00176, loss_dis=0.0089]    \n"
     ]
    },
    {
     "name": "stdout",
     "output_type": "stream",
     "text": [
      "Saving Checkpoint\n",
      "Saving Checkpoint\n",
      "Epoch [208/250]\n"
     ]
    },
    {
     "name": "stderr",
     "output_type": "stream",
     "text": [
      "100%|██████████| 467/467 [00:24<00:00, 19.24it/s, gp=0.00099, loss_dis=-0.0473]  \n"
     ]
    },
    {
     "name": "stdout",
     "output_type": "stream",
     "text": [
      "Saving Checkpoint\n",
      "Saving Checkpoint\n",
      "Epoch [209/250]\n"
     ]
    },
    {
     "name": "stderr",
     "output_type": "stream",
     "text": [
      "100%|██████████| 467/467 [00:24<00:00, 18.94it/s, gp=0.00224, loss_dis=0.0654]   \n"
     ]
    },
    {
     "name": "stdout",
     "output_type": "stream",
     "text": [
      "Saving Checkpoint\n",
      "Saving Checkpoint\n",
      "Epoch [210/250]\n"
     ]
    },
    {
     "name": "stderr",
     "output_type": "stream",
     "text": [
      "100%|██████████| 467/467 [00:24<00:00, 19.29it/s, gp=0.0188, loss_dis=0.13]       \n"
     ]
    },
    {
     "name": "stdout",
     "output_type": "stream",
     "text": [
      "Saving Checkpoint\n",
      "Saving Checkpoint\n",
      "Epoch [211/250]\n"
     ]
    },
    {
     "name": "stderr",
     "output_type": "stream",
     "text": [
      "100%|██████████| 467/467 [00:24<00:00, 19.06it/s, gp=0.00212, loss_dis=-0.0718]  \n"
     ]
    },
    {
     "name": "stdout",
     "output_type": "stream",
     "text": [
      "Saving Checkpoint\n",
      "Saving Checkpoint\n",
      "Epoch [212/250]\n"
     ]
    },
    {
     "name": "stderr",
     "output_type": "stream",
     "text": [
      "100%|██████████| 467/467 [00:24<00:00, 19.27it/s, gp=0.00247, loss_dis=-0.0403]   \n"
     ]
    },
    {
     "name": "stdout",
     "output_type": "stream",
     "text": [
      "Saving Checkpoint\n",
      "Saving Checkpoint\n",
      "Epoch [213/250]\n"
     ]
    },
    {
     "name": "stderr",
     "output_type": "stream",
     "text": [
      "100%|██████████| 467/467 [00:24<00:00, 19.06it/s, gp=0.0005, loss_dis=-0.0457]    \n"
     ]
    },
    {
     "name": "stdout",
     "output_type": "stream",
     "text": [
      "Saving Checkpoint\n",
      "Saving Checkpoint\n",
      "Epoch [214/250]\n"
     ]
    },
    {
     "name": "stderr",
     "output_type": "stream",
     "text": [
      "100%|██████████| 467/467 [00:24<00:00, 18.80it/s, gp=0.000837, loss_dis=0.0736]  \n"
     ]
    },
    {
     "name": "stdout",
     "output_type": "stream",
     "text": [
      "Saving Checkpoint\n",
      "Saving Checkpoint\n",
      "Epoch [215/250]\n"
     ]
    },
    {
     "name": "stderr",
     "output_type": "stream",
     "text": [
      "100%|██████████| 467/467 [00:23<00:00, 19.55it/s, gp=0.000964, loss_dis=0.0759]   \n"
     ]
    },
    {
     "name": "stdout",
     "output_type": "stream",
     "text": [
      "Saving Checkpoint\n",
      "Saving Checkpoint\n",
      "Epoch [216/250]\n"
     ]
    },
    {
     "name": "stderr",
     "output_type": "stream",
     "text": [
      "100%|██████████| 467/467 [00:25<00:00, 18.53it/s, gp=0.00168, loss_dis=0.0422]   \n"
     ]
    },
    {
     "name": "stdout",
     "output_type": "stream",
     "text": [
      "Saving Checkpoint\n",
      "Saving Checkpoint\n",
      "Epoch [217/250]\n"
     ]
    },
    {
     "name": "stderr",
     "output_type": "stream",
     "text": [
      "100%|██████████| 467/467 [00:25<00:00, 18.42it/s, gp=0.000755, loss_dis=0.152]    \n"
     ]
    },
    {
     "name": "stdout",
     "output_type": "stream",
     "text": [
      "Saving Checkpoint\n",
      "Saving Checkpoint\n",
      "Epoch [218/250]\n"
     ]
    },
    {
     "name": "stderr",
     "output_type": "stream",
     "text": [
      "100%|██████████| 467/467 [00:24<00:00, 19.08it/s, gp=0.00376, loss_dis=0.0971]   \n"
     ]
    },
    {
     "name": "stdout",
     "output_type": "stream",
     "text": [
      "Saving Checkpoint\n",
      "Saving Checkpoint\n",
      "Epoch [219/250]\n"
     ]
    },
    {
     "name": "stderr",
     "output_type": "stream",
     "text": [
      "100%|██████████| 467/467 [00:24<00:00, 18.77it/s, gp=0.014, loss_dis=0.183]      \n"
     ]
    },
    {
     "name": "stdout",
     "output_type": "stream",
     "text": [
      "Saving Checkpoint\n",
      "Saving Checkpoint\n",
      "Epoch [220/250]\n"
     ]
    },
    {
     "name": "stderr",
     "output_type": "stream",
     "text": [
      "100%|██████████| 467/467 [00:25<00:00, 18.65it/s, gp=0.000932, loss_dis=0.122]   \n"
     ]
    },
    {
     "name": "stdout",
     "output_type": "stream",
     "text": [
      "Saving Checkpoint\n",
      "Saving Checkpoint\n",
      "Epoch [221/250]\n"
     ]
    },
    {
     "name": "stderr",
     "output_type": "stream",
     "text": [
      "100%|██████████| 467/467 [00:25<00:00, 18.59it/s, gp=0.00187, loss_dis=0.0395]    \n"
     ]
    },
    {
     "name": "stdout",
     "output_type": "stream",
     "text": [
      "Saving Checkpoint\n",
      "Saving Checkpoint\n",
      "Epoch [222/250]\n"
     ]
    },
    {
     "name": "stderr",
     "output_type": "stream",
     "text": [
      "100%|██████████| 467/467 [00:24<00:00, 19.26it/s, gp=0.0213, loss_dis=0.277]      \n"
     ]
    },
    {
     "name": "stdout",
     "output_type": "stream",
     "text": [
      "Saving Checkpoint\n",
      "Saving Checkpoint\n",
      "Epoch [223/250]\n"
     ]
    },
    {
     "name": "stderr",
     "output_type": "stream",
     "text": [
      "100%|██████████| 467/467 [00:24<00:00, 18.93it/s, gp=0.00344, loss_dis=0.0142]   \n"
     ]
    },
    {
     "name": "stdout",
     "output_type": "stream",
     "text": [
      "Saving Checkpoint\n",
      "Saving Checkpoint\n",
      "Epoch [224/250]\n"
     ]
    },
    {
     "name": "stderr",
     "output_type": "stream",
     "text": [
      "100%|██████████| 467/467 [00:24<00:00, 18.93it/s, gp=0.00598, loss_dis=0.144]    \n"
     ]
    },
    {
     "name": "stdout",
     "output_type": "stream",
     "text": [
      "Saving Checkpoint\n",
      "Saving Checkpoint\n",
      "Epoch [225/250]\n"
     ]
    },
    {
     "name": "stderr",
     "output_type": "stream",
     "text": [
      "100%|██████████| 467/467 [00:25<00:00, 18.67it/s, gp=0.00101, loss_dis=0.000309]  \n"
     ]
    },
    {
     "name": "stdout",
     "output_type": "stream",
     "text": [
      "Saving Checkpoint\n",
      "Saving Checkpoint\n",
      "Epoch [226/250]\n"
     ]
    },
    {
     "name": "stderr",
     "output_type": "stream",
     "text": [
      "100%|██████████| 467/467 [00:24<00:00, 19.01it/s, gp=0.00503, loss_dis=0.0382]    \n"
     ]
    },
    {
     "name": "stdout",
     "output_type": "stream",
     "text": [
      "Saving Checkpoint\n",
      "Saving Checkpoint\n",
      "Epoch [227/250]\n"
     ]
    },
    {
     "name": "stderr",
     "output_type": "stream",
     "text": [
      "100%|██████████| 467/467 [00:24<00:00, 18.90it/s, gp=0.00197, loss_dis=0.031]     \n"
     ]
    },
    {
     "name": "stdout",
     "output_type": "stream",
     "text": [
      "Saving Checkpoint\n",
      "Saving Checkpoint\n",
      "Epoch [228/250]\n"
     ]
    },
    {
     "name": "stderr",
     "output_type": "stream",
     "text": [
      "100%|██████████| 467/467 [00:24<00:00, 18.73it/s, gp=0.000889, loss_dis=0.0259]  \n"
     ]
    },
    {
     "name": "stdout",
     "output_type": "stream",
     "text": [
      "Saving Checkpoint\n",
      "Saving Checkpoint\n",
      "Epoch [229/250]\n"
     ]
    },
    {
     "name": "stderr",
     "output_type": "stream",
     "text": [
      "100%|██████████| 467/467 [00:24<00:00, 19.26it/s, gp=0.000728, loss_dis=0.0591]  \n"
     ]
    },
    {
     "name": "stdout",
     "output_type": "stream",
     "text": [
      "Saving Checkpoint\n",
      "Saving Checkpoint\n",
      "Epoch [230/250]\n"
     ]
    },
    {
     "name": "stderr",
     "output_type": "stream",
     "text": [
      "100%|██████████| 467/467 [00:24<00:00, 19.43it/s, gp=0.00107, loss_dis=0.026]    \n"
     ]
    },
    {
     "name": "stdout",
     "output_type": "stream",
     "text": [
      "Saving Checkpoint\n",
      "Saving Checkpoint\n",
      "Epoch [231/250]\n"
     ]
    },
    {
     "name": "stderr",
     "output_type": "stream",
     "text": [
      "100%|██████████| 467/467 [00:23<00:00, 19.72it/s, gp=0.000929, loss_dis=-0.0218] \n"
     ]
    },
    {
     "name": "stdout",
     "output_type": "stream",
     "text": [
      "Saving Checkpoint\n",
      "Saving Checkpoint\n",
      "Epoch [232/250]\n"
     ]
    },
    {
     "name": "stderr",
     "output_type": "stream",
     "text": [
      "100%|██████████| 467/467 [00:23<00:00, 19.50it/s, gp=0.000862, loss_dis=-0.0276] \n"
     ]
    },
    {
     "name": "stdout",
     "output_type": "stream",
     "text": [
      "Saving Checkpoint\n",
      "Saving Checkpoint\n",
      "Epoch [233/250]\n"
     ]
    },
    {
     "name": "stderr",
     "output_type": "stream",
     "text": [
      "100%|██████████| 467/467 [00:23<00:00, 19.87it/s, gp=0.00692, loss_dis=0.0403]   \n"
     ]
    },
    {
     "name": "stdout",
     "output_type": "stream",
     "text": [
      "Saving Checkpoint\n",
      "Saving Checkpoint\n",
      "Epoch [234/250]\n"
     ]
    },
    {
     "name": "stderr",
     "output_type": "stream",
     "text": [
      "100%|██████████| 467/467 [00:23<00:00, 19.46it/s, gp=0.00514, loss_dis=0.00709]  \n"
     ]
    },
    {
     "name": "stdout",
     "output_type": "stream",
     "text": [
      "Saving Checkpoint\n",
      "Saving Checkpoint\n",
      "Epoch [235/250]\n"
     ]
    },
    {
     "name": "stderr",
     "output_type": "stream",
     "text": [
      "100%|██████████| 467/467 [00:23<00:00, 19.74it/s, gp=0.00212, loss_dis=-0.00468] \n"
     ]
    },
    {
     "name": "stdout",
     "output_type": "stream",
     "text": [
      "Saving Checkpoint\n",
      "Saving Checkpoint\n",
      "Epoch [236/250]\n"
     ]
    },
    {
     "name": "stderr",
     "output_type": "stream",
     "text": [
      "100%|██████████| 467/467 [00:23<00:00, 20.04it/s, gp=0.000715, loss_dis=0.044]   \n"
     ]
    },
    {
     "name": "stdout",
     "output_type": "stream",
     "text": [
      "Saving Checkpoint\n",
      "Saving Checkpoint\n",
      "Epoch [237/250]\n"
     ]
    },
    {
     "name": "stderr",
     "output_type": "stream",
     "text": [
      "100%|██████████| 467/467 [00:23<00:00, 19.94it/s, gp=0.00182, loss_dis=0.0167]   \n"
     ]
    },
    {
     "name": "stdout",
     "output_type": "stream",
     "text": [
      "Saving Checkpoint\n",
      "Saving Checkpoint\n",
      "Epoch [238/250]\n"
     ]
    },
    {
     "name": "stderr",
     "output_type": "stream",
     "text": [
      "100%|██████████| 467/467 [00:23<00:00, 19.89it/s, gp=0.00126, loss_dis=-0.0935]  \n"
     ]
    },
    {
     "name": "stdout",
     "output_type": "stream",
     "text": [
      "Saving Checkpoint\n",
      "Saving Checkpoint\n",
      "Epoch [239/250]\n"
     ]
    },
    {
     "name": "stderr",
     "output_type": "stream",
     "text": [
      "100%|██████████| 467/467 [00:23<00:00, 20.24it/s, gp=0.000925, loss_dis=0.0655]   \n"
     ]
    },
    {
     "name": "stdout",
     "output_type": "stream",
     "text": [
      "Saving Checkpoint\n",
      "Saving Checkpoint\n",
      "Epoch [240/250]\n"
     ]
    },
    {
     "name": "stderr",
     "output_type": "stream",
     "text": [
      "100%|██████████| 467/467 [00:24<00:00, 19.45it/s, gp=0.00125, loss_dis=0.0803]   \n"
     ]
    },
    {
     "name": "stdout",
     "output_type": "stream",
     "text": [
      "Saving Checkpoint\n",
      "Saving Checkpoint\n",
      "Epoch [241/250]\n"
     ]
    },
    {
     "name": "stderr",
     "output_type": "stream",
     "text": [
      "100%|██████████| 467/467 [00:23<00:00, 19.59it/s, gp=0.000689, loss_dis=0.0149]  \n"
     ]
    },
    {
     "name": "stdout",
     "output_type": "stream",
     "text": [
      "Saving Checkpoint\n",
      "Saving Checkpoint\n",
      "Epoch [242/250]\n"
     ]
    },
    {
     "name": "stderr",
     "output_type": "stream",
     "text": [
      "100%|██████████| 467/467 [00:23<00:00, 19.82it/s, gp=0.00127, loss_dis=-0.0203]   \n"
     ]
    },
    {
     "name": "stdout",
     "output_type": "stream",
     "text": [
      "Saving Checkpoint\n",
      "Saving Checkpoint\n",
      "Epoch [243/250]\n"
     ]
    },
    {
     "name": "stderr",
     "output_type": "stream",
     "text": [
      "100%|██████████| 467/467 [00:23<00:00, 19.96it/s, gp=0.00481, loss_dis=-0.00911] \n"
     ]
    },
    {
     "name": "stdout",
     "output_type": "stream",
     "text": [
      "Saving Checkpoint\n",
      "Saving Checkpoint\n",
      "Epoch [244/250]\n"
     ]
    },
    {
     "name": "stderr",
     "output_type": "stream",
     "text": [
      "100%|██████████| 467/467 [00:23<00:00, 19.72it/s, gp=0.00857, loss_dis=0.101]    \n"
     ]
    },
    {
     "name": "stdout",
     "output_type": "stream",
     "text": [
      "Saving Checkpoint\n",
      "Saving Checkpoint\n",
      "Epoch [245/250]\n"
     ]
    },
    {
     "name": "stderr",
     "output_type": "stream",
     "text": [
      "100%|██████████| 467/467 [00:25<00:00, 18.65it/s, gp=0.00907, loss_dis=0.0362]    \n"
     ]
    },
    {
     "name": "stdout",
     "output_type": "stream",
     "text": [
      "Saving Checkpoint\n",
      "Saving Checkpoint\n",
      "Epoch [246/250]\n"
     ]
    },
    {
     "name": "stderr",
     "output_type": "stream",
     "text": [
      "100%|██████████| 467/467 [00:23<00:00, 19.64it/s, gp=0.0011, loss_dis=-0.126]    \n"
     ]
    },
    {
     "name": "stdout",
     "output_type": "stream",
     "text": [
      "Saving Checkpoint\n",
      "Saving Checkpoint\n",
      "Epoch [247/250]\n"
     ]
    },
    {
     "name": "stderr",
     "output_type": "stream",
     "text": [
      "100%|██████████| 467/467 [00:24<00:00, 19.32it/s, gp=0.000384, loss_dis=-0.0501] \n"
     ]
    },
    {
     "name": "stdout",
     "output_type": "stream",
     "text": [
      "Saving Checkpoint\n",
      "Saving Checkpoint\n",
      "Epoch [248/250]\n"
     ]
    },
    {
     "name": "stderr",
     "output_type": "stream",
     "text": [
      "100%|██████████| 467/467 [00:23<00:00, 19.54it/s, gp=0.000689, loss_dis=0.00981] \n"
     ]
    },
    {
     "name": "stdout",
     "output_type": "stream",
     "text": [
      "Saving Checkpoint\n",
      "Saving Checkpoint\n",
      "Epoch [249/250]\n"
     ]
    },
    {
     "name": "stderr",
     "output_type": "stream",
     "text": [
      "100%|██████████| 467/467 [00:24<00:00, 19.15it/s, gp=0.00629, loss_dis=-0.0571]   \n"
     ]
    },
    {
     "name": "stdout",
     "output_type": "stream",
     "text": [
      "Saving Checkpoint\n",
      "Saving Checkpoint\n",
      "Epoch [250/250]\n"
     ]
    },
    {
     "name": "stderr",
     "output_type": "stream",
     "text": [
      "100%|██████████| 467/467 [00:25<00:00, 18.65it/s, gp=0.00343, loss_dis=0.0167]   \n"
     ]
    },
    {
     "name": "stdout",
     "output_type": "stream",
     "text": [
      "Saving Checkpoint\n",
      "Saving Checkpoint\n"
     ]
    }
   ],
   "source": [
    "# models\n",
    "gen = Generator(noise_dim, img_size, channels).to(device)\n",
    "dis = Discriminator(img_size, channels).to(device)\n",
    "\n",
    "# optimizers\n",
    "opt_gen = optim.Adam(gen.parameters(), lr=lr, betas=(0.0, 0.99))\n",
    "opt_dis = optim.Adam(dis.parameters(), lr=lr, betas=(0.0, 0.99))\n",
    "\n",
    "scaler_dis = torch.amp.GradScaler(\"cuda\")\n",
    "scaler_gen = torch.amp.GradScaler(\"cuda\")\n",
    "\n",
    "# load model if retraining\n",
    "if(load_model):\n",
    "    load_checkpoint(gen_save_path, gen, opt_gen, lr)\n",
    "    load_checkpoint(dis_save_path, dis, opt_dis, lr)\n",
    "\n",
    "\n",
    "if(load_model == False): # Train\n",
    "    gen.train()\n",
    "    dis.train()\n",
    "\n",
    "    loader, dataset = get_loader(img_size)\n",
    "\n",
    "    for epoch in range(total_epochs):\n",
    "        print(f\"Epoch [{epoch+1}/{total_epochs}]\")\n",
    "        train_loop(dis, gen, loader, dataset, opt_dis, opt_gen, scaler_gen, scaler_dis, grad_pen)\n",
    "\n",
    "        if(save_model==True):\n",
    "            save_checkpoint(gen, opt_gen, filename=gen_save_path)\n",
    "            save_checkpoint(dis, opt_dis, filename=dis_save_path)\n",
    "            generate_examples(gen, 20)"
   ]
  },
  {
   "cell_type": "code",
   "execution_count": 157,
   "metadata": {},
   "outputs": [],
   "source": [
    "# Display for presentation purposes\n",
    "def display(\n",
    "    images, n=10, size=(20, 3), cmap=\"gray_r\", as_type=\"float32\", save_to=None\n",
    "):\n",
    "    \"\"\"\n",
    "    Displays n random images from each one of the supplied arrays.\n",
    "    \"\"\"\n",
    "\n",
    "    plt.figure(figsize=size)\n",
    "    for i in range(n):\n",
    "        _ = plt.subplot(1, n, i + 1)\n",
    "        plt.imshow((images[i].astype(as_type) + 1) / 2, cmap=cmap)\n",
    "        plt.axis(\"off\")\n",
    "\n",
    "    if save_to:\n",
    "        plt.savefig(save_to)\n",
    "        print(f\"\\nSaved to {save_to}\")\n",
    "\n",
    "    plt.show()\n",
    "\n",
    "\n",
    "def preprocess(img):\n",
    "    img = (img.astype(np.float32) - 127.5)/ 127.5\n",
    "    return img"
   ]
  },
  {
   "cell_type": "code",
   "execution_count": 158,
   "metadata": {},
   "outputs": [],
   "source": [
    "if(load_model):\n",
    "    # Evaluate\n",
    "    generate_examples(gen, 10)\n",
    "\n",
    "    # get directory\n",
    "    cwd = os.getcwd()\n",
    "    path = cwd + \"/basicgan_examples\"\n",
    "    images = []\n",
    "\n",
    "    # get all images\n",
    "    for image in os.listdir(path):\n",
    "        image_path = os.path.join(path, image)\n",
    "        img = cv2.imread(image_path)\n",
    "        if(image is not None):\n",
    "            images.append(img)\n",
    "    \n",
    "    train = list(map(preprocess, images))\n",
    "\n",
    "    display(train[:10])"
   ]
  }
 ],
 "metadata": {
  "kernelspec": {
   "display_name": ".venv",
   "language": "python",
   "name": "python3"
  },
  "language_info": {
   "codemirror_mode": {
    "name": "ipython",
    "version": 3
   },
   "file_extension": ".py",
   "mimetype": "text/x-python",
   "name": "python",
   "nbconvert_exporter": "python",
   "pygments_lexer": "ipython3",
   "version": "3.10.12"
  }
 },
 "nbformat": 4,
 "nbformat_minor": 2
}
