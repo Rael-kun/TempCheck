{
 "cells": [
  {
   "cell_type": "code",
   "execution_count": 118,
   "metadata": {},
   "outputs": [
    {
     "name": "stdout",
     "output_type": "stream",
     "text": [
      "Looking in indexes: https://download.pytorch.org/whl/cu118\n",
      "Requirement already satisfied: torch in /home/dsu/Desktop/Projects/.venv/lib/python3.10/site-packages (2.5.1+cu118)\n",
      "Requirement already satisfied: torchvision in /home/dsu/Desktop/Projects/.venv/lib/python3.10/site-packages (0.20.1+cu118)\n",
      "Requirement already satisfied: torchaudio in /home/dsu/Desktop/Projects/.venv/lib/python3.10/site-packages (2.5.1+cu118)\n",
      "Requirement already satisfied: filelock in /home/dsu/Desktop/Projects/.venv/lib/python3.10/site-packages (from torch) (3.13.1)\n",
      "Requirement already satisfied: typing-extensions>=4.8.0 in /home/dsu/Desktop/Projects/.venv/lib/python3.10/site-packages (from torch) (4.12.2)\n",
      "Requirement already satisfied: networkx in /home/dsu/Desktop/Projects/.venv/lib/python3.10/site-packages (from torch) (3.4.2)\n",
      "Requirement already satisfied: jinja2 in /home/dsu/Desktop/Projects/.venv/lib/python3.10/site-packages (from torch) (3.1.4)\n",
      "Requirement already satisfied: fsspec in /home/dsu/Desktop/Projects/.venv/lib/python3.10/site-packages (from torch) (2024.2.0)\n",
      "Requirement already satisfied: nvidia-cuda-nvrtc-cu11==11.8.89 in /home/dsu/Desktop/Projects/.venv/lib/python3.10/site-packages (from torch) (11.8.89)\n",
      "Requirement already satisfied: nvidia-cuda-runtime-cu11==11.8.89 in /home/dsu/Desktop/Projects/.venv/lib/python3.10/site-packages (from torch) (11.8.89)\n",
      "Requirement already satisfied: nvidia-cuda-cupti-cu11==11.8.87 in /home/dsu/Desktop/Projects/.venv/lib/python3.10/site-packages (from torch) (11.8.87)\n",
      "Requirement already satisfied: nvidia-cudnn-cu11==9.1.0.70 in /home/dsu/Desktop/Projects/.venv/lib/python3.10/site-packages (from torch) (9.1.0.70)\n",
      "Requirement already satisfied: nvidia-cublas-cu11==11.11.3.6 in /home/dsu/Desktop/Projects/.venv/lib/python3.10/site-packages (from torch) (11.11.3.6)\n",
      "Requirement already satisfied: nvidia-cufft-cu11==10.9.0.58 in /home/dsu/Desktop/Projects/.venv/lib/python3.10/site-packages (from torch) (10.9.0.58)\n",
      "Requirement already satisfied: nvidia-curand-cu11==10.3.0.86 in /home/dsu/Desktop/Projects/.venv/lib/python3.10/site-packages (from torch) (10.3.0.86)\n",
      "Requirement already satisfied: nvidia-cusolver-cu11==11.4.1.48 in /home/dsu/Desktop/Projects/.venv/lib/python3.10/site-packages (from torch) (11.4.1.48)\n",
      "Requirement already satisfied: nvidia-cusparse-cu11==11.7.5.86 in /home/dsu/Desktop/Projects/.venv/lib/python3.10/site-packages (from torch) (11.7.5.86)\n",
      "Requirement already satisfied: nvidia-nccl-cu11==2.21.5 in /home/dsu/Desktop/Projects/.venv/lib/python3.10/site-packages (from torch) (2.21.5)\n",
      "Requirement already satisfied: nvidia-nvtx-cu11==11.8.86 in /home/dsu/Desktop/Projects/.venv/lib/python3.10/site-packages (from torch) (11.8.86)\n",
      "Requirement already satisfied: triton==3.1.0 in /home/dsu/Desktop/Projects/.venv/lib/python3.10/site-packages (from torch) (3.1.0)\n",
      "Requirement already satisfied: sympy==1.13.1 in /home/dsu/Desktop/Projects/.venv/lib/python3.10/site-packages (from torch) (1.13.1)\n",
      "Requirement already satisfied: mpmath<1.4,>=1.1.0 in /home/dsu/Desktop/Projects/.venv/lib/python3.10/site-packages (from sympy==1.13.1->torch) (1.3.0)\n",
      "Requirement already satisfied: numpy in /home/dsu/Desktop/Projects/.venv/lib/python3.10/site-packages (from torchvision) (1.26.4)\n",
      "Requirement already satisfied: pillow!=8.3.*,>=5.3.0 in /home/dsu/Desktop/Projects/.venv/lib/python3.10/site-packages (from torchvision) (11.0.0)\n",
      "Requirement already satisfied: MarkupSafe>=2.0 in /home/dsu/Desktop/Projects/.venv/lib/python3.10/site-packages (from jinja2->torch) (3.0.2)\n"
     ]
    }
   ],
   "source": [
    "!pip3 install torch torchvision torchaudio --index-url https://download.pytorch.org/whl/cu118"
   ]
  },
  {
   "cell_type": "markdown",
   "metadata": {},
   "source": [
    "# Libraries"
   ]
  },
  {
   "cell_type": "code",
   "execution_count": 119,
   "metadata": {},
   "outputs": [],
   "source": [
    "# torch stuff\n",
    "import torch\n",
    "import torch.optim as optim\n",
    "import torchvision.datasets as datasets\n",
    "import torchvision.transforms as transforms\n",
    "from torch.utils.data import DataLoader\n",
    "import torch.nn as nn\n",
    "import torch.nn.functional as F\n",
    "\n",
    "# needed for model\n",
    "from math import log2\n",
    "from tqdm import tqdm\n",
    "import random\n",
    "import numpy as np\n",
    "import cv2\n",
    "import os\n",
    "import matplotlib.pyplot as plt\n",
    "import torchvision\n",
    "from torchvision.utils import save_image"
   ]
  },
  {
   "cell_type": "markdown",
   "metadata": {},
   "source": [
    "# ProGAN Variables"
   ]
  },
  {
   "cell_type": "code",
   "execution_count": 120,
   "metadata": {},
   "outputs": [],
   "source": [
    "# scaling of blocks\n",
    "factors = [1, 1, 1/2, 1/4, 1/8]\n",
    "# this is what ProGAN starts generating, not actual image size\n",
    "starting_img_size = 4\n",
    "datapath= \"/home/dsu/Desktop/Projects/FinalProject/cat_imgs\"\n",
    "\n",
    "gen_save_path = \"generator.pth\"\n",
    "dis_save_path = \"discriminator.pth\"\n",
    "\n",
    "if(torch.cuda.is_available()):\n",
    "    device = \"cuda\"\n",
    "else:\n",
    "    print(\"Warning! Using CPU!\")\n",
    "    device = \"cpu\"\n",
    "\n",
    "# If load_model is False, model will train. \n",
    "# If load_model is true, no training will happen, only display generated images\n",
    "save_model = True\n",
    "load_model = False\n",
    "\n",
    "lr = 1e-3\n",
    "layer_batch_size = [16, 16, 16, 16, 8]\n",
    "\n",
    "noise_dim = 100\n",
    "img_size = 64\n",
    "channels = 3\n",
    "\n",
    "layer_epochs = [30] * len(layer_batch_size)"
   ]
  },
  {
   "cell_type": "markdown",
   "metadata": {},
   "source": [
    "# Create ProGAN Pieces"
   ]
  },
  {
   "cell_type": "code",
   "execution_count": 121,
   "metadata": {},
   "outputs": [],
   "source": [
    "# Weight Scaled Conv2d\n",
    "# This is required for the progan, as the transition from different resolutions will\n",
    "# affect the gradients (4x4 to 8x8, for example)\n",
    "class WSConv2d(nn.Module):\n",
    "    def __init__(self, in_channels, out_channels, kernel_size=3, stride=1, padding=1, gain=2):\n",
    "        super(WSConv2d, self).__init__()\n",
    "        self.conv = nn.Conv2d(in_channels, out_channels, kernel_size, stride, padding)\n",
    "        self.scale = (gain / (in_channels * kernel_size ** 2)) ** 0.5\n",
    "        # bias should not be scaled\n",
    "        self.bias = self.conv.bias\n",
    "        self.conv.bias = None\n",
    "\n",
    "        # init conv layer\n",
    "        nn.init.normal_(self.conv.weight)\n",
    "        nn.init.zeros_(self.bias)\n",
    "\n",
    "    def forward(self, x):\n",
    "        return self.conv(x * self.scale) + self.bias.view(1, self.bias.shape[0], 1, 1)"
   ]
  },
  {
   "cell_type": "code",
   "execution_count": 122,
   "metadata": {},
   "outputs": [],
   "source": [
    "class PixelNorm(nn.Module):\n",
    "    # replacement for batch norm, needed because different size outputs must be normed properly\n",
    "    def __init__(self):\n",
    "        super(PixelNorm, self).__init__()\n",
    "        # avoid division by 0 error\n",
    "        self.epsilon = 1e-8\n",
    "\n",
    "    def forward(self, x):\n",
    "        return x / torch.sqrt(torch.mean(x**2, dim=1, keepdim=True) + self.epsilon)"
   ]
  },
  {
   "cell_type": "code",
   "execution_count": 123,
   "metadata": {},
   "outputs": [],
   "source": [
    "# Block layers for scaling up or down the images to different resolutions\n",
    "class ConvBlock(nn.Module):\n",
    "    def __init__(self, in_channels, out_channels, pixelnorm=True):\n",
    "        super(ConvBlock, self).__init__()\n",
    "        self.conv1 = WSConv2d(in_channels, out_channels)\n",
    "        self.conv2 = WSConv2d(out_channels, out_channels)\n",
    "        self.relu = nn.LeakyReLU(0.2)\n",
    "        self.pn = PixelNorm()\n",
    "        self.use_pn = pixelnorm\n",
    "\n",
    "    def forward(self, x):\n",
    "        x = self.conv1(x)\n",
    "        x = self.relu(x)\n",
    "        if(self.use_pn):\n",
    "            x = self.pn(x)\n",
    "        x = self.conv2(x)\n",
    "        x = self.relu(x)\n",
    "        if(self.use_pn):\n",
    "            x = self.pn(x)\n",
    "        return x"
   ]
  },
  {
   "cell_type": "markdown",
   "metadata": {},
   "source": [
    "# Generator"
   ]
  },
  {
   "cell_type": "code",
   "execution_count": 124,
   "metadata": {},
   "outputs": [],
   "source": [
    "class Generator(nn.Module):\n",
    "    def __init__(self, noise_dim, in_channels, img_channels=3):\n",
    "        super(Generator, self).__init__()\n",
    "        # scale 1x1 to 4x4, just like in the progan paper\n",
    "        # need this before beginning convolutions\n",
    "        self.initial = nn.Sequential(\n",
    "            PixelNorm(),\n",
    "            nn.ConvTranspose2d(noise_dim, in_channels, 4, 1, 0),\n",
    "            nn.LeakyReLU(0.2),\n",
    "            WSConv2d(in_channels, in_channels, kernel_size=3, stride=1, padding=1),\n",
    "            nn.LeakyReLU(0.2),\n",
    "            PixelNorm()\n",
    "        )\n",
    "        # rgb block just gets it back into colored image, this is done after the final\n",
    "        # block (which changes as the progan is trained) and is used for fade in\n",
    "        self.initial_rgb = WSConv2d(in_channels, img_channels, kernel_size=1, stride=1, padding=0)\n",
    "\n",
    "        # create the actual generator blocks and rgb layers\n",
    "        self.prog_blocks, self.rgb_layers = nn.ModuleList([]), nn.ModuleList([self.initial_rgb])\n",
    "\n",
    "        # for each factor, create a scaled block\n",
    "        # paper has repeated blocks of 512 before halfing each time, hense the 1's in factor\n",
    "        for i in range(len(factors) - 1):\n",
    "            conv_in_chan = int(in_channels * factors[i])\n",
    "            conv_out_chan = int(in_channels * factors[i+1])\n",
    "            self.prog_blocks.append(ConvBlock(conv_in_chan, conv_out_chan))\n",
    "            self.rgb_layers.append(WSConv2d(conv_out_chan, img_channels, kernel_size=1, stride=1, padding=0))\n",
    "\n",
    "    # get inbetween representation (alpha is fade-in strength)\n",
    "    def fade_in(self, alpha, upscaled, generated):\n",
    "        return torch.tanh(alpha * generated + (1-alpha) * upscaled)\n",
    "    \n",
    "    def forward(self, x, alpha, steps):\n",
    "        # for each step, increase size. 0:4x4, 1:8x8, ... 4:64x64\n",
    "        out = self.initial(x)\n",
    "\n",
    "        if(steps == 0):\n",
    "            # if steps is 0, just return the rgb representation of the 4x4\n",
    "            return self.initial_rgb(out)\n",
    "        \n",
    "        for step in range(steps):\n",
    "            # upsample, then run through blocks\n",
    "            upsample = F.interpolate(out, scale_factor=2, mode=\"nearest\")\n",
    "            out = self.prog_blocks[step](upsample)\n",
    "\n",
    "        # use the rgb layer before so that it gets the rgb from the last step\n",
    "        # if currently on 32x32, this gets 16x16 so the fade-in process can happen\n",
    "        upsample_final = self.rgb_layers[steps-1](upsample)\n",
    "        output_final = self.rgb_layers[steps](out)\n",
    "\n",
    "        return self.fade_in(alpha, upsample_final, output_final)"
   ]
  },
  {
   "cell_type": "markdown",
   "metadata": {},
   "source": [
    "# Discriminator"
   ]
  },
  {
   "cell_type": "code",
   "execution_count": 125,
   "metadata": {},
   "outputs": [],
   "source": [
    "class Discriminator(nn.Module):\n",
    "    def __init__(self, in_channels, img_channels=3):\n",
    "        super(Discriminator, self).__init__()\n",
    "        # create prog blocks (reverse order from discriminator)\n",
    "        self.prog_blocks, self.rgb_layers = nn.ModuleList([]), nn.ModuleList([])\n",
    "        self.relu = nn.LeakyReLU(0.2)\n",
    "\n",
    "        # go backwards from factors until you reach 0\n",
    "        for i in range(len(factors) - 1, 0, -1):\n",
    "            conv_in_chan = int(in_channels * factors[i])\n",
    "            conv_out_chan = int(in_channels * factors[i-1])\n",
    "            self.prog_blocks.append(ConvBlock(conv_in_chan, conv_out_chan, pixelnorm=False))\n",
    "            self.rgb_layers.append(WSConv2d(img_channels, conv_in_chan, kernel_size=1, stride=1, padding=0))\n",
    "\n",
    "        # this is a conversion from the 4x4 image\n",
    "        self.final_rgb = WSConv2d(img_channels, in_channels, kernel_size=1, stride=1, padding=0)\n",
    "        self.rgb_layers.append(self.final_rgb)\n",
    "        self.avg_pool = nn.AvgPool2d(kernel_size=2, stride=2)\n",
    "\n",
    "        # no flatten/dense needed if you are smart about it\n",
    "        self.final_block = nn.Sequential(\n",
    "            WSConv2d(in_channels+1, in_channels, kernel_size=3, stride=1, padding=1),\n",
    "            nn.LeakyReLU(0.2),\n",
    "            WSConv2d(in_channels, in_channels, kernel_size=4, stride=1, padding=0),\n",
    "            nn.LeakyReLU(0.2),\n",
    "            WSConv2d(in_channels, 1, kernel_size=1, stride=1, padding=0)\n",
    "        )\n",
    "\n",
    "    def fade_in(self, alpha, downsampled, out):\n",
    "        return alpha * out + (1 - alpha) * downsampled\n",
    "\n",
    "    def minibatch_std(self, x):\n",
    "        # gets std dev for every x, goes for a single value, that repeated\n",
    "        # this can smooth the trainsition between resolutions\n",
    "        batch_stats = torch.std(x, dim=0).mean().repeat(x.shape[0], 1, x.shape[2], x.shape[3]) # example given: N x C x H x W -> N\n",
    "        return torch.cat([x, batch_stats], dim=1) # goes from 512 to 513 in paper\n",
    "\n",
    "    def forward(self, x, alpha, steps):\n",
    "        # since the prog_blocks list is inverted in the discriminator, we want the last\n",
    "        # block when we are on the final step, so invert steps to get this\n",
    "        cur_step = len(self.prog_blocks) - steps\n",
    "        out = self.relu(self.rgb_layers[cur_step](x))\n",
    "\n",
    "        if(steps == 0):\n",
    "            out = self.minibatch_std(out)\n",
    "            return self.final_block(out).view(out.shape[0], -1)\n",
    "        \n",
    "        # fade in done in the end of a generator step, so it must be done in the\n",
    "        # beginning of the discriminator step\n",
    "        # refer to image in paper, this is complicated\n",
    "        # the avg_pool represents the 0.5x of the downsampling area\n",
    "        downsampled = self.relu(self.rgb_layers[cur_step+1](self.avg_pool(x)))\n",
    "        out = self.avg_pool(self.prog_blocks[cur_step](out))\n",
    "        out = self.fade_in(alpha, downsampled, out)\n",
    "\n",
    "        # already finished first step, so\n",
    "        for step in range(cur_step+1, len(self.prog_blocks)):\n",
    "            out = self.prog_blocks[step](out)\n",
    "            out = self.avg_pool(out)\n",
    "\n",
    "        out = self.minibatch_std(out)\n",
    "        return self.final_block(out).view(out.shape[0], -1)"
   ]
  },
  {
   "cell_type": "markdown",
   "metadata": {},
   "source": [
    "# Utility Functions"
   ]
  },
  {
   "cell_type": "code",
   "execution_count": 126,
   "metadata": {},
   "outputs": [],
   "source": [
    "# Gradient penalty is used so that the discriminator loss won't deviate that much.\n",
    "# This enforces consistent training, so that the discriminator won't learn to much or\n",
    "# too little.\n",
    "def gradient_penalty(discriminator, real, fake, alpha, train_step, device=\"cpu\"):\n",
    "    batch_size, chan, height, width = real.shape\n",
    "    beta = torch.rand((batch_size, 1, 1, 1)).repeat(1, chan, height, width).to(device)\n",
    "\n",
    "    interpolated_images = real * beta + fake.detach() * (1 - beta)\n",
    "    interpolated_images.requires_grad_(True)\n",
    "\n",
    "    # Calculate discriminator scores\n",
    "    mixed_scores = discriminator(interpolated_images, alpha, train_step)\n",
    "\n",
    "    # Get gradient for the scores (graph needed here because of gradient penalty)\n",
    "    gradient = torch.autograd.grad(\n",
    "        inputs=interpolated_images,\n",
    "        outputs=mixed_scores,\n",
    "        grad_outputs=torch.ones_like(mixed_scores),\n",
    "        create_graph=True,\n",
    "        retain_graph=True,\n",
    "    )[0]\n",
    "    gradient = gradient.view(gradient.shape[0], -1)\n",
    "    gradient_norm = gradient.norm(2, dim=1)\n",
    "    gradient_penalty = torch.mean((gradient_norm - 1) ** 2)\n",
    "    return gradient_penalty\n",
    "\n",
    "\n",
    "def save_checkpoint(model, optimizer, filename=\"checkpoint.pth.tar\"):\n",
    "    print(\"Saving Checkpoint\")\n",
    "    checkpoint = {\n",
    "        \"state_dict\": model.state_dict(),\n",
    "        \"optimizer\": optimizer.state_dict()\n",
    "    }\n",
    "    torch.save(checkpoint, filename)\n",
    "\n",
    "def load_checkpoint(checkpoint_file, model, optimizer, lr):\n",
    "    print(\"Loading Checkpoint\")\n",
    "    checkpoint = torch.load(checkpoint_file, map_location=\"cuda\")\n",
    "    model.load_state_dict(checkpoint[\"state_dict\"])\n",
    "    optimizer.load_state_dict(checkpoint[\"optimizer\"])\n",
    "\n",
    "    # learning rate saved just in case training afterwards\n",
    "    for param_group in optimizer.param_groups:\n",
    "        param_group[\"lr\"] = lr\n",
    "\n",
    "\n",
    "def generate_examples(gen, steps, n=100, alpha=1.0):\n",
    "    gen.eval()\n",
    "    for i in range(n):\n",
    "        with torch.no_grad():\n",
    "            noise = torch.randn(1, noise_dim, 1, 1).to(device)\n",
    "            img = gen(noise, alpha, steps)\n",
    "            save_image(img * 0.5 + 0.5, f'progan_examples/step_{steps}_img_{i}.png')\n",
    "\n",
    "    gen.train()\n"
   ]
  },
  {
   "cell_type": "markdown",
   "metadata": {},
   "source": [
    "# Training can happen now"
   ]
  },
  {
   "cell_type": "code",
   "execution_count": 127,
   "metadata": {},
   "outputs": [],
   "source": [
    "# Will hopefully speedup since I'm using images of the same resolution for training\n",
    "torch.backends.cudnn.benchmarks = True\n",
    "\n",
    "# Custom batch loader since I am using variable batch sizes at each step\n",
    "def get_loader(image_size):\n",
    "    transform = transforms.Compose(\n",
    "        [\n",
    "            transforms.Resize((image_size, image_size)),\n",
    "            transforms.ToTensor(),\n",
    "            transforms.RandomHorizontalFlip(p=0.5),\n",
    "            transforms.Normalize(\n",
    "                [0.5 for _ in range(channels)],\n",
    "                [0.5 for _ in range(channels)]\n",
    "            )\n",
    "        ]\n",
    "    )\n",
    "    batch_size = layer_batch_size[int(log2(image_size / 4))]\n",
    "    dataset = datasets.ImageFolder(root=datapath, transform=transform)\n",
    "    loader = DataLoader(\n",
    "        dataset,\n",
    "        batch_size=batch_size,\n",
    "        shuffle=True,\n",
    "        num_workers=4,\n",
    "        pin_memory=True\n",
    "    )\n",
    "\n",
    "    return loader, dataset\n",
    "\n",
    "\n",
    "# Training loop\n",
    "def train_loop(dis, gen, loader, dataset, step, alpha, opt_dis, opt_gen, scaler_gen, scaler_dis):\n",
    "    loop = tqdm(loader, leave=True)\n",
    "    for batch_index, (real, _) in enumerate(loop):\n",
    "        real = real.to(device)\n",
    "        cur_batch_size = real.shape[0]\n",
    "\n",
    "        # Train Discriminator\n",
    "        noise = torch.randn(cur_batch_size, noise_dim, 1, 1).to(device)\n",
    "\n",
    "        with torch.amp.autocast(\"cuda\"):\n",
    "            fake = gen(noise, alpha, step)\n",
    "            dis_real = dis(real, alpha, step)\n",
    "            dis_fake = dis(fake.detach(), alpha, step)\n",
    "            gp = gradient_penalty(dis, real, fake, alpha, step, device)\n",
    "            # minimize mistakes\n",
    "            loss_dis = (\n",
    "                -(torch.mean(dis_real) - torch.mean(dis_fake))\n",
    "                + 10 * gp\n",
    "                + (0.001 * torch.mean(dis_real ** 2))\n",
    "            )\n",
    "\n",
    "        opt_dis.zero_grad()\n",
    "        scaler_dis.scale(loss_dis).backward()\n",
    "        scaler_dis.step(opt_dis)\n",
    "        scaler_dis.update()\n",
    "\n",
    "        # Train Generator:\n",
    "        with torch.amp.autocast(\"cuda\"):\n",
    "            gen_fake = dis(fake, alpha, step)\n",
    "            loss_gen = -torch.mean(gen_fake)\n",
    "\n",
    "        opt_gen.zero_grad()\n",
    "        scaler_gen.scale(loss_gen).backward()\n",
    "        scaler_gen.step(opt_gen)\n",
    "        scaler_gen.update()\n",
    "\n",
    "        # Fade in will start at low, move to 1 by the end of the training\n",
    "        alpha += cur_batch_size / (len(dataset) * layer_epochs[step]*0.5)\n",
    "        alpha = min(alpha, 1)\n",
    "\n",
    "        # show losses in tqdm\n",
    "        loop.set_postfix(\n",
    "            gp=gp.item(),\n",
    "            loss_dis=loss_dis.item(),\n",
    "        )\n",
    "\n",
    "    return alpha"
   ]
  },
  {
   "cell_type": "code",
   "execution_count": 128,
   "metadata": {},
   "outputs": [
    {
     "name": "stdout",
     "output_type": "stream",
     "text": [
      "Image Size: 4\n",
      "Epoch [1/30]\n"
     ]
    },
    {
     "name": "stderr",
     "output_type": "stream",
     "text": [
      "  0%|          | 0/1866 [00:00<?, ?it/s]"
     ]
    },
    {
     "name": "stderr",
     "output_type": "stream",
     "text": [
      "100%|██████████| 1866/1866 [01:03<00:00, 29.26it/s, gp=0.00238, loss_dis=-0.328]  \n"
     ]
    },
    {
     "name": "stdout",
     "output_type": "stream",
     "text": [
      "Saving Checkpoint\n",
      "Saving Checkpoint\n",
      "Epoch [2/30]\n"
     ]
    },
    {
     "name": "stderr",
     "output_type": "stream",
     "text": [
      "100%|██████████| 1866/1866 [00:55<00:00, 33.44it/s, gp=0.00631, loss_dis=-0.101]  \n"
     ]
    },
    {
     "name": "stdout",
     "output_type": "stream",
     "text": [
      "Saving Checkpoint\n",
      "Saving Checkpoint\n",
      "Epoch [3/30]\n"
     ]
    },
    {
     "name": "stderr",
     "output_type": "stream",
     "text": [
      "100%|██████████| 1866/1866 [00:53<00:00, 34.74it/s, gp=0.0266, loss_dis=0.226]     \n"
     ]
    },
    {
     "name": "stdout",
     "output_type": "stream",
     "text": [
      "Saving Checkpoint\n",
      "Saving Checkpoint\n",
      "Epoch [4/30]\n"
     ]
    },
    {
     "name": "stderr",
     "output_type": "stream",
     "text": [
      "100%|██████████| 1866/1866 [00:56<00:00, 33.24it/s, gp=0.0115, loss_dis=0.132]     \n"
     ]
    },
    {
     "name": "stdout",
     "output_type": "stream",
     "text": [
      "Saving Checkpoint\n",
      "Saving Checkpoint\n",
      "Epoch [5/30]\n"
     ]
    },
    {
     "name": "stderr",
     "output_type": "stream",
     "text": [
      "100%|██████████| 1866/1866 [00:56<00:00, 33.19it/s, gp=0.0122, loss_dis=0.487]    \n"
     ]
    },
    {
     "name": "stdout",
     "output_type": "stream",
     "text": [
      "Saving Checkpoint\n",
      "Saving Checkpoint\n",
      "Epoch [6/30]\n"
     ]
    },
    {
     "name": "stderr",
     "output_type": "stream",
     "text": [
      "100%|██████████| 1866/1866 [00:55<00:00, 33.50it/s, gp=0.0186, loss_dis=0.28]     \n"
     ]
    },
    {
     "name": "stdout",
     "output_type": "stream",
     "text": [
      "Saving Checkpoint\n",
      "Saving Checkpoint\n",
      "Epoch [7/30]\n"
     ]
    },
    {
     "name": "stderr",
     "output_type": "stream",
     "text": [
      "100%|██████████| 1866/1866 [00:55<00:00, 33.69it/s, gp=0.0106, loss_dis=-0.0599]  \n"
     ]
    },
    {
     "name": "stdout",
     "output_type": "stream",
     "text": [
      "Saving Checkpoint\n",
      "Saving Checkpoint\n",
      "Epoch [8/30]\n"
     ]
    },
    {
     "name": "stderr",
     "output_type": "stream",
     "text": [
      "100%|██████████| 1866/1866 [00:55<00:00, 33.46it/s, gp=0.00658, loss_dis=0.0631]  \n"
     ]
    },
    {
     "name": "stdout",
     "output_type": "stream",
     "text": [
      "Saving Checkpoint\n",
      "Saving Checkpoint\n",
      "Epoch [9/30]\n"
     ]
    },
    {
     "name": "stderr",
     "output_type": "stream",
     "text": [
      "100%|██████████| 1866/1866 [00:55<00:00, 33.42it/s, gp=0.0104, loss_dis=0.224]    \n"
     ]
    },
    {
     "name": "stdout",
     "output_type": "stream",
     "text": [
      "Saving Checkpoint\n",
      "Saving Checkpoint\n",
      "Epoch [10/30]\n"
     ]
    },
    {
     "name": "stderr",
     "output_type": "stream",
     "text": [
      "100%|██████████| 1866/1866 [00:53<00:00, 34.87it/s, gp=0.0593, loss_dis=0.578]    \n"
     ]
    },
    {
     "name": "stdout",
     "output_type": "stream",
     "text": [
      "Saving Checkpoint\n",
      "Saving Checkpoint\n",
      "Epoch [11/30]\n"
     ]
    },
    {
     "name": "stderr",
     "output_type": "stream",
     "text": [
      "100%|██████████| 1866/1866 [00:54<00:00, 34.35it/s, gp=0.00347, loss_dis=0.0734]  \n"
     ]
    },
    {
     "name": "stdout",
     "output_type": "stream",
     "text": [
      "Saving Checkpoint\n",
      "Saving Checkpoint\n",
      "Epoch [12/30]\n"
     ]
    },
    {
     "name": "stderr",
     "output_type": "stream",
     "text": [
      "100%|██████████| 1866/1866 [00:55<00:00, 33.90it/s, gp=0.017, loss_dis=0.508]      \n"
     ]
    },
    {
     "name": "stdout",
     "output_type": "stream",
     "text": [
      "Saving Checkpoint\n",
      "Saving Checkpoint\n",
      "Epoch [13/30]\n"
     ]
    },
    {
     "name": "stderr",
     "output_type": "stream",
     "text": [
      "100%|██████████| 1866/1866 [00:55<00:00, 33.48it/s, gp=0.00186, loss_dis=-0.177]  \n"
     ]
    },
    {
     "name": "stdout",
     "output_type": "stream",
     "text": [
      "Saving Checkpoint\n",
      "Saving Checkpoint\n",
      "Epoch [14/30]\n"
     ]
    },
    {
     "name": "stderr",
     "output_type": "stream",
     "text": [
      "100%|██████████| 1866/1866 [00:55<00:00, 33.51it/s, gp=0.0213, loss_dis=0.0904]    \n"
     ]
    },
    {
     "name": "stdout",
     "output_type": "stream",
     "text": [
      "Saving Checkpoint\n",
      "Saving Checkpoint\n",
      "Epoch [15/30]\n"
     ]
    },
    {
     "name": "stderr",
     "output_type": "stream",
     "text": [
      "100%|██████████| 1866/1866 [00:58<00:00, 31.89it/s, gp=0.0281, loss_dis=0.648]     \n"
     ]
    },
    {
     "name": "stdout",
     "output_type": "stream",
     "text": [
      "Saving Checkpoint\n",
      "Saving Checkpoint\n",
      "Epoch [16/30]\n"
     ]
    },
    {
     "name": "stderr",
     "output_type": "stream",
     "text": [
      "100%|██████████| 1866/1866 [00:55<00:00, 33.57it/s, gp=0.00339, loss_dis=0.231]   \n"
     ]
    },
    {
     "name": "stdout",
     "output_type": "stream",
     "text": [
      "Saving Checkpoint\n",
      "Saving Checkpoint\n",
      "Epoch [17/30]\n"
     ]
    },
    {
     "name": "stderr",
     "output_type": "stream",
     "text": [
      "100%|██████████| 1866/1866 [00:56<00:00, 32.77it/s, gp=0.0384, loss_dis=0.618]    \n"
     ]
    },
    {
     "name": "stdout",
     "output_type": "stream",
     "text": [
      "Saving Checkpoint\n",
      "Saving Checkpoint\n",
      "Epoch [18/30]\n"
     ]
    },
    {
     "name": "stderr",
     "output_type": "stream",
     "text": [
      "100%|██████████| 1866/1866 [00:54<00:00, 34.47it/s, gp=0.00453, loss_dis=0.223]   \n"
     ]
    },
    {
     "name": "stdout",
     "output_type": "stream",
     "text": [
      "Saving Checkpoint\n",
      "Saving Checkpoint\n",
      "Epoch [19/30]\n"
     ]
    },
    {
     "name": "stderr",
     "output_type": "stream",
     "text": [
      "100%|██████████| 1866/1866 [00:59<00:00, 31.59it/s, gp=0.00738, loss_dis=0.111]    \n"
     ]
    },
    {
     "name": "stdout",
     "output_type": "stream",
     "text": [
      "Saving Checkpoint\n",
      "Saving Checkpoint\n",
      "Epoch [20/30]\n"
     ]
    },
    {
     "name": "stderr",
     "output_type": "stream",
     "text": [
      "100%|██████████| 1866/1866 [01:02<00:00, 30.05it/s, gp=0.000729, loss_dis=0.0816]  \n"
     ]
    },
    {
     "name": "stdout",
     "output_type": "stream",
     "text": [
      "Saving Checkpoint\n",
      "Saving Checkpoint\n",
      "Epoch [21/30]\n"
     ]
    },
    {
     "name": "stderr",
     "output_type": "stream",
     "text": [
      "100%|██████████| 1866/1866 [01:11<00:00, 26.24it/s, gp=0.0151, loss_dis=0.248]     \n"
     ]
    },
    {
     "name": "stdout",
     "output_type": "stream",
     "text": [
      "Saving Checkpoint\n",
      "Saving Checkpoint\n",
      "Epoch [22/30]\n"
     ]
    },
    {
     "name": "stderr",
     "output_type": "stream",
     "text": [
      "100%|██████████| 1866/1866 [01:10<00:00, 26.49it/s, gp=0.00113, loss_dis=-0.148]   \n"
     ]
    },
    {
     "name": "stdout",
     "output_type": "stream",
     "text": [
      "Saving Checkpoint\n",
      "Saving Checkpoint\n",
      "Epoch [23/30]\n"
     ]
    },
    {
     "name": "stderr",
     "output_type": "stream",
     "text": [
      "100%|██████████| 1866/1866 [01:02<00:00, 29.84it/s, gp=0.0342, loss_dis=-0.14]     \n"
     ]
    },
    {
     "name": "stdout",
     "output_type": "stream",
     "text": [
      "Saving Checkpoint\n",
      "Saving Checkpoint\n",
      "Epoch [24/30]\n"
     ]
    },
    {
     "name": "stderr",
     "output_type": "stream",
     "text": [
      "100%|██████████| 1866/1866 [01:04<00:00, 28.76it/s, gp=0.000921, loss_dis=0.186]  \n"
     ]
    },
    {
     "name": "stdout",
     "output_type": "stream",
     "text": [
      "Saving Checkpoint\n",
      "Saving Checkpoint\n",
      "Epoch [25/30]\n"
     ]
    },
    {
     "name": "stderr",
     "output_type": "stream",
     "text": [
      "100%|██████████| 1866/1866 [01:05<00:00, 28.54it/s, gp=0.00567, loss_dis=0.134]   \n"
     ]
    },
    {
     "name": "stdout",
     "output_type": "stream",
     "text": [
      "Saving Checkpoint\n",
      "Saving Checkpoint\n",
      "Epoch [26/30]\n"
     ]
    },
    {
     "name": "stderr",
     "output_type": "stream",
     "text": [
      "100%|██████████| 1866/1866 [01:05<00:00, 28.54it/s, gp=0.00348, loss_dis=-0.107]  \n"
     ]
    },
    {
     "name": "stdout",
     "output_type": "stream",
     "text": [
      "Saving Checkpoint\n",
      "Saving Checkpoint\n",
      "Epoch [27/30]\n"
     ]
    },
    {
     "name": "stderr",
     "output_type": "stream",
     "text": [
      "100%|██████████| 1866/1866 [01:07<00:00, 27.48it/s, gp=0.00634, loss_dis=0.0286]  \n"
     ]
    },
    {
     "name": "stdout",
     "output_type": "stream",
     "text": [
      "Saving Checkpoint\n",
      "Saving Checkpoint\n",
      "Epoch [28/30]\n"
     ]
    },
    {
     "name": "stderr",
     "output_type": "stream",
     "text": [
      "100%|██████████| 1866/1866 [01:05<00:00, 28.44it/s, gp=0.00371, loss_dis=0.0573]   \n"
     ]
    },
    {
     "name": "stdout",
     "output_type": "stream",
     "text": [
      "Saving Checkpoint\n",
      "Saving Checkpoint\n",
      "Epoch [29/30]\n"
     ]
    },
    {
     "name": "stderr",
     "output_type": "stream",
     "text": [
      "100%|██████████| 1866/1866 [01:06<00:00, 28.14it/s, gp=0.000737, loss_dis=0.00313] \n"
     ]
    },
    {
     "name": "stdout",
     "output_type": "stream",
     "text": [
      "Saving Checkpoint\n",
      "Saving Checkpoint\n",
      "Epoch [30/30]\n"
     ]
    },
    {
     "name": "stderr",
     "output_type": "stream",
     "text": [
      "100%|██████████| 1866/1866 [01:05<00:00, 28.28it/s, gp=0.0139, loss_dis=0.419]     \n"
     ]
    },
    {
     "name": "stdout",
     "output_type": "stream",
     "text": [
      "Saving Checkpoint\n",
      "Saving Checkpoint\n",
      "Image Size: 8\n",
      "Epoch [1/30]\n"
     ]
    },
    {
     "name": "stderr",
     "output_type": "stream",
     "text": [
      "100%|██████████| 1866/1866 [01:43<00:00, 18.10it/s, gp=0.0156, loss_dis=-0.0464]  \n"
     ]
    },
    {
     "name": "stdout",
     "output_type": "stream",
     "text": [
      "Saving Checkpoint\n",
      "Saving Checkpoint\n",
      "Epoch [2/30]\n"
     ]
    },
    {
     "name": "stderr",
     "output_type": "stream",
     "text": [
      "100%|██████████| 1866/1866 [01:39<00:00, 18.73it/s, gp=0.00288, loss_dis=-0.242]   \n"
     ]
    },
    {
     "name": "stdout",
     "output_type": "stream",
     "text": [
      "Saving Checkpoint\n",
      "Saving Checkpoint\n",
      "Epoch [3/30]\n"
     ]
    },
    {
     "name": "stderr",
     "output_type": "stream",
     "text": [
      "100%|██████████| 1866/1866 [01:40<00:00, 18.55it/s, gp=0.00481, loss_dis=-0.0593]  \n"
     ]
    },
    {
     "name": "stdout",
     "output_type": "stream",
     "text": [
      "Saving Checkpoint\n",
      "Saving Checkpoint\n",
      "Epoch [4/30]\n"
     ]
    },
    {
     "name": "stderr",
     "output_type": "stream",
     "text": [
      "100%|██████████| 1866/1866 [01:41<00:00, 18.43it/s, gp=0.000243, loss_dis=-0.0958] \n"
     ]
    },
    {
     "name": "stdout",
     "output_type": "stream",
     "text": [
      "Saving Checkpoint\n",
      "Saving Checkpoint\n",
      "Epoch [5/30]\n"
     ]
    },
    {
     "name": "stderr",
     "output_type": "stream",
     "text": [
      "100%|██████████| 1866/1866 [01:40<00:00, 18.55it/s, gp=0.00155, loss_dis=-0.555]   \n"
     ]
    },
    {
     "name": "stdout",
     "output_type": "stream",
     "text": [
      "Saving Checkpoint\n",
      "Saving Checkpoint\n",
      "Epoch [6/30]\n"
     ]
    },
    {
     "name": "stderr",
     "output_type": "stream",
     "text": [
      "100%|██████████| 1866/1866 [01:35<00:00, 19.48it/s, gp=0.000271, loss_dis=0.0818]   \n"
     ]
    },
    {
     "name": "stdout",
     "output_type": "stream",
     "text": [
      "Saving Checkpoint\n",
      "Saving Checkpoint\n",
      "Epoch [7/30]\n"
     ]
    },
    {
     "name": "stderr",
     "output_type": "stream",
     "text": [
      "100%|██████████| 1866/1866 [01:37<00:00, 19.05it/s, gp=0.00159, loss_dis=-0.485]    \n"
     ]
    },
    {
     "name": "stdout",
     "output_type": "stream",
     "text": [
      "Saving Checkpoint\n",
      "Saving Checkpoint\n",
      "Epoch [8/30]\n"
     ]
    },
    {
     "name": "stderr",
     "output_type": "stream",
     "text": [
      "100%|██████████| 1866/1866 [01:35<00:00, 19.45it/s, gp=0.000915, loss_dis=0.173]    \n"
     ]
    },
    {
     "name": "stdout",
     "output_type": "stream",
     "text": [
      "Saving Checkpoint\n",
      "Saving Checkpoint\n",
      "Epoch [9/30]\n"
     ]
    },
    {
     "name": "stderr",
     "output_type": "stream",
     "text": [
      "100%|██████████| 1866/1866 [01:36<00:00, 19.36it/s, gp=0.000948, loss_dis=0.0886]   \n"
     ]
    },
    {
     "name": "stdout",
     "output_type": "stream",
     "text": [
      "Saving Checkpoint\n",
      "Saving Checkpoint\n",
      "Epoch [10/30]\n"
     ]
    },
    {
     "name": "stderr",
     "output_type": "stream",
     "text": [
      "100%|██████████| 1866/1866 [01:38<00:00, 18.89it/s, gp=0.00126, loss_dis=-0.364]    \n"
     ]
    },
    {
     "name": "stdout",
     "output_type": "stream",
     "text": [
      "Saving Checkpoint\n",
      "Saving Checkpoint\n",
      "Epoch [11/30]\n"
     ]
    },
    {
     "name": "stderr",
     "output_type": "stream",
     "text": [
      "100%|██████████| 1866/1866 [01:37<00:00, 19.14it/s, gp=0.000854, loss_dis=-0.238]   \n"
     ]
    },
    {
     "name": "stdout",
     "output_type": "stream",
     "text": [
      "Saving Checkpoint\n",
      "Saving Checkpoint\n",
      "Epoch [12/30]\n"
     ]
    },
    {
     "name": "stderr",
     "output_type": "stream",
     "text": [
      "100%|██████████| 1866/1866 [01:34<00:00, 19.72it/s, gp=0.00106, loss_dis=-0.384]    \n"
     ]
    },
    {
     "name": "stdout",
     "output_type": "stream",
     "text": [
      "Saving Checkpoint\n",
      "Saving Checkpoint\n",
      "Epoch [13/30]\n"
     ]
    },
    {
     "name": "stderr",
     "output_type": "stream",
     "text": [
      "100%|██████████| 1866/1866 [01:38<00:00, 18.99it/s, gp=0.00134, loss_dis=-0.208]    \n"
     ]
    },
    {
     "name": "stdout",
     "output_type": "stream",
     "text": [
      "Saving Checkpoint\n",
      "Saving Checkpoint\n",
      "Epoch [14/30]\n"
     ]
    },
    {
     "name": "stderr",
     "output_type": "stream",
     "text": [
      "100%|██████████| 1866/1866 [01:35<00:00, 19.63it/s, gp=0.00105, loss_dis=-0.0694]   \n"
     ]
    },
    {
     "name": "stdout",
     "output_type": "stream",
     "text": [
      "Saving Checkpoint\n",
      "Saving Checkpoint\n",
      "Epoch [15/30]\n"
     ]
    },
    {
     "name": "stderr",
     "output_type": "stream",
     "text": [
      "100%|██████████| 1866/1866 [01:37<00:00, 19.18it/s, gp=0.00038, loss_dis=0.227]     \n"
     ]
    },
    {
     "name": "stdout",
     "output_type": "stream",
     "text": [
      "Saving Checkpoint\n",
      "Saving Checkpoint\n",
      "Epoch [16/30]\n"
     ]
    },
    {
     "name": "stderr",
     "output_type": "stream",
     "text": [
      "100%|██████████| 1866/1866 [01:34<00:00, 19.74it/s, gp=0.00111, loss_dis=0.121]     \n"
     ]
    },
    {
     "name": "stdout",
     "output_type": "stream",
     "text": [
      "Saving Checkpoint\n",
      "Saving Checkpoint\n",
      "Epoch [17/30]\n"
     ]
    },
    {
     "name": "stderr",
     "output_type": "stream",
     "text": [
      "100%|██████████| 1866/1866 [01:35<00:00, 19.63it/s, gp=0.00279, loss_dis=0.41]      \n"
     ]
    },
    {
     "name": "stdout",
     "output_type": "stream",
     "text": [
      "Saving Checkpoint\n",
      "Saving Checkpoint\n",
      "Epoch [18/30]\n"
     ]
    },
    {
     "name": "stderr",
     "output_type": "stream",
     "text": [
      "100%|██████████| 1866/1866 [01:39<00:00, 18.70it/s, gp=0.00161, loss_dis=0.0969]    \n"
     ]
    },
    {
     "name": "stdout",
     "output_type": "stream",
     "text": [
      "Saving Checkpoint\n",
      "Saving Checkpoint\n",
      "Epoch [19/30]\n"
     ]
    },
    {
     "name": "stderr",
     "output_type": "stream",
     "text": [
      "100%|██████████| 1866/1866 [01:40<00:00, 18.59it/s, gp=0.000859, loss_dis=-0.155]  \n"
     ]
    },
    {
     "name": "stdout",
     "output_type": "stream",
     "text": [
      "Saving Checkpoint\n",
      "Saving Checkpoint\n",
      "Epoch [20/30]\n"
     ]
    },
    {
     "name": "stderr",
     "output_type": "stream",
     "text": [
      "100%|██████████| 1866/1866 [01:38<00:00, 18.86it/s, gp=0.00152, loss_dis=0.231]     \n"
     ]
    },
    {
     "name": "stdout",
     "output_type": "stream",
     "text": [
      "Saving Checkpoint\n",
      "Saving Checkpoint\n",
      "Epoch [21/30]\n"
     ]
    },
    {
     "name": "stderr",
     "output_type": "stream",
     "text": [
      "100%|██████████| 1866/1866 [01:40<00:00, 18.63it/s, gp=0.000345, loss_dis=-0.101]   \n"
     ]
    },
    {
     "name": "stdout",
     "output_type": "stream",
     "text": [
      "Saving Checkpoint\n",
      "Saving Checkpoint\n",
      "Epoch [22/30]\n"
     ]
    },
    {
     "name": "stderr",
     "output_type": "stream",
     "text": [
      "100%|██████████| 1866/1866 [01:39<00:00, 18.75it/s, gp=0.000616, loss_dis=0.117]    \n"
     ]
    },
    {
     "name": "stdout",
     "output_type": "stream",
     "text": [
      "Saving Checkpoint\n",
      "Saving Checkpoint\n",
      "Epoch [23/30]\n"
     ]
    },
    {
     "name": "stderr",
     "output_type": "stream",
     "text": [
      "100%|██████████| 1866/1866 [01:38<00:00, 19.01it/s, gp=0.000237, loss_dis=0.0167]   \n"
     ]
    },
    {
     "name": "stdout",
     "output_type": "stream",
     "text": [
      "Saving Checkpoint\n",
      "Saving Checkpoint\n",
      "Epoch [24/30]\n"
     ]
    },
    {
     "name": "stderr",
     "output_type": "stream",
     "text": [
      "100%|██████████| 1866/1866 [01:37<00:00, 19.20it/s, gp=0.00113, loss_dis=0.355]     \n"
     ]
    },
    {
     "name": "stdout",
     "output_type": "stream",
     "text": [
      "Saving Checkpoint\n",
      "Saving Checkpoint\n",
      "Epoch [25/30]\n"
     ]
    },
    {
     "name": "stderr",
     "output_type": "stream",
     "text": [
      "100%|██████████| 1866/1866 [01:37<00:00, 19.11it/s, gp=0.0012, loss_dis=-0.0412]    \n"
     ]
    },
    {
     "name": "stdout",
     "output_type": "stream",
     "text": [
      "Saving Checkpoint\n",
      "Saving Checkpoint\n",
      "Epoch [26/30]\n"
     ]
    },
    {
     "name": "stderr",
     "output_type": "stream",
     "text": [
      "100%|██████████| 1866/1866 [01:37<00:00, 19.19it/s, gp=0.00249, loss_dis=0.175]     \n"
     ]
    },
    {
     "name": "stdout",
     "output_type": "stream",
     "text": [
      "Saving Checkpoint\n",
      "Saving Checkpoint\n",
      "Epoch [27/30]\n"
     ]
    },
    {
     "name": "stderr",
     "output_type": "stream",
     "text": [
      "100%|██████████| 1866/1866 [01:41<00:00, 18.46it/s, gp=0.000906, loss_dis=0.224]    \n"
     ]
    },
    {
     "name": "stdout",
     "output_type": "stream",
     "text": [
      "Saving Checkpoint\n",
      "Saving Checkpoint\n",
      "Epoch [28/30]\n"
     ]
    },
    {
     "name": "stderr",
     "output_type": "stream",
     "text": [
      "100%|██████████| 1866/1866 [01:36<00:00, 19.24it/s, gp=0.000414, loss_dis=-0.0817]  \n"
     ]
    },
    {
     "name": "stdout",
     "output_type": "stream",
     "text": [
      "Saving Checkpoint\n",
      "Saving Checkpoint\n",
      "Epoch [29/30]\n"
     ]
    },
    {
     "name": "stderr",
     "output_type": "stream",
     "text": [
      "100%|██████████| 1866/1866 [01:38<00:00, 19.03it/s, gp=0.000513, loss_dis=0.0286]   \n"
     ]
    },
    {
     "name": "stdout",
     "output_type": "stream",
     "text": [
      "Saving Checkpoint\n",
      "Saving Checkpoint\n",
      "Epoch [30/30]\n"
     ]
    },
    {
     "name": "stderr",
     "output_type": "stream",
     "text": [
      "100%|██████████| 1866/1866 [01:36<00:00, 19.39it/s, gp=0.00149, loss_dis=0.0566]    \n"
     ]
    },
    {
     "name": "stdout",
     "output_type": "stream",
     "text": [
      "Saving Checkpoint\n",
      "Saving Checkpoint\n",
      "Image Size: 16\n",
      "Epoch [1/30]\n"
     ]
    },
    {
     "name": "stderr",
     "output_type": "stream",
     "text": [
      "100%|██████████| 1866/1866 [02:00<00:00, 15.45it/s, gp=0.00194, loss_dis=-2.1]      \n"
     ]
    },
    {
     "name": "stdout",
     "output_type": "stream",
     "text": [
      "Saving Checkpoint\n",
      "Saving Checkpoint\n",
      "Epoch [2/30]\n"
     ]
    },
    {
     "name": "stderr",
     "output_type": "stream",
     "text": [
      "100%|██████████| 1866/1866 [01:59<00:00, 15.67it/s, gp=0.0346, loss_dis=0.44]     \n"
     ]
    },
    {
     "name": "stdout",
     "output_type": "stream",
     "text": [
      "Saving Checkpoint\n",
      "Saving Checkpoint\n",
      "Epoch [3/30]\n"
     ]
    },
    {
     "name": "stderr",
     "output_type": "stream",
     "text": [
      "100%|██████████| 1866/1866 [02:00<00:00, 15.51it/s, gp=0.0453, loss_dis=-1.04]     \n"
     ]
    },
    {
     "name": "stdout",
     "output_type": "stream",
     "text": [
      "Saving Checkpoint\n",
      "Saving Checkpoint\n",
      "Epoch [4/30]\n"
     ]
    },
    {
     "name": "stderr",
     "output_type": "stream",
     "text": [
      "100%|██████████| 1866/1866 [01:59<00:00, 15.55it/s, gp=0.0137, loss_dis=0.889]     \n"
     ]
    },
    {
     "name": "stdout",
     "output_type": "stream",
     "text": [
      "Saving Checkpoint\n",
      "Saving Checkpoint\n",
      "Epoch [5/30]\n"
     ]
    },
    {
     "name": "stderr",
     "output_type": "stream",
     "text": [
      "100%|██████████| 1866/1866 [01:57<00:00, 15.87it/s, gp=0.0221, loss_dis=0.429]    \n"
     ]
    },
    {
     "name": "stdout",
     "output_type": "stream",
     "text": [
      "Saving Checkpoint\n",
      "Saving Checkpoint\n",
      "Epoch [6/30]\n"
     ]
    },
    {
     "name": "stderr",
     "output_type": "stream",
     "text": [
      "100%|██████████| 1866/1866 [01:58<00:00, 15.73it/s, gp=0.0178, loss_dis=0.73]     \n"
     ]
    },
    {
     "name": "stdout",
     "output_type": "stream",
     "text": [
      "Saving Checkpoint\n",
      "Saving Checkpoint\n",
      "Epoch [7/30]\n"
     ]
    },
    {
     "name": "stderr",
     "output_type": "stream",
     "text": [
      "100%|██████████| 1866/1866 [01:56<00:00, 16.07it/s, gp=0.00337, loss_dis=0.526]   \n"
     ]
    },
    {
     "name": "stdout",
     "output_type": "stream",
     "text": [
      "Saving Checkpoint\n",
      "Saving Checkpoint\n",
      "Epoch [8/30]\n"
     ]
    },
    {
     "name": "stderr",
     "output_type": "stream",
     "text": [
      "100%|██████████| 1866/1866 [01:56<00:00, 15.95it/s, gp=0.0132, loss_dis=0.0874]   \n"
     ]
    },
    {
     "name": "stdout",
     "output_type": "stream",
     "text": [
      "Saving Checkpoint\n",
      "Saving Checkpoint\n",
      "Epoch [9/30]\n"
     ]
    },
    {
     "name": "stderr",
     "output_type": "stream",
     "text": [
      "100%|██████████| 1866/1866 [02:00<00:00, 15.49it/s, gp=0.00631, loss_dis=0.527]    \n"
     ]
    },
    {
     "name": "stdout",
     "output_type": "stream",
     "text": [
      "Saving Checkpoint\n",
      "Saving Checkpoint\n",
      "Epoch [10/30]\n"
     ]
    },
    {
     "name": "stderr",
     "output_type": "stream",
     "text": [
      "100%|██████████| 1866/1866 [01:57<00:00, 15.87it/s, gp=0.0172, loss_dis=-1.26]     \n"
     ]
    },
    {
     "name": "stdout",
     "output_type": "stream",
     "text": [
      "Saving Checkpoint\n",
      "Saving Checkpoint\n",
      "Epoch [11/30]\n"
     ]
    },
    {
     "name": "stderr",
     "output_type": "stream",
     "text": [
      "100%|██████████| 1866/1866 [01:56<00:00, 16.02it/s, gp=0.00733, loss_dis=0.17]    \n"
     ]
    },
    {
     "name": "stdout",
     "output_type": "stream",
     "text": [
      "Saving Checkpoint\n",
      "Saving Checkpoint\n",
      "Epoch [12/30]\n"
     ]
    },
    {
     "name": "stderr",
     "output_type": "stream",
     "text": [
      "100%|██████████| 1866/1866 [01:55<00:00, 16.14it/s, gp=0.0081, loss_dis=-0.429]    \n"
     ]
    },
    {
     "name": "stdout",
     "output_type": "stream",
     "text": [
      "Saving Checkpoint\n",
      "Saving Checkpoint\n",
      "Epoch [13/30]\n"
     ]
    },
    {
     "name": "stderr",
     "output_type": "stream",
     "text": [
      "100%|██████████| 1866/1866 [02:00<00:00, 15.43it/s, gp=0.00533, loss_dis=0.00337] \n"
     ]
    },
    {
     "name": "stdout",
     "output_type": "stream",
     "text": [
      "Saving Checkpoint\n",
      "Saving Checkpoint\n",
      "Epoch [14/30]\n"
     ]
    },
    {
     "name": "stderr",
     "output_type": "stream",
     "text": [
      "100%|██████████| 1866/1866 [01:58<00:00, 15.79it/s, gp=0.00885, loss_dis=-0.567]   \n"
     ]
    },
    {
     "name": "stdout",
     "output_type": "stream",
     "text": [
      "Saving Checkpoint\n",
      "Saving Checkpoint\n",
      "Epoch [15/30]\n"
     ]
    },
    {
     "name": "stderr",
     "output_type": "stream",
     "text": [
      "100%|██████████| 1866/1866 [01:59<00:00, 15.57it/s, gp=0.00417, loss_dis=0.267]   \n"
     ]
    },
    {
     "name": "stdout",
     "output_type": "stream",
     "text": [
      "Saving Checkpoint\n",
      "Saving Checkpoint\n",
      "Epoch [16/30]\n"
     ]
    },
    {
     "name": "stderr",
     "output_type": "stream",
     "text": [
      "100%|██████████| 1866/1866 [02:01<00:00, 15.41it/s, gp=0.00389, loss_dis=-0.271]  \n"
     ]
    },
    {
     "name": "stdout",
     "output_type": "stream",
     "text": [
      "Saving Checkpoint\n",
      "Saving Checkpoint\n",
      "Epoch [17/30]\n"
     ]
    },
    {
     "name": "stderr",
     "output_type": "stream",
     "text": [
      "100%|██████████| 1866/1866 [01:58<00:00, 15.78it/s, gp=0.0192, loss_dis=-0.165]    \n"
     ]
    },
    {
     "name": "stdout",
     "output_type": "stream",
     "text": [
      "Saving Checkpoint\n",
      "Saving Checkpoint\n",
      "Epoch [18/30]\n"
     ]
    },
    {
     "name": "stderr",
     "output_type": "stream",
     "text": [
      "100%|██████████| 1866/1866 [01:56<00:00, 16.08it/s, gp=0.00484, loss_dis=0.819]    \n"
     ]
    },
    {
     "name": "stdout",
     "output_type": "stream",
     "text": [
      "Saving Checkpoint\n",
      "Saving Checkpoint\n",
      "Epoch [19/30]\n"
     ]
    },
    {
     "name": "stderr",
     "output_type": "stream",
     "text": [
      "100%|██████████| 1866/1866 [01:57<00:00, 15.85it/s, gp=0.0165, loss_dis=-0.424]    \n"
     ]
    },
    {
     "name": "stdout",
     "output_type": "stream",
     "text": [
      "Saving Checkpoint\n",
      "Saving Checkpoint\n",
      "Epoch [20/30]\n"
     ]
    },
    {
     "name": "stderr",
     "output_type": "stream",
     "text": [
      "100%|██████████| 1866/1866 [01:57<00:00, 15.92it/s, gp=0.00755, loss_dis=-1.26]    \n"
     ]
    },
    {
     "name": "stdout",
     "output_type": "stream",
     "text": [
      "Saving Checkpoint\n",
      "Saving Checkpoint\n",
      "Epoch [21/30]\n"
     ]
    },
    {
     "name": "stderr",
     "output_type": "stream",
     "text": [
      "100%|██████████| 1866/1866 [01:58<00:00, 15.74it/s, gp=0.00358, loss_dis=-1.59]    \n"
     ]
    },
    {
     "name": "stdout",
     "output_type": "stream",
     "text": [
      "Saving Checkpoint\n",
      "Saving Checkpoint\n",
      "Epoch [22/30]\n"
     ]
    },
    {
     "name": "stderr",
     "output_type": "stream",
     "text": [
      "100%|██████████| 1866/1866 [01:55<00:00, 16.18it/s, gp=0.0298, loss_dis=-0.74]     \n"
     ]
    },
    {
     "name": "stdout",
     "output_type": "stream",
     "text": [
      "Saving Checkpoint\n",
      "Saving Checkpoint\n",
      "Epoch [23/30]\n"
     ]
    },
    {
     "name": "stderr",
     "output_type": "stream",
     "text": [
      "100%|██████████| 1866/1866 [01:56<00:00, 16.06it/s, gp=0.00845, loss_dis=0.188]    \n"
     ]
    },
    {
     "name": "stdout",
     "output_type": "stream",
     "text": [
      "Saving Checkpoint\n",
      "Saving Checkpoint\n",
      "Epoch [24/30]\n"
     ]
    },
    {
     "name": "stderr",
     "output_type": "stream",
     "text": [
      "100%|██████████| 1866/1866 [01:57<00:00, 15.81it/s, gp=0.0104, loss_dis=-0.0408]  \n"
     ]
    },
    {
     "name": "stdout",
     "output_type": "stream",
     "text": [
      "Saving Checkpoint\n",
      "Saving Checkpoint\n",
      "Epoch [25/30]\n"
     ]
    },
    {
     "name": "stderr",
     "output_type": "stream",
     "text": [
      "100%|██████████| 1866/1866 [01:56<00:00, 16.00it/s, gp=0.0133, loss_dis=1.74]      \n"
     ]
    },
    {
     "name": "stdout",
     "output_type": "stream",
     "text": [
      "Saving Checkpoint\n",
      "Saving Checkpoint\n",
      "Epoch [26/30]\n"
     ]
    },
    {
     "name": "stderr",
     "output_type": "stream",
     "text": [
      "100%|██████████| 1866/1866 [02:00<00:00, 15.43it/s, gp=0.0171, loss_dis=1.66]     \n"
     ]
    },
    {
     "name": "stdout",
     "output_type": "stream",
     "text": [
      "Saving Checkpoint\n",
      "Saving Checkpoint\n",
      "Epoch [27/30]\n"
     ]
    },
    {
     "name": "stderr",
     "output_type": "stream",
     "text": [
      "100%|██████████| 1866/1866 [01:57<00:00, 15.90it/s, gp=0.00024, loss_dis=0.0746]   \n"
     ]
    },
    {
     "name": "stdout",
     "output_type": "stream",
     "text": [
      "Saving Checkpoint\n",
      "Saving Checkpoint\n",
      "Epoch [28/30]\n"
     ]
    },
    {
     "name": "stderr",
     "output_type": "stream",
     "text": [
      "100%|██████████| 1866/1866 [02:02<00:00, 15.29it/s, gp=0.0151, loss_dis=-0.517]    \n"
     ]
    },
    {
     "name": "stdout",
     "output_type": "stream",
     "text": [
      "Saving Checkpoint\n",
      "Saving Checkpoint\n",
      "Epoch [29/30]\n"
     ]
    },
    {
     "name": "stderr",
     "output_type": "stream",
     "text": [
      "100%|██████████| 1866/1866 [02:00<00:00, 15.47it/s, gp=0.0182, loss_dis=0.539]     \n"
     ]
    },
    {
     "name": "stdout",
     "output_type": "stream",
     "text": [
      "Saving Checkpoint\n",
      "Saving Checkpoint\n",
      "Epoch [30/30]\n"
     ]
    },
    {
     "name": "stderr",
     "output_type": "stream",
     "text": [
      "100%|██████████| 1866/1866 [01:59<00:00, 15.57it/s, gp=0.00629, loss_dis=0.407]    \n"
     ]
    },
    {
     "name": "stdout",
     "output_type": "stream",
     "text": [
      "Saving Checkpoint\n",
      "Saving Checkpoint\n",
      "Image Size: 32\n",
      "Epoch [1/30]\n"
     ]
    },
    {
     "name": "stderr",
     "output_type": "stream",
     "text": [
      "100%|██████████| 1866/1866 [02:22<00:00, 13.08it/s, gp=0.0136, loss_dis=-2.33]     \n"
     ]
    },
    {
     "name": "stdout",
     "output_type": "stream",
     "text": [
      "Saving Checkpoint\n",
      "Saving Checkpoint\n",
      "Epoch [2/30]\n"
     ]
    },
    {
     "name": "stderr",
     "output_type": "stream",
     "text": [
      "100%|██████████| 1866/1866 [02:28<00:00, 12.57it/s, gp=0.00869, loss_dis=-1.31]   \n"
     ]
    },
    {
     "name": "stdout",
     "output_type": "stream",
     "text": [
      "Saving Checkpoint\n",
      "Saving Checkpoint\n",
      "Epoch [3/30]\n"
     ]
    },
    {
     "name": "stderr",
     "output_type": "stream",
     "text": [
      "100%|██████████| 1866/1866 [02:28<00:00, 12.57it/s, gp=0.00534, loss_dis=-0.74]    \n"
     ]
    },
    {
     "name": "stdout",
     "output_type": "stream",
     "text": [
      "Saving Checkpoint\n",
      "Saving Checkpoint\n",
      "Epoch [4/30]\n"
     ]
    },
    {
     "name": "stderr",
     "output_type": "stream",
     "text": [
      "100%|██████████| 1866/1866 [02:29<00:00, 12.52it/s, gp=0.00934, loss_dis=-0.15]   \n"
     ]
    },
    {
     "name": "stdout",
     "output_type": "stream",
     "text": [
      "Saving Checkpoint\n",
      "Saving Checkpoint\n",
      "Epoch [5/30]\n"
     ]
    },
    {
     "name": "stderr",
     "output_type": "stream",
     "text": [
      "100%|██████████| 1866/1866 [02:28<00:00, 12.57it/s, gp=0.00507, loss_dis=-0.0365]  \n"
     ]
    },
    {
     "name": "stdout",
     "output_type": "stream",
     "text": [
      "Saving Checkpoint\n",
      "Saving Checkpoint\n",
      "Epoch [6/30]\n"
     ]
    },
    {
     "name": "stderr",
     "output_type": "stream",
     "text": [
      "100%|██████████| 1866/1866 [02:29<00:00, 12.46it/s, gp=0.0098, loss_dis=-0.925]   \n"
     ]
    },
    {
     "name": "stdout",
     "output_type": "stream",
     "text": [
      "Saving Checkpoint\n",
      "Saving Checkpoint\n",
      "Epoch [7/30]\n"
     ]
    },
    {
     "name": "stderr",
     "output_type": "stream",
     "text": [
      "100%|██████████| 1866/1866 [02:28<00:00, 12.55it/s, gp=0.00751, loss_dis=-0.224]   \n"
     ]
    },
    {
     "name": "stdout",
     "output_type": "stream",
     "text": [
      "Saving Checkpoint\n",
      "Saving Checkpoint\n",
      "Epoch [8/30]\n"
     ]
    },
    {
     "name": "stderr",
     "output_type": "stream",
     "text": [
      "100%|██████████| 1866/1866 [02:33<00:00, 12.19it/s, gp=0.0122, loss_dis=0.859]    \n"
     ]
    },
    {
     "name": "stdout",
     "output_type": "stream",
     "text": [
      "Saving Checkpoint\n",
      "Saving Checkpoint\n",
      "Epoch [9/30]\n"
     ]
    },
    {
     "name": "stderr",
     "output_type": "stream",
     "text": [
      "100%|██████████| 1866/1866 [02:30<00:00, 12.44it/s, gp=0.00443, loss_dis=-1.32]    \n"
     ]
    },
    {
     "name": "stdout",
     "output_type": "stream",
     "text": [
      "Saving Checkpoint\n",
      "Saving Checkpoint\n",
      "Epoch [10/30]\n"
     ]
    },
    {
     "name": "stderr",
     "output_type": "stream",
     "text": [
      "100%|██████████| 1866/1866 [02:30<00:00, 12.43it/s, gp=0.0191, loss_dis=1.02]     \n"
     ]
    },
    {
     "name": "stdout",
     "output_type": "stream",
     "text": [
      "Saving Checkpoint\n",
      "Saving Checkpoint\n",
      "Epoch [11/30]\n"
     ]
    },
    {
     "name": "stderr",
     "output_type": "stream",
     "text": [
      "100%|██████████| 1866/1866 [02:22<00:00, 13.08it/s, gp=0.00119, loss_dis=0.666]    \n"
     ]
    },
    {
     "name": "stdout",
     "output_type": "stream",
     "text": [
      "Saving Checkpoint\n",
      "Saving Checkpoint\n",
      "Epoch [12/30]\n"
     ]
    },
    {
     "name": "stderr",
     "output_type": "stream",
     "text": [
      "100%|██████████| 1866/1866 [02:24<00:00, 12.92it/s, gp=0.00471, loss_dis=-0.635]   \n"
     ]
    },
    {
     "name": "stdout",
     "output_type": "stream",
     "text": [
      "Saving Checkpoint\n",
      "Saving Checkpoint\n",
      "Epoch [13/30]\n"
     ]
    },
    {
     "name": "stderr",
     "output_type": "stream",
     "text": [
      "100%|██████████| 1866/1866 [02:19<00:00, 13.38it/s, gp=0.000814, loss_dis=-0.376]  \n"
     ]
    },
    {
     "name": "stdout",
     "output_type": "stream",
     "text": [
      "Saving Checkpoint\n",
      "Saving Checkpoint\n",
      "Epoch [14/30]\n"
     ]
    },
    {
     "name": "stderr",
     "output_type": "stream",
     "text": [
      "100%|██████████| 1866/1866 [02:23<00:00, 13.00it/s, gp=0.00498, loss_dis=-0.917]  \n"
     ]
    },
    {
     "name": "stdout",
     "output_type": "stream",
     "text": [
      "Saving Checkpoint\n",
      "Saving Checkpoint\n",
      "Epoch [15/30]\n"
     ]
    },
    {
     "name": "stderr",
     "output_type": "stream",
     "text": [
      "100%|██████████| 1866/1866 [02:20<00:00, 13.24it/s, gp=0.00305, loss_dis=-1.07]   \n"
     ]
    },
    {
     "name": "stdout",
     "output_type": "stream",
     "text": [
      "Saving Checkpoint\n",
      "Saving Checkpoint\n",
      "Epoch [16/30]\n"
     ]
    },
    {
     "name": "stderr",
     "output_type": "stream",
     "text": [
      "100%|██████████| 1866/1866 [02:20<00:00, 13.24it/s, gp=0.00455, loss_dis=0.289]    \n"
     ]
    },
    {
     "name": "stdout",
     "output_type": "stream",
     "text": [
      "Saving Checkpoint\n",
      "Saving Checkpoint\n",
      "Epoch [17/30]\n"
     ]
    },
    {
     "name": "stderr",
     "output_type": "stream",
     "text": [
      "100%|██████████| 1866/1866 [02:21<00:00, 13.17it/s, gp=0.00911, loss_dis=-0.616]   \n"
     ]
    },
    {
     "name": "stdout",
     "output_type": "stream",
     "text": [
      "Saving Checkpoint\n",
      "Saving Checkpoint\n",
      "Epoch [18/30]\n"
     ]
    },
    {
     "name": "stderr",
     "output_type": "stream",
     "text": [
      "100%|██████████| 1866/1866 [02:22<00:00, 13.09it/s, gp=0.00306, loss_dis=0.0395]   \n"
     ]
    },
    {
     "name": "stdout",
     "output_type": "stream",
     "text": [
      "Saving Checkpoint\n",
      "Saving Checkpoint\n",
      "Epoch [19/30]\n"
     ]
    },
    {
     "name": "stderr",
     "output_type": "stream",
     "text": [
      "100%|██████████| 1866/1866 [02:19<00:00, 13.37it/s, gp=0.00129, loss_dis=-0.239]  \n"
     ]
    },
    {
     "name": "stdout",
     "output_type": "stream",
     "text": [
      "Saving Checkpoint\n",
      "Saving Checkpoint\n",
      "Epoch [20/30]\n"
     ]
    },
    {
     "name": "stderr",
     "output_type": "stream",
     "text": [
      "100%|██████████| 1866/1866 [02:24<00:00, 12.93it/s, gp=0.0074, loss_dis=-0.0777]   \n"
     ]
    },
    {
     "name": "stdout",
     "output_type": "stream",
     "text": [
      "Saving Checkpoint\n",
      "Saving Checkpoint\n",
      "Epoch [21/30]\n"
     ]
    },
    {
     "name": "stderr",
     "output_type": "stream",
     "text": [
      "100%|██████████| 1866/1866 [02:24<00:00, 12.95it/s, gp=0.00711, loss_dis=0.576]   \n"
     ]
    },
    {
     "name": "stdout",
     "output_type": "stream",
     "text": [
      "Saving Checkpoint\n",
      "Saving Checkpoint\n",
      "Epoch [22/30]\n"
     ]
    },
    {
     "name": "stderr",
     "output_type": "stream",
     "text": [
      "100%|██████████| 1866/1866 [02:21<00:00, 13.22it/s, gp=0.00281, loss_dis=-0.291]  \n"
     ]
    },
    {
     "name": "stdout",
     "output_type": "stream",
     "text": [
      "Saving Checkpoint\n",
      "Saving Checkpoint\n",
      "Epoch [23/30]\n"
     ]
    },
    {
     "name": "stderr",
     "output_type": "stream",
     "text": [
      "100%|██████████| 1866/1866 [02:26<00:00, 12.78it/s, gp=0.00408, loss_dis=-0.52]   \n"
     ]
    },
    {
     "name": "stdout",
     "output_type": "stream",
     "text": [
      "Saving Checkpoint\n",
      "Saving Checkpoint\n",
      "Epoch [24/30]\n"
     ]
    },
    {
     "name": "stderr",
     "output_type": "stream",
     "text": [
      "100%|██████████| 1866/1866 [02:21<00:00, 13.23it/s, gp=0.0106, loss_dis=0.428]    \n"
     ]
    },
    {
     "name": "stdout",
     "output_type": "stream",
     "text": [
      "Saving Checkpoint\n",
      "Saving Checkpoint\n",
      "Epoch [25/30]\n"
     ]
    },
    {
     "name": "stderr",
     "output_type": "stream",
     "text": [
      "100%|██████████| 1866/1866 [02:25<00:00, 12.79it/s, gp=0.00682, loss_dis=1.27]     \n"
     ]
    },
    {
     "name": "stdout",
     "output_type": "stream",
     "text": [
      "Saving Checkpoint\n",
      "Saving Checkpoint\n",
      "Epoch [26/30]\n"
     ]
    },
    {
     "name": "stderr",
     "output_type": "stream",
     "text": [
      "100%|██████████| 1866/1866 [02:22<00:00, 13.10it/s, gp=0.00115, loss_dis=-0.787]  \n"
     ]
    },
    {
     "name": "stdout",
     "output_type": "stream",
     "text": [
      "Saving Checkpoint\n",
      "Saving Checkpoint\n",
      "Epoch [27/30]\n"
     ]
    },
    {
     "name": "stderr",
     "output_type": "stream",
     "text": [
      "100%|██████████| 1866/1866 [02:25<00:00, 12.84it/s, gp=0.00266, loss_dis=-0.125]   \n"
     ]
    },
    {
     "name": "stdout",
     "output_type": "stream",
     "text": [
      "Saving Checkpoint\n",
      "Saving Checkpoint\n",
      "Epoch [28/30]\n"
     ]
    },
    {
     "name": "stderr",
     "output_type": "stream",
     "text": [
      "100%|██████████| 1866/1866 [02:18<00:00, 13.47it/s, gp=0.000457, loss_dis=-0.458]  \n"
     ]
    },
    {
     "name": "stdout",
     "output_type": "stream",
     "text": [
      "Saving Checkpoint\n",
      "Saving Checkpoint\n",
      "Epoch [29/30]\n"
     ]
    },
    {
     "name": "stderr",
     "output_type": "stream",
     "text": [
      "100%|██████████| 1866/1866 [02:24<00:00, 12.87it/s, gp=0.0113, loss_dis=-0.886]   \n"
     ]
    },
    {
     "name": "stdout",
     "output_type": "stream",
     "text": [
      "Saving Checkpoint\n",
      "Saving Checkpoint\n",
      "Epoch [30/30]\n"
     ]
    },
    {
     "name": "stderr",
     "output_type": "stream",
     "text": [
      "100%|██████████| 1866/1866 [02:24<00:00, 12.89it/s, gp=0.0104, loss_dis=-0.782]    \n"
     ]
    },
    {
     "name": "stdout",
     "output_type": "stream",
     "text": [
      "Saving Checkpoint\n",
      "Saving Checkpoint\n",
      "Image Size: 64\n",
      "Epoch [1/30]\n"
     ]
    },
    {
     "name": "stderr",
     "output_type": "stream",
     "text": [
      "100%|██████████| 3731/3731 [05:25<00:00, 11.45it/s, gp=0.0319, loss_dis=-3.03]     \n"
     ]
    },
    {
     "name": "stdout",
     "output_type": "stream",
     "text": [
      "Saving Checkpoint\n",
      "Saving Checkpoint\n",
      "Epoch [2/30]\n"
     ]
    },
    {
     "name": "stderr",
     "output_type": "stream",
     "text": [
      "100%|██████████| 3731/3731 [05:24<00:00, 11.49it/s, gp=0.00328, loss_dis=-0.481]   \n"
     ]
    },
    {
     "name": "stdout",
     "output_type": "stream",
     "text": [
      "Saving Checkpoint\n",
      "Saving Checkpoint\n",
      "Epoch [3/30]\n"
     ]
    },
    {
     "name": "stderr",
     "output_type": "stream",
     "text": [
      "100%|██████████| 3731/3731 [05:27<00:00, 11.41it/s, gp=0.002, loss_dis=0.98]       \n"
     ]
    },
    {
     "name": "stdout",
     "output_type": "stream",
     "text": [
      "Saving Checkpoint\n",
      "Saving Checkpoint\n",
      "Epoch [4/30]\n"
     ]
    },
    {
     "name": "stderr",
     "output_type": "stream",
     "text": [
      "100%|██████████| 3731/3731 [05:20<00:00, 11.65it/s, gp=0.00536, loss_dis=-0.453]  \n"
     ]
    },
    {
     "name": "stdout",
     "output_type": "stream",
     "text": [
      "Saving Checkpoint\n",
      "Saving Checkpoint\n",
      "Epoch [5/30]\n"
     ]
    },
    {
     "name": "stderr",
     "output_type": "stream",
     "text": [
      "100%|██████████| 3731/3731 [05:28<00:00, 11.37it/s, gp=0.00622, loss_dis=-0.775]   \n"
     ]
    },
    {
     "name": "stdout",
     "output_type": "stream",
     "text": [
      "Saving Checkpoint\n",
      "Saving Checkpoint\n",
      "Epoch [6/30]\n"
     ]
    },
    {
     "name": "stderr",
     "output_type": "stream",
     "text": [
      "100%|██████████| 3731/3731 [05:36<00:00, 11.09it/s, gp=0.0137, loss_dis=-0.506]   \n"
     ]
    },
    {
     "name": "stdout",
     "output_type": "stream",
     "text": [
      "Saving Checkpoint\n",
      "Saving Checkpoint\n",
      "Epoch [7/30]\n"
     ]
    },
    {
     "name": "stderr",
     "output_type": "stream",
     "text": [
      "100%|██████████| 3731/3731 [05:35<00:00, 11.11it/s, gp=0.00273, loss_dis=-0.359]   \n"
     ]
    },
    {
     "name": "stdout",
     "output_type": "stream",
     "text": [
      "Saving Checkpoint\n",
      "Saving Checkpoint\n",
      "Epoch [8/30]\n"
     ]
    },
    {
     "name": "stderr",
     "output_type": "stream",
     "text": [
      "100%|██████████| 3731/3731 [05:34<00:00, 11.14it/s, gp=0.00597, loss_dis=-2.92]   \n"
     ]
    },
    {
     "name": "stdout",
     "output_type": "stream",
     "text": [
      "Saving Checkpoint\n",
      "Saving Checkpoint\n",
      "Epoch [9/30]\n"
     ]
    },
    {
     "name": "stderr",
     "output_type": "stream",
     "text": [
      "100%|██████████| 3731/3731 [05:24<00:00, 11.48it/s, gp=0.0123, loss_dis=-1.62]     \n"
     ]
    },
    {
     "name": "stdout",
     "output_type": "stream",
     "text": [
      "Saving Checkpoint\n",
      "Saving Checkpoint\n",
      "Epoch [10/30]\n"
     ]
    },
    {
     "name": "stderr",
     "output_type": "stream",
     "text": [
      "100%|██████████| 3731/3731 [05:24<00:00, 11.49it/s, gp=0.0106, loss_dis=-1.71]    \n"
     ]
    },
    {
     "name": "stdout",
     "output_type": "stream",
     "text": [
      "Saving Checkpoint\n",
      "Saving Checkpoint\n",
      "Epoch [11/30]\n"
     ]
    },
    {
     "name": "stderr",
     "output_type": "stream",
     "text": [
      "100%|██████████| 3731/3731 [05:30<00:00, 11.28it/s, gp=0.000973, loss_dis=-2.07]  \n"
     ]
    },
    {
     "name": "stdout",
     "output_type": "stream",
     "text": [
      "Saving Checkpoint\n",
      "Saving Checkpoint\n",
      "Epoch [12/30]\n"
     ]
    },
    {
     "name": "stderr",
     "output_type": "stream",
     "text": [
      "100%|██████████| 3731/3731 [05:46<00:00, 10.78it/s, gp=0.0225, loss_dis=1.86]      \n"
     ]
    },
    {
     "name": "stdout",
     "output_type": "stream",
     "text": [
      "Saving Checkpoint\n",
      "Saving Checkpoint\n",
      "Epoch [13/30]\n"
     ]
    },
    {
     "name": "stderr",
     "output_type": "stream",
     "text": [
      "100%|██████████| 3731/3731 [05:41<00:00, 10.91it/s, gp=0.00799, loss_dis=-1.85]   \n"
     ]
    },
    {
     "name": "stdout",
     "output_type": "stream",
     "text": [
      "Saving Checkpoint\n",
      "Saving Checkpoint\n",
      "Epoch [14/30]\n"
     ]
    },
    {
     "name": "stderr",
     "output_type": "stream",
     "text": [
      "100%|██████████| 3731/3731 [05:40<00:00, 10.97it/s, gp=0.00531, loss_dis=-0.995]   \n"
     ]
    },
    {
     "name": "stdout",
     "output_type": "stream",
     "text": [
      "Saving Checkpoint\n",
      "Saving Checkpoint\n",
      "Epoch [15/30]\n"
     ]
    },
    {
     "name": "stderr",
     "output_type": "stream",
     "text": [
      "100%|██████████| 3731/3731 [05:44<00:00, 10.82it/s, gp=0.00947, loss_dis=0.15]    \n"
     ]
    },
    {
     "name": "stdout",
     "output_type": "stream",
     "text": [
      "Saving Checkpoint\n",
      "Saving Checkpoint\n",
      "Epoch [16/30]\n"
     ]
    },
    {
     "name": "stderr",
     "output_type": "stream",
     "text": [
      "100%|██████████| 3731/3731 [05:50<00:00, 10.64it/s, gp=0.011, loss_dis=0.477]     \n"
     ]
    },
    {
     "name": "stdout",
     "output_type": "stream",
     "text": [
      "Saving Checkpoint\n",
      "Saving Checkpoint\n",
      "Epoch [17/30]\n"
     ]
    },
    {
     "name": "stderr",
     "output_type": "stream",
     "text": [
      "100%|██████████| 3731/3731 [05:44<00:00, 10.83it/s, gp=0.00671, loss_dis=-0.976]  \n"
     ]
    },
    {
     "name": "stdout",
     "output_type": "stream",
     "text": [
      "Saving Checkpoint\n",
      "Saving Checkpoint\n",
      "Epoch [18/30]\n"
     ]
    },
    {
     "name": "stderr",
     "output_type": "stream",
     "text": [
      "100%|██████████| 3731/3731 [05:38<00:00, 11.03it/s, gp=0.00423, loss_dis=-1.09]   \n"
     ]
    },
    {
     "name": "stdout",
     "output_type": "stream",
     "text": [
      "Saving Checkpoint\n",
      "Saving Checkpoint\n",
      "Epoch [19/30]\n"
     ]
    },
    {
     "name": "stderr",
     "output_type": "stream",
     "text": [
      "100%|██████████| 3731/3731 [05:27<00:00, 11.40it/s, gp=0.0229, loss_dis=0.631]    \n"
     ]
    },
    {
     "name": "stdout",
     "output_type": "stream",
     "text": [
      "Saving Checkpoint\n",
      "Saving Checkpoint\n",
      "Epoch [20/30]\n"
     ]
    },
    {
     "name": "stderr",
     "output_type": "stream",
     "text": [
      "100%|██████████| 3731/3731 [05:29<00:00, 11.32it/s, gp=0.0199, loss_dis=0.963]     \n"
     ]
    },
    {
     "name": "stdout",
     "output_type": "stream",
     "text": [
      "Saving Checkpoint\n",
      "Saving Checkpoint\n",
      "Epoch [21/30]\n"
     ]
    },
    {
     "name": "stderr",
     "output_type": "stream",
     "text": [
      "100%|██████████| 3731/3731 [05:45<00:00, 10.79it/s, gp=0.022, loss_dis=1.13]       \n"
     ]
    },
    {
     "name": "stdout",
     "output_type": "stream",
     "text": [
      "Saving Checkpoint\n",
      "Saving Checkpoint\n",
      "Epoch [22/30]\n"
     ]
    },
    {
     "name": "stderr",
     "output_type": "stream",
     "text": [
      "100%|██████████| 3731/3731 [06:00<00:00, 10.34it/s, gp=0.00371, loss_dis=-0.182]  \n"
     ]
    },
    {
     "name": "stdout",
     "output_type": "stream",
     "text": [
      "Saving Checkpoint\n",
      "Saving Checkpoint\n",
      "Epoch [23/30]\n"
     ]
    },
    {
     "name": "stderr",
     "output_type": "stream",
     "text": [
      "100%|██████████| 3731/3731 [06:02<00:00, 10.29it/s, gp=0.0225, loss_dis=0.361]    \n"
     ]
    },
    {
     "name": "stdout",
     "output_type": "stream",
     "text": [
      "Saving Checkpoint\n",
      "Saving Checkpoint\n",
      "Epoch [24/30]\n"
     ]
    },
    {
     "name": "stderr",
     "output_type": "stream",
     "text": [
      "  9%|▉         | 332/3731 [00:32<05:45,  9.85it/s, gp=0.00921, loss_dis=-1.15]   "
     ]
    }
   ],
   "source": [
    "# models\n",
    "gen = Generator(noise_dim, img_size, channels).to(device)\n",
    "dis = Discriminator(img_size, channels).to(device)\n",
    "\n",
    "# optimizers\n",
    "opt_gen = optim.Adam(gen.parameters(), lr=lr, betas=(0.0, 0.99))\n",
    "opt_dis = optim.Adam(dis.parameters(), lr=lr, betas=(0.0, 0.99))\n",
    "\n",
    "scaler_dis = torch.amp.GradScaler(\"cuda\")\n",
    "scaler_gen = torch.amp.GradScaler(\"cuda\")\n",
    "\n",
    "# load model if retraining\n",
    "if(load_model):\n",
    "    load_checkpoint(gen_save_path, gen, opt_gen, lr)\n",
    "    load_checkpoint(dis_save_path, dis, opt_dis, lr)\n",
    "\n",
    "\n",
    "if(load_model == False):\n",
    "    gen.train()\n",
    "    dis.train()\n",
    "\n",
    "    step = int(log2(starting_img_size/4))\n",
    "\n",
    "    for num_epochs in layer_epochs[step:]:\n",
    "        alpha = 1e-5\n",
    "        loader, dataset = get_loader(4*2**step)\n",
    "        print(f\"Image Size: {4*2**step}\")\n",
    "\n",
    "        for epoch in range(num_epochs):\n",
    "            print(f\"Epoch [{epoch+1}/{num_epochs}]\")\n",
    "            alpha = train_loop(dis, gen, loader, dataset, step, alpha, opt_dis, opt_gen, scaler_gen, scaler_dis)\n",
    "\n",
    "            if(save_model==True):\n",
    "                save_checkpoint(gen, opt_gen, filename=gen_save_path)\n",
    "                save_checkpoint(dis, opt_dis, filename=dis_save_path)\n",
    "                generate_examples(gen, step, 20)\n",
    "            \n",
    "\n",
    "        step += 1 # next step"
   ]
  },
  {
   "cell_type": "code",
   "execution_count": 112,
   "metadata": {},
   "outputs": [],
   "source": [
    "# Display for presentation purposes\n",
    "def display(\n",
    "    images, n=10, size=(20, 3), cmap=\"gray_r\", as_type=\"float32\", save_to=None\n",
    "):\n",
    "    \"\"\"\n",
    "    Displays n random images from each one of the supplied arrays.\n",
    "    \"\"\"\n",
    "\n",
    "    plt.figure(figsize=size)\n",
    "    for i in range(n):\n",
    "        _ = plt.subplot(1, n, i + 1)\n",
    "        plt.imshow((images[i].astype(as_type) + 1) / 2, cmap=cmap)\n",
    "        plt.axis(\"off\")\n",
    "\n",
    "    if save_to:\n",
    "        plt.savefig(save_to)\n",
    "        print(f\"\\nSaved to {save_to}\")\n",
    "\n",
    "    plt.show()\n",
    "\n",
    "\n",
    "def preprocess(img):\n",
    "    img = (img.astype(np.float32) - 127.5)/ 127.5\n",
    "    return img"
   ]
  },
  {
   "cell_type": "code",
   "execution_count": 113,
   "metadata": {},
   "outputs": [
    {
     "data": {
      "image/png": "[encoded data removed]",
      "text/plain": [
       "<Figure size 2000x300 with 10 Axes>"
      ]
     },
     "metadata": {},
     "output_type": "display_data"
    }
   ],
   "source": [
    "if(load_model):\n",
    "    # Evaluate\n",
    "    generate_examples(gen, 0, 2)\n",
    "    generate_examples(gen, 1, 2)\n",
    "    generate_examples(gen, 2, 2)\n",
    "    generate_examples(gen, 3, 2)\n",
    "    generate_examples(gen, 4, 2)\n",
    "\n",
    "    # get directory\n",
    "    cwd = os.getcwd()\n",
    "    path = cwd + \"/progan_examples\"\n",
    "    images = []\n",
    "\n",
    "    # get all images\n",
    "    for image in sorted(os.listdir(path)):\n",
    "        image_path = os.path.join(path, image)\n",
    "        img = cv2.imread(image_path)\n",
    "        if(image is not None):\n",
    "            images.append(img)\n",
    "    \n",
    "    train = list(map(preprocess, images))\n",
    "\n",
    "    display(train[:10])"
   ]
  },
  {
   "cell_type": "code",
   "execution_count": 117,
   "metadata": {},
   "outputs": [
    {
     "data": {
      "image/png": "[encoded data removed]",
      "text/plain": [
       "<Figure size 2000x300 with 10 Axes>"
      ]
     },
     "metadata": {},
     "output_type": "display_data"
    }
   ],
   "source": [
    "if(load_model):\n",
    "    # get directory\n",
    "    cwd = os.getcwd()\n",
    "    path = cwd + \"/progan_examples\"\n",
    "    images = []\n",
    "\n",
    "    # remove all images\n",
    "    for image in sorted(os.listdir(path)):\n",
    "        image_path = os.path.join(path, image)\n",
    "        os.remove(image_path)\n",
    "\n",
    "    # Evaluate\n",
    "    generate_examples(gen, 4, 10)\n",
    "\n",
    "    # get all images\n",
    "    for image in sorted(os.listdir(path)):\n",
    "        image_path = os.path.join(path, image)\n",
    "        img = cv2.imread(image_path)\n",
    "        if(image is not None):\n",
    "            images.append(img)\n",
    "    \n",
    "    train = list(map(preprocess, images))\n",
    "\n",
    "    display(train[:10])"
   ]
  }
 ],
 "metadata": {
  "kernelspec": {
   "display_name": ".venv",
   "language": "python",
   "name": "python3"
  },
  "language_info": {
   "codemirror_mode": {
    "name": "ipython",
    "version": 3
   },
   "file_extension": ".py",
   "mimetype": "text/x-python",
   "name": "python",
   "nbconvert_exporter": "python",
   "pygments_lexer": "ipython3",
   "version": "3.10.12"
  }
 },
 "nbformat": 4,
 "nbformat_minor": 2
}
