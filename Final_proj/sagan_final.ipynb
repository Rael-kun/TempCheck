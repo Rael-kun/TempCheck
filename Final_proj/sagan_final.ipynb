{
 "cells": [
  {
   "cell_type": "code",
   "execution_count": 95,
   "metadata": {},
   "outputs": [
    {
     "name": "stdout",
     "output_type": "stream",
     "text": [
      "Looking in indexes: https://download.pytorch.org/whl/cu118\n",
      "Requirement already satisfied: torch in /home/dsu/Desktop/Projects/.venv/lib/python3.10/site-packages (2.5.1+cu118)\n",
      "Requirement already satisfied: torchvision in /home/dsu/Desktop/Projects/.venv/lib/python3.10/site-packages (0.20.1+cu118)\n",
      "Requirement already satisfied: torchaudio in /home/dsu/Desktop/Projects/.venv/lib/python3.10/site-packages (2.5.1+cu118)\n",
      "Requirement already satisfied: filelock in /home/dsu/Desktop/Projects/.venv/lib/python3.10/site-packages (from torch) (3.13.1)\n",
      "Requirement already satisfied: typing-extensions>=4.8.0 in /home/dsu/Desktop/Projects/.venv/lib/python3.10/site-packages (from torch) (4.12.2)\n",
      "Requirement already satisfied: networkx in /home/dsu/Desktop/Projects/.venv/lib/python3.10/site-packages (from torch) (3.4.2)\n",
      "Requirement already satisfied: jinja2 in /home/dsu/Desktop/Projects/.venv/lib/python3.10/site-packages (from torch) (3.1.4)\n",
      "Requirement already satisfied: fsspec in /home/dsu/Desktop/Projects/.venv/lib/python3.10/site-packages (from torch) (2024.2.0)\n",
      "Requirement already satisfied: nvidia-cuda-nvrtc-cu11==11.8.89 in /home/dsu/Desktop/Projects/.venv/lib/python3.10/site-packages (from torch) (11.8.89)\n",
      "Requirement already satisfied: nvidia-cuda-runtime-cu11==11.8.89 in /home/dsu/Desktop/Projects/.venv/lib/python3.10/site-packages (from torch) (11.8.89)\n",
      "Requirement already satisfied: nvidia-cuda-cupti-cu11==11.8.87 in /home/dsu/Desktop/Projects/.venv/lib/python3.10/site-packages (from torch) (11.8.87)\n",
      "Requirement already satisfied: nvidia-cudnn-cu11==9.1.0.70 in /home/dsu/Desktop/Projects/.venv/lib/python3.10/site-packages (from torch) (9.1.0.70)\n",
      "Requirement already satisfied: nvidia-cublas-cu11==11.11.3.6 in /home/dsu/Desktop/Projects/.venv/lib/python3.10/site-packages (from torch) (11.11.3.6)\n",
      "Requirement already satisfied: nvidia-cufft-cu11==10.9.0.58 in /home/dsu/Desktop/Projects/.venv/lib/python3.10/site-packages (from torch) (10.9.0.58)\n",
      "Requirement already satisfied: nvidia-curand-cu11==10.3.0.86 in /home/dsu/Desktop/Projects/.venv/lib/python3.10/site-packages (from torch) (10.3.0.86)\n",
      "Requirement already satisfied: nvidia-cusolver-cu11==11.4.1.48 in /home/dsu/Desktop/Projects/.venv/lib/python3.10/site-packages (from torch) (11.4.1.48)\n",
      "Requirement already satisfied: nvidia-cusparse-cu11==11.7.5.86 in /home/dsu/Desktop/Projects/.venv/lib/python3.10/site-packages (from torch) (11.7.5.86)\n",
      "Requirement already satisfied: nvidia-nccl-cu11==2.21.5 in /home/dsu/Desktop/Projects/.venv/lib/python3.10/site-packages (from torch) (2.21.5)\n",
      "Requirement already satisfied: nvidia-nvtx-cu11==11.8.86 in /home/dsu/Desktop/Projects/.venv/lib/python3.10/site-packages (from torch) (11.8.86)\n",
      "Requirement already satisfied: triton==3.1.0 in /home/dsu/Desktop/Projects/.venv/lib/python3.10/site-packages (from torch) (3.1.0)\n",
      "Requirement already satisfied: sympy==1.13.1 in /home/dsu/Desktop/Projects/.venv/lib/python3.10/site-packages (from torch) (1.13.1)\n",
      "Requirement already satisfied: mpmath<1.4,>=1.1.0 in /home/dsu/Desktop/Projects/.venv/lib/python3.10/site-packages (from sympy==1.13.1->torch) (1.3.0)\n",
      "Requirement already satisfied: numpy in /home/dsu/Desktop/Projects/.venv/lib/python3.10/site-packages (from torchvision) (1.26.4)\n",
      "Requirement already satisfied: pillow!=8.3.*,>=5.3.0 in /home/dsu/Desktop/Projects/.venv/lib/python3.10/site-packages (from torchvision) (11.0.0)\n",
      "Requirement already satisfied: MarkupSafe>=2.0 in /home/dsu/Desktop/Projects/.venv/lib/python3.10/site-packages (from jinja2->torch) (3.0.2)\n"
     ]
    }
   ],
   "source": [
    "!pip3 install torch torchvision torchaudio --index-url https://download.pytorch.org/whl/cu118"
   ]
  },
  {
   "cell_type": "markdown",
   "metadata": {},
   "source": [
    "# Libraries"
   ]
  },
  {
   "cell_type": "code",
   "execution_count": 96,
   "metadata": {},
   "outputs": [],
   "source": [
    "# torch stuff\n",
    "import torch\n",
    "import torch.optim as optim\n",
    "import torchvision.datasets as datasets\n",
    "import torchvision.transforms as transforms\n",
    "from torch.utils.data import DataLoader\n",
    "import torch.nn as nn\n",
    "import torch.nn.functional as F\n",
    "from torch.nn.utils import spectral_norm\n",
    "\n",
    "# needed for model\n",
    "from math import log2\n",
    "from tqdm import tqdm\n",
    "import random\n",
    "import numpy as np\n",
    "import cv2\n",
    "import os\n",
    "import matplotlib.pyplot as plt\n",
    "import torchvision\n",
    "from torchvision.utils import save_image"
   ]
  },
  {
   "cell_type": "markdown",
   "metadata": {},
   "source": [
    "# SAGAN Variables"
   ]
  },
  {
   "cell_type": "code",
   "execution_count": 97,
   "metadata": {},
   "outputs": [],
   "source": [
    "datapath= \"/home/dsu/Desktop/Projects/FinalProject/cat_imgs\"\n",
    "\n",
    "gen_save_path = \"gen_sagan.pth\"\n",
    "dis_save_path = \"dis_sagan.pth\"\n",
    "\n",
    "if(torch.cuda.is_available()):\n",
    "    device = \"cuda\"\n",
    "else:\n",
    "    print(\"Warning! Using CPU!\")\n",
    "    device = \"cpu\"\n",
    "\n",
    "# If load_model is False, model will train. \n",
    "# If load_model is true, no training will happen, only display generated images\n",
    "save_model = True\n",
    "load_model = False\n",
    "\n",
    "lr = 1e-4\n",
    "batch_size = 64\n",
    "\n",
    "noise_dim = 100\n",
    "img_size = 64\n",
    "channels = 3\n",
    "\n",
    "relu_slope = 0.2\n",
    "dropout = 0.3\n",
    "momentum = 0.1 # 0.9?\n",
    "\n",
    "# hinge loss used, not wasserstein loss\n",
    "ws_loss = False\n",
    "\n",
    "total_epochs = 100"
   ]
  },
  {
   "cell_type": "markdown",
   "metadata": {},
   "source": [
    "# Self Attention"
   ]
  },
  {
   "cell_type": "code",
   "execution_count": 98,
   "metadata": {},
   "outputs": [],
   "source": [
    "class Self_Attn(nn.Module):\n",
    "    def __init__(self, in_dim):\n",
    "        super(Self_Attn, self).__init__()\n",
    "\n",
    "        # query and key // 8 to save time, value must output the same dimension\n",
    "        # for my layers to continue working\n",
    "        self.query = nn.Conv2d(in_dim, in_dim // 8, kernel_size=1)\n",
    "        self.key = nn.Conv2d(in_dim, in_dim // 8, kernel_size=1)\n",
    "        self.value = nn.Conv2d(in_dim, in_dim, kernel_size=1)\n",
    "\n",
    "        self.gamma = nn.Parameter(torch.zeros(1))\n",
    "\n",
    "    def forward(self, x):\n",
    "        bat_size, chan, width, height = x.shape\n",
    "\n",
    "        query = self.query(x).view(bat_size, -1, width * height).permute(0, 2, 1)\n",
    "        key = self.key(x).view(bat_size, -1, width * height)\n",
    "        value = self.value(x).view(bat_size, -1, width * height)\n",
    "\n",
    "        base_attn = torch.bmm(query, key)\n",
    "        attention = F.softmax(base_attn, dim=-1)\n",
    "        output = torch.bmm(value, attention.permute(0, 2, 1))\n",
    "\n",
    "        output = output.view(bat_size, chan, width, height)\n",
    "        output = self.gamma * output + x\n",
    "\n",
    "        return output"
   ]
  },
  {
   "cell_type": "markdown",
   "metadata": {},
   "source": [
    "# Generator"
   ]
  },
  {
   "cell_type": "code",
   "execution_count": 99,
   "metadata": {},
   "outputs": [],
   "source": [
    "class Generator(nn.Module):\n",
    "    def __init__(self, noise_dim, in_channels, img_channels=3):\n",
    "        super(Generator, self).__init__()\n",
    "        \n",
    "        self.conv2d_1 = spectral_norm(nn.ConvTranspose2d(noise_dim, 512, kernel_size=4, stride=1, padding=0, bias = False))\n",
    "        self.batch_norm1 = nn.BatchNorm2d(512, momentum=momentum)\n",
    "        self.relu1 = nn.LeakyReLU(relu_slope) \n",
    "\n",
    "        self.conv2d_2 = spectral_norm(nn.ConvTranspose2d(512, 256, kernel_size=4, stride=2, padding=1, bias = False))\n",
    "        self.batch_norm2 = nn.BatchNorm2d(256, momentum=momentum)\n",
    "        self.relu2 = nn.LeakyReLU(relu_slope) \n",
    "\n",
    "        # the paper reccomends self attention partway through so information has already \n",
    "        # been gathered for the attention to work on\n",
    "        self.attn = Self_Attn(256)\n",
    "\n",
    "        self.conv2d_3 = spectral_norm(nn.ConvTranspose2d(256, 128, kernel_size=4, stride=2, padding=1, bias = False))\n",
    "        self.batch_norm3 = nn.BatchNorm2d(128, momentum=momentum)\n",
    "        self.relu3 = nn.LeakyReLU(relu_slope) \n",
    "\n",
    "        self.attn2 = Self_Attn(128)\n",
    "\n",
    "        self.conv2d_4 = spectral_norm(nn.ConvTranspose2d(128, 64, kernel_size=4, stride=2, padding=1, bias = False))\n",
    "        self.batch_norm4 = nn.BatchNorm2d(64, momentum=momentum)\n",
    "        self.relu4 = nn.LeakyReLU(relu_slope) \n",
    "\n",
    "        # 5th block? (if so, use 1024 to start)\n",
    "        #self.conv2d_5 = nn.ConvTranspose2d(128, 64, kernel_size=4, stride=2, padding=1, bias = False)\n",
    "        #self.batch_norm5 = nn.BatchNorm2d(64, momentum=momentum)\n",
    "        #self.relu5 = nn.LeakyReLU(relu_slope) \n",
    "\n",
    "        self.conv2d_final = spectral_norm(nn.ConvTranspose2d(64, img_channels, kernel_size=4, stride=2, padding=1, bias=False))\n",
    "        self.tanh = nn.Tanh()\n",
    "        # tanh?        \n",
    "\n",
    "\n",
    "\n",
    "\n",
    "    def forward(self, x):\n",
    "        x = self.conv2d_1(x)\n",
    "        x = self.batch_norm1(x)\n",
    "        x = self.relu1(x)\n",
    "\n",
    "        x = self.conv2d_2(x)\n",
    "        x = self.batch_norm2(x)\n",
    "        x = self.relu2(x)\n",
    "\n",
    "        x = self.attn(x)\n",
    "\n",
    "        x = self.conv2d_3(x)\n",
    "        x = self.batch_norm3(x)\n",
    "        x = self.relu3(x)\n",
    "\n",
    "        x = self.attn2(x)\n",
    "\n",
    "        x = self.conv2d_4(x)\n",
    "        x = self.batch_norm4(x)\n",
    "        x = self.relu4(x)\n",
    "\n",
    "        #x = self.conv2d_5(x)\n",
    "        #x = self.batch_norm5(x)\n",
    "        #x = self.relu5(x)\n",
    "\n",
    "        x = self.conv2d_final(x)\n",
    "        x = self.tanh(x)\n",
    "\n",
    "        return x"
   ]
  },
  {
   "cell_type": "markdown",
   "metadata": {},
   "source": [
    "# Discriminator"
   ]
  },
  {
   "cell_type": "code",
   "execution_count": 100,
   "metadata": {},
   "outputs": [],
   "source": [
    "class Discriminator(nn.Module):\n",
    "    def __init__(self, in_channels, img_channels=3):\n",
    "        super(Discriminator, self).__init__()\n",
    "\n",
    "\n",
    "        self.conv2d_1 = spectral_norm(nn.Conv2d(img_channels, 64, kernel_size=4, stride=2, padding=1, bias=False))\n",
    "        # no batch norm because first layer\n",
    "        self.relu1 = nn.LeakyReLU(relu_slope)\n",
    "        self.dropout1 = nn.Dropout(dropout)\n",
    "\n",
    "        self.conv2d_2 = spectral_norm(nn.Conv2d(64, 128, kernel_size=4, stride=2, padding=1, bias=False))\n",
    "        self.batch_norm2 = nn.BatchNorm2d(128, momentum=momentum)\n",
    "        self.relu2 = nn.LeakyReLU(relu_slope) \n",
    "        self.dropout2 = nn.Dropout(dropout)\n",
    "\n",
    "        self.attn = Self_Attn(128)\n",
    "\n",
    "        self.conv2d_3 = spectral_norm(nn.Conv2d(128, 256, kernel_size=4, stride=2, padding=1, bias=False))\n",
    "        self.batch_norm3 = nn.BatchNorm2d(256, momentum=momentum)\n",
    "        self.relu3 = nn.LeakyReLU(relu_slope) \n",
    "        self.dropout3 = nn.Dropout(dropout)\n",
    "\n",
    "        self.attn2 = Self_Attn(256)\n",
    "\n",
    "        self.conv2d_4 = spectral_norm(nn.Conv2d(256, 512, kernel_size=4, stride=2, padding=1, bias=False))\n",
    "        self.batch_norm4 = nn.BatchNorm2d(512, momentum=momentum)     \n",
    "        self.relu4 = nn.LeakyReLU(relu_slope) \n",
    "        self.dropout4 = nn.Dropout(dropout)\n",
    "\n",
    "        # 5th block?\n",
    "        #self.conv2d_5 = nn.Conv2D(512, 1024, kernel_size=4, stride=2, padding=1, bias=False)\n",
    "        #self.batch_norm5 = nn.BatchNorm2d(1024, momentum=momentum)      \n",
    "        #self.relu5 = nn.LeakyReLU(relu_slope) \n",
    "        #self.dropout5 = nn.Dropout(dropout)\n",
    "\n",
    "        self.conv2d_final = spectral_norm(nn.Conv2d(512, 1, kernel_size=1, stride=1, padding=0, bias = False))\n",
    "        # activation sigmoid\n",
    "        #self.flatten = layers.Flatten()\n",
    "\n",
    "\n",
    "    def forward(self, x):\n",
    "        x = self.conv2d_1(x)\n",
    "        x = self.relu1(x)\n",
    "        x = self.dropout1(x)\n",
    "\n",
    "        x = self.conv2d_2(x)\n",
    "        x = self.batch_norm2(x)\n",
    "        x = self.relu2(x)\n",
    "        x = self.dropout2(x)\n",
    "\n",
    "        x = self.attn(x)\n",
    "\n",
    "        x = self.conv2d_3(x)\n",
    "        x = self.batch_norm3(x)\n",
    "        x = self.relu3(x)\n",
    "        x = self.dropout3(x)\n",
    "\n",
    "        x = self.attn2(x)\n",
    "\n",
    "        x = self.conv2d_4(x)\n",
    "        x = self.batch_norm4(x)\n",
    "        x = self.relu4(x)\n",
    "        x = self.dropout4(x)\n",
    "\n",
    "        #x = self.conv2d_5(x)\n",
    "        #x = self.batch_norm5(x)\n",
    "        #x = self.relu5(x)\n",
    "        #x = self.dropout5(x)\n",
    "        \n",
    "        return self.conv2d_final(x).view(x.shape[0], -1)"
   ]
  },
  {
   "cell_type": "markdown",
   "metadata": {},
   "source": [
    "# Utility Functions"
   ]
  },
  {
   "cell_type": "code",
   "execution_count": 101,
   "metadata": {},
   "outputs": [],
   "source": [
    "# Gradient penalty is used so that the discriminator loss won't deviate that much.\n",
    "# This enforces consistent training, so that the discriminator won't learn to much or\n",
    "# too little.\n",
    "\n",
    "def gradient_penalty(discriminator, real, fake, device=\"cpu\"):\n",
    "    cur_batch_size, chan, height, width = real.shape\n",
    "    beta = torch.rand((cur_batch_size, 1, 1, 1)).repeat(1, chan, height, width).to(device)\n",
    "    \n",
    "    # missized tensors\n",
    "    if(cur_batch_size != batch_size):\n",
    "        fake = fake[:cur_batch_size]\n",
    "\n",
    "    interpolated_images = real * beta + fake.detach() * (1 - beta)\n",
    "    interpolated_images.requires_grad_(True)\n",
    "\n",
    "    # Calculate discriminator scores\n",
    "    mixed_scores = discriminator(interpolated_images)\n",
    "\n",
    "    # Get gradient for the scores (graph needed here because of gradient penalty)\n",
    "    gradient = torch.autograd.grad(\n",
    "        inputs=interpolated_images,\n",
    "        outputs=mixed_scores,\n",
    "        grad_outputs=torch.ones_like(mixed_scores),\n",
    "        create_graph=True,\n",
    "        retain_graph=True,\n",
    "    )[0]\n",
    "    gradient = gradient.view(gradient.shape[0], -1)\n",
    "    gradient_norm = gradient.norm(2, dim=1)\n",
    "    gradient_penalty = torch.mean((gradient_norm - 1) ** 2)\n",
    "    return gradient_penalty\n",
    "\n",
    "\n",
    "def save_checkpoint(model, optimizer, filename=\"checkpoint.pth.tar\"):\n",
    "    print(\"Saving Checkpoint\")\n",
    "    checkpoint = {\n",
    "        \"state_dict\": model.state_dict(),\n",
    "        \"optimizer\": optimizer.state_dict()\n",
    "    }\n",
    "    torch.save(checkpoint, filename)\n",
    "\n",
    "def load_checkpoint(checkpoint_file, model, optimizer, lr):\n",
    "    print(\"Loading Checkpoint\")\n",
    "    checkpoint = torch.load(checkpoint_file, map_location=\"cuda\")\n",
    "    model.load_state_dict(checkpoint[\"state_dict\"])\n",
    "    optimizer.load_state_dict(checkpoint[\"optimizer\"])\n",
    "\n",
    "    # learning rate saved just in case training afterwards\n",
    "    for param_group in optimizer.param_groups:\n",
    "        param_group[\"lr\"] = lr\n",
    "\n",
    "\n",
    "def generate_examples(gen, n=100):\n",
    "    gen.eval()\n",
    "    for i in range(n):\n",
    "        with torch.no_grad():\n",
    "            noise = torch.randn(1, noise_dim, 1, 1).to(device)\n",
    "            img = gen(noise)\n",
    "            save_image(img * 0.5 + 0.5, f'sagan_examples/img_{i}.png')\n",
    "\n",
    "    gen.train()\n"
   ]
  },
  {
   "cell_type": "markdown",
   "metadata": {},
   "source": [
    "# Training can happen now"
   ]
  },
  {
   "cell_type": "code",
   "execution_count": 102,
   "metadata": {},
   "outputs": [],
   "source": [
    "# Will hopefully speedup since I'm using images of the same resolution for training\n",
    "torch.backends.cudnn.benchmarks = True\n",
    "\n",
    "# Custom batch loader since I am using variable batch sizes at each step\n",
    "def get_loader(image_size):\n",
    "    # image-readable format\n",
    "    transform = transforms.Compose(\n",
    "        [\n",
    "            transforms.Resize((image_size, image_size)),\n",
    "            transforms.ToTensor(),\n",
    "            transforms.RandomHorizontalFlip(p=0.5),\n",
    "            transforms.Normalize(\n",
    "                [0.5 for _ in range(channels)],\n",
    "                [0.5 for _ in range(channels)]\n",
    "            )\n",
    "        ]\n",
    "    )\n",
    "    dataset = datasets.ImageFolder(root=datapath, transform=transform)\n",
    "    loader = DataLoader(\n",
    "        dataset,\n",
    "        batch_size=batch_size,\n",
    "        shuffle=True,\n",
    "        num_workers=4,\n",
    "        pin_memory=True\n",
    "    )\n",
    "\n",
    "    return loader, dataset\n",
    "\n",
    "\n",
    "# Training loop\n",
    "def train_loop(dis, gen, loader, dataset, opt_dis, opt_gen, scaler_gen, scaler_dis, do_ws_loss=True):\n",
    "    loop = tqdm(loader, leave=True)\n",
    "    for batch_index, (real, _) in enumerate(loop):\n",
    "        real = real.to(device)\n",
    "\n",
    "        # Train Discriminator\n",
    "        noise = torch.randn(batch_size, noise_dim, 1, 1).to(device)\n",
    "\n",
    "        with torch.amp.autocast(\"cuda\"):\n",
    "            fake = gen(noise)\n",
    "            dis_real = dis(real)\n",
    "            dis_fake = dis(fake.detach())\n",
    "            gp = gradient_penalty(dis, real, fake, device)\n",
    "            if(do_ws_loss == True):\n",
    "                # minimize mistakes, wassestein loss\n",
    "                loss_dis = (\n",
    "                    -(torch.mean(dis_real) - torch.mean(dis_fake))\n",
    "                    + 10 * gp\n",
    "                    + (0.001 * torch.mean(dis_real ** 2))\n",
    "                )\n",
    "            else:\n",
    "                # sagan hinge loss\n",
    "                real_loss = -torch.minimum(torch.zeros_like(dis_real), dis_real - 1).mean()\n",
    "                fake_loss = -torch.minimum(torch.zeros_like(dis_fake), -1 - dis_fake).mean()\n",
    "                loss_dis = real_loss + fake_loss\n",
    "\n",
    "        if(do_ws_loss):\n",
    "            opt_dis.zero_grad()\n",
    "            scaler_dis.scale(loss_dis).backward()\n",
    "            scaler_dis.step(opt_dis)\n",
    "            scaler_dis.update()\n",
    "        else:\n",
    "            opt_dis.zero_grad()\n",
    "            loss_dis.backward()\n",
    "            opt_dis.step()\n",
    "\n",
    "        # Train Generator:\n",
    "        with torch.amp.autocast(\"cuda\"):\n",
    "            gen_fake = dis(fake)\n",
    "            loss_gen = -torch.mean(gen_fake)\n",
    "\n",
    "        if(do_ws_loss):\n",
    "            opt_gen.zero_grad()\n",
    "            scaler_gen.scale(loss_gen).backward()\n",
    "            scaler_gen.step(opt_gen)\n",
    "            scaler_gen.update()\n",
    "        else:\n",
    "            opt_gen.zero_grad()\n",
    "            loss_gen.backward()\n",
    "            opt_gen.step()\n",
    "\n",
    "        # show losses in tqdm\n",
    "        if(do_ws_loss==True):\n",
    "            loop.set_postfix(\n",
    "                gp=gp.item(),\n",
    "                loss_dis=loss_dis.item()\n",
    "            )\n",
    "        else:\n",
    "            loop.set_postfix(\n",
    "                loss_dis=loss_dis.item()\n",
    "            )"
   ]
  },
  {
   "cell_type": "code",
   "execution_count": 103,
   "metadata": {},
   "outputs": [
    {
     "name": "stdout",
     "output_type": "stream",
     "text": [
      "Epoch [1/100]\n"
     ]
    },
    {
     "name": "stderr",
     "output_type": "stream",
     "text": [
      "100%|██████████| 467/467 [00:44<00:00, 10.44it/s, loss_dis=1.88]\n"
     ]
    },
    {
     "name": "stdout",
     "output_type": "stream",
     "text": [
      "Saving Checkpoint\n",
      "Saving Checkpoint\n",
      "Epoch [2/100]\n"
     ]
    },
    {
     "name": "stderr",
     "output_type": "stream",
     "text": [
      "100%|██████████| 467/467 [00:44<00:00, 10.45it/s, loss_dis=1.94]\n"
     ]
    },
    {
     "name": "stdout",
     "output_type": "stream",
     "text": [
      "Saving Checkpoint\n",
      "Saving Checkpoint\n",
      "Epoch [3/100]\n"
     ]
    },
    {
     "name": "stderr",
     "output_type": "stream",
     "text": [
      "100%|██████████| 467/467 [00:45<00:00, 10.19it/s, loss_dis=1.98]\n"
     ]
    },
    {
     "name": "stdout",
     "output_type": "stream",
     "text": [
      "Saving Checkpoint\n",
      "Saving Checkpoint\n",
      "Epoch [4/100]\n"
     ]
    },
    {
     "name": "stderr",
     "output_type": "stream",
     "text": [
      "100%|██████████| 467/467 [00:45<00:00, 10.24it/s, loss_dis=1.86]\n"
     ]
    },
    {
     "name": "stdout",
     "output_type": "stream",
     "text": [
      "Saving Checkpoint\n",
      "Saving Checkpoint\n",
      "Epoch [5/100]\n"
     ]
    },
    {
     "name": "stderr",
     "output_type": "stream",
     "text": [
      "100%|██████████| 467/467 [00:45<00:00, 10.25it/s, loss_dis=1.84]\n"
     ]
    },
    {
     "name": "stdout",
     "output_type": "stream",
     "text": [
      "Saving Checkpoint\n",
      "Saving Checkpoint\n",
      "Epoch [6/100]\n"
     ]
    },
    {
     "name": "stderr",
     "output_type": "stream",
     "text": [
      "100%|██████████| 467/467 [00:45<00:00, 10.31it/s, loss_dis=1.8] \n"
     ]
    },
    {
     "name": "stdout",
     "output_type": "stream",
     "text": [
      "Saving Checkpoint\n",
      "Saving Checkpoint\n",
      "Epoch [7/100]\n"
     ]
    },
    {
     "name": "stderr",
     "output_type": "stream",
     "text": [
      "100%|██████████| 467/467 [00:45<00:00, 10.34it/s, loss_dis=1.95]\n"
     ]
    },
    {
     "name": "stdout",
     "output_type": "stream",
     "text": [
      "Saving Checkpoint\n",
      "Saving Checkpoint\n",
      "Epoch [8/100]\n"
     ]
    },
    {
     "name": "stderr",
     "output_type": "stream",
     "text": [
      "100%|██████████| 467/467 [00:46<00:00, 10.02it/s, loss_dis=1.78]\n"
     ]
    },
    {
     "name": "stdout",
     "output_type": "stream",
     "text": [
      "Saving Checkpoint\n",
      "Saving Checkpoint\n",
      "Epoch [9/100]\n"
     ]
    },
    {
     "name": "stderr",
     "output_type": "stream",
     "text": [
      "100%|██████████| 467/467 [00:46<00:00, 10.06it/s, loss_dis=1.86]\n"
     ]
    },
    {
     "name": "stdout",
     "output_type": "stream",
     "text": [
      "Saving Checkpoint\n",
      "Saving Checkpoint\n",
      "Epoch [10/100]\n"
     ]
    },
    {
     "name": "stderr",
     "output_type": "stream",
     "text": [
      "100%|██████████| 467/467 [00:45<00:00, 10.22it/s, loss_dis=1.94]\n"
     ]
    },
    {
     "name": "stdout",
     "output_type": "stream",
     "text": [
      "Saving Checkpoint\n",
      "Saving Checkpoint\n",
      "Epoch [11/100]\n"
     ]
    },
    {
     "name": "stderr",
     "output_type": "stream",
     "text": [
      "100%|██████████| 467/467 [00:45<00:00, 10.34it/s, loss_dis=1.84]\n"
     ]
    },
    {
     "name": "stdout",
     "output_type": "stream",
     "text": [
      "Saving Checkpoint\n",
      "Saving Checkpoint\n",
      "Epoch [12/100]\n"
     ]
    },
    {
     "name": "stderr",
     "output_type": "stream",
     "text": [
      "100%|██████████| 467/467 [00:45<00:00, 10.18it/s, loss_dis=2.06]\n"
     ]
    },
    {
     "name": "stdout",
     "output_type": "stream",
     "text": [
      "Saving Checkpoint\n",
      "Saving Checkpoint\n",
      "Epoch [13/100]\n"
     ]
    },
    {
     "name": "stderr",
     "output_type": "stream",
     "text": [
      "100%|██████████| 467/467 [00:44<00:00, 10.53it/s, loss_dis=1.5]  \n"
     ]
    },
    {
     "name": "stdout",
     "output_type": "stream",
     "text": [
      "Saving Checkpoint\n",
      "Saving Checkpoint\n",
      "Epoch [14/100]\n"
     ]
    },
    {
     "name": "stderr",
     "output_type": "stream",
     "text": [
      "100%|██████████| 467/467 [00:44<00:00, 10.41it/s, loss_dis=1.46] \n"
     ]
    },
    {
     "name": "stdout",
     "output_type": "stream",
     "text": [
      "Saving Checkpoint\n",
      "Saving Checkpoint\n",
      "Epoch [15/100]\n"
     ]
    },
    {
     "name": "stderr",
     "output_type": "stream",
     "text": [
      "100%|██████████| 467/467 [00:46<00:00, 10.06it/s, loss_dis=1.16] \n"
     ]
    },
    {
     "name": "stdout",
     "output_type": "stream",
     "text": [
      "Saving Checkpoint\n",
      "Saving Checkpoint\n",
      "Epoch [16/100]\n"
     ]
    },
    {
     "name": "stderr",
     "output_type": "stream",
     "text": [
      "100%|██████████| 467/467 [00:47<00:00,  9.78it/s, loss_dis=1.26] \n"
     ]
    },
    {
     "name": "stdout",
     "output_type": "stream",
     "text": [
      "Saving Checkpoint\n",
      "Saving Checkpoint\n",
      "Epoch [17/100]\n"
     ]
    },
    {
     "name": "stderr",
     "output_type": "stream",
     "text": [
      "100%|██████████| 467/467 [00:48<00:00,  9.72it/s, loss_dis=1.89] \n"
     ]
    },
    {
     "name": "stdout",
     "output_type": "stream",
     "text": [
      "Saving Checkpoint\n",
      "Saving Checkpoint\n",
      "Epoch [18/100]\n"
     ]
    },
    {
     "name": "stderr",
     "output_type": "stream",
     "text": [
      "100%|██████████| 467/467 [00:46<00:00, 10.12it/s, loss_dis=1.31] \n"
     ]
    },
    {
     "name": "stdout",
     "output_type": "stream",
     "text": [
      "Saving Checkpoint\n",
      "Saving Checkpoint\n",
      "Epoch [19/100]\n"
     ]
    },
    {
     "name": "stderr",
     "output_type": "stream",
     "text": [
      "100%|██████████| 467/467 [00:46<00:00, 10.07it/s, loss_dis=1.63] \n"
     ]
    },
    {
     "name": "stdout",
     "output_type": "stream",
     "text": [
      "Saving Checkpoint\n",
      "Saving Checkpoint\n",
      "Epoch [20/100]\n"
     ]
    },
    {
     "name": "stderr",
     "output_type": "stream",
     "text": [
      "100%|██████████| 467/467 [00:47<00:00,  9.89it/s, loss_dis=1.18] \n"
     ]
    },
    {
     "name": "stdout",
     "output_type": "stream",
     "text": [
      "Saving Checkpoint\n",
      "Saving Checkpoint\n",
      "Epoch [21/100]\n"
     ]
    },
    {
     "name": "stderr",
     "output_type": "stream",
     "text": [
      "100%|██████████| 467/467 [00:45<00:00, 10.25it/s, loss_dis=1.44] \n"
     ]
    },
    {
     "name": "stdout",
     "output_type": "stream",
     "text": [
      "Saving Checkpoint\n",
      "Saving Checkpoint\n",
      "Epoch [22/100]\n"
     ]
    },
    {
     "name": "stderr",
     "output_type": "stream",
     "text": [
      "100%|██████████| 467/467 [00:45<00:00, 10.18it/s, loss_dis=0.711]\n"
     ]
    },
    {
     "name": "stdout",
     "output_type": "stream",
     "text": [
      "Saving Checkpoint\n",
      "Saving Checkpoint\n",
      "Epoch [23/100]\n"
     ]
    },
    {
     "name": "stderr",
     "output_type": "stream",
     "text": [
      "100%|██████████| 467/467 [00:46<00:00, 10.02it/s, loss_dis=1.56] \n"
     ]
    },
    {
     "name": "stdout",
     "output_type": "stream",
     "text": [
      "Saving Checkpoint\n",
      "Saving Checkpoint\n",
      "Epoch [24/100]\n"
     ]
    },
    {
     "name": "stderr",
     "output_type": "stream",
     "text": [
      "100%|██████████| 467/467 [00:48<00:00,  9.59it/s, loss_dis=1.68] \n"
     ]
    },
    {
     "name": "stdout",
     "output_type": "stream",
     "text": [
      "Saving Checkpoint\n",
      "Saving Checkpoint\n",
      "Epoch [25/100]\n"
     ]
    },
    {
     "name": "stderr",
     "output_type": "stream",
     "text": [
      "100%|██████████| 467/467 [00:48<00:00,  9.73it/s, loss_dis=1.17] \n"
     ]
    },
    {
     "name": "stdout",
     "output_type": "stream",
     "text": [
      "Saving Checkpoint\n",
      "Saving Checkpoint\n",
      "Epoch [26/100]\n"
     ]
    },
    {
     "name": "stderr",
     "output_type": "stream",
     "text": [
      "100%|██████████| 467/467 [00:46<00:00, 10.14it/s, loss_dis=0.884]\n"
     ]
    },
    {
     "name": "stdout",
     "output_type": "stream",
     "text": [
      "Saving Checkpoint\n",
      "Saving Checkpoint\n",
      "Epoch [27/100]\n"
     ]
    },
    {
     "name": "stderr",
     "output_type": "stream",
     "text": [
      "100%|██████████| 467/467 [00:46<00:00, 10.02it/s, loss_dis=1.34] \n"
     ]
    },
    {
     "name": "stdout",
     "output_type": "stream",
     "text": [
      "Saving Checkpoint\n",
      "Saving Checkpoint\n",
      "Epoch [28/100]\n"
     ]
    },
    {
     "name": "stderr",
     "output_type": "stream",
     "text": [
      "100%|██████████| 467/467 [00:46<00:00, 10.10it/s, loss_dis=0.852]\n"
     ]
    },
    {
     "name": "stdout",
     "output_type": "stream",
     "text": [
      "Saving Checkpoint\n",
      "Saving Checkpoint\n",
      "Epoch [29/100]\n"
     ]
    },
    {
     "name": "stderr",
     "output_type": "stream",
     "text": [
      "100%|██████████| 467/467 [00:47<00:00,  9.79it/s, loss_dis=2.02] \n"
     ]
    },
    {
     "name": "stdout",
     "output_type": "stream",
     "text": [
      "Saving Checkpoint\n",
      "Saving Checkpoint\n",
      "Epoch [30/100]\n"
     ]
    },
    {
     "name": "stderr",
     "output_type": "stream",
     "text": [
      "100%|██████████| 467/467 [00:47<00:00,  9.87it/s, loss_dis=1.04] \n"
     ]
    },
    {
     "name": "stdout",
     "output_type": "stream",
     "text": [
      "Saving Checkpoint\n",
      "Saving Checkpoint\n",
      "Epoch [31/100]\n"
     ]
    },
    {
     "name": "stderr",
     "output_type": "stream",
     "text": [
      "100%|██████████| 467/467 [00:46<00:00,  9.99it/s, loss_dis=1.72] \n"
     ]
    },
    {
     "name": "stdout",
     "output_type": "stream",
     "text": [
      "Saving Checkpoint\n",
      "Saving Checkpoint\n",
      "Epoch [32/100]\n"
     ]
    },
    {
     "name": "stderr",
     "output_type": "stream",
     "text": [
      "100%|██████████| 467/467 [00:45<00:00, 10.24it/s, loss_dis=1.02] \n"
     ]
    },
    {
     "name": "stdout",
     "output_type": "stream",
     "text": [
      "Saving Checkpoint\n",
      "Saving Checkpoint\n",
      "Epoch [33/100]\n"
     ]
    },
    {
     "name": "stderr",
     "output_type": "stream",
     "text": [
      "100%|██████████| 467/467 [00:47<00:00,  9.86it/s, loss_dis=0.782]\n"
     ]
    },
    {
     "name": "stdout",
     "output_type": "stream",
     "text": [
      "Saving Checkpoint\n",
      "Saving Checkpoint\n",
      "Epoch [34/100]\n"
     ]
    },
    {
     "name": "stderr",
     "output_type": "stream",
     "text": [
      "100%|██████████| 467/467 [00:47<00:00,  9.86it/s, loss_dis=1.6]  \n"
     ]
    },
    {
     "name": "stdout",
     "output_type": "stream",
     "text": [
      "Saving Checkpoint\n",
      "Saving Checkpoint\n",
      "Epoch [35/100]\n"
     ]
    },
    {
     "name": "stderr",
     "output_type": "stream",
     "text": [
      "100%|██████████| 467/467 [00:46<00:00, 10.15it/s, loss_dis=0.793]\n"
     ]
    },
    {
     "name": "stdout",
     "output_type": "stream",
     "text": [
      "Saving Checkpoint\n",
      "Saving Checkpoint\n",
      "Epoch [36/100]\n"
     ]
    },
    {
     "name": "stderr",
     "output_type": "stream",
     "text": [
      "100%|██████████| 467/467 [00:44<00:00, 10.42it/s, loss_dis=0.744]\n"
     ]
    },
    {
     "name": "stdout",
     "output_type": "stream",
     "text": [
      "Saving Checkpoint\n",
      "Saving Checkpoint\n",
      "Epoch [37/100]\n"
     ]
    },
    {
     "name": "stderr",
     "output_type": "stream",
     "text": [
      "100%|██████████| 467/467 [00:45<00:00, 10.36it/s, loss_dis=0.478]\n"
     ]
    },
    {
     "name": "stdout",
     "output_type": "stream",
     "text": [
      "Saving Checkpoint\n",
      "Saving Checkpoint\n",
      "Epoch [38/100]\n"
     ]
    },
    {
     "name": "stderr",
     "output_type": "stream",
     "text": [
      "100%|██████████| 467/467 [00:45<00:00, 10.36it/s, loss_dis=1.39] \n"
     ]
    },
    {
     "name": "stdout",
     "output_type": "stream",
     "text": [
      "Saving Checkpoint\n",
      "Saving Checkpoint\n",
      "Epoch [39/100]\n"
     ]
    },
    {
     "name": "stderr",
     "output_type": "stream",
     "text": [
      "100%|██████████| 467/467 [00:46<00:00, 10.13it/s, loss_dis=0.874]\n"
     ]
    },
    {
     "name": "stdout",
     "output_type": "stream",
     "text": [
      "Saving Checkpoint\n",
      "Saving Checkpoint\n",
      "Epoch [40/100]\n"
     ]
    },
    {
     "name": "stderr",
     "output_type": "stream",
     "text": [
      "100%|██████████| 467/467 [00:45<00:00, 10.34it/s, loss_dis=1.68] \n"
     ]
    },
    {
     "name": "stdout",
     "output_type": "stream",
     "text": [
      "Saving Checkpoint\n",
      "Saving Checkpoint\n",
      "Epoch [41/100]\n"
     ]
    },
    {
     "name": "stderr",
     "output_type": "stream",
     "text": [
      "100%|██████████| 467/467 [00:44<00:00, 10.50it/s, loss_dis=1.14] \n"
     ]
    },
    {
     "name": "stdout",
     "output_type": "stream",
     "text": [
      "Saving Checkpoint\n",
      "Saving Checkpoint\n",
      "Epoch [42/100]\n"
     ]
    },
    {
     "name": "stderr",
     "output_type": "stream",
     "text": [
      "100%|██████████| 467/467 [00:43<00:00, 10.73it/s, loss_dis=1.05] \n"
     ]
    },
    {
     "name": "stdout",
     "output_type": "stream",
     "text": [
      "Saving Checkpoint\n",
      "Saving Checkpoint\n",
      "Epoch [43/100]\n"
     ]
    },
    {
     "name": "stderr",
     "output_type": "stream",
     "text": [
      "100%|██████████| 467/467 [00:45<00:00, 10.33it/s, loss_dis=0.603]\n"
     ]
    },
    {
     "name": "stdout",
     "output_type": "stream",
     "text": [
      "Saving Checkpoint\n",
      "Saving Checkpoint\n",
      "Epoch [44/100]\n"
     ]
    },
    {
     "name": "stderr",
     "output_type": "stream",
     "text": [
      "100%|██████████| 467/467 [00:45<00:00, 10.23it/s, loss_dis=1.85] \n"
     ]
    },
    {
     "name": "stdout",
     "output_type": "stream",
     "text": [
      "Saving Checkpoint\n",
      "Saving Checkpoint\n",
      "Epoch [45/100]\n"
     ]
    },
    {
     "name": "stderr",
     "output_type": "stream",
     "text": [
      "100%|██████████| 467/467 [00:45<00:00, 10.36it/s, loss_dis=0.581]\n"
     ]
    },
    {
     "name": "stdout",
     "output_type": "stream",
     "text": [
      "Saving Checkpoint\n",
      "Saving Checkpoint\n",
      "Epoch [46/100]\n"
     ]
    },
    {
     "name": "stderr",
     "output_type": "stream",
     "text": [
      "100%|██████████| 467/467 [00:45<00:00, 10.32it/s, loss_dis=1.42] \n"
     ]
    },
    {
     "name": "stdout",
     "output_type": "stream",
     "text": [
      "Saving Checkpoint\n",
      "Saving Checkpoint\n",
      "Epoch [47/100]\n"
     ]
    },
    {
     "name": "stderr",
     "output_type": "stream",
     "text": [
      "100%|██████████| 467/467 [00:46<00:00,  9.95it/s, loss_dis=0.542]\n"
     ]
    },
    {
     "name": "stdout",
     "output_type": "stream",
     "text": [
      "Saving Checkpoint\n",
      "Saving Checkpoint\n",
      "Epoch [48/100]\n"
     ]
    },
    {
     "name": "stderr",
     "output_type": "stream",
     "text": [
      "100%|██████████| 467/467 [00:46<00:00,  9.95it/s, loss_dis=1.58] \n"
     ]
    },
    {
     "name": "stdout",
     "output_type": "stream",
     "text": [
      "Saving Checkpoint\n",
      "Saving Checkpoint\n",
      "Epoch [49/100]\n"
     ]
    },
    {
     "name": "stderr",
     "output_type": "stream",
     "text": [
      "100%|██████████| 467/467 [00:45<00:00, 10.16it/s, loss_dis=1.16] \n"
     ]
    },
    {
     "name": "stdout",
     "output_type": "stream",
     "text": [
      "Saving Checkpoint\n",
      "Saving Checkpoint\n",
      "Epoch [50/100]\n"
     ]
    },
    {
     "name": "stderr",
     "output_type": "stream",
     "text": [
      "100%|██████████| 467/467 [00:45<00:00, 10.20it/s, loss_dis=0.867]\n"
     ]
    },
    {
     "name": "stdout",
     "output_type": "stream",
     "text": [
      "Saving Checkpoint\n",
      "Saving Checkpoint\n",
      "Epoch [51/100]\n"
     ]
    },
    {
     "name": "stderr",
     "output_type": "stream",
     "text": [
      "100%|██████████| 467/467 [00:45<00:00, 10.35it/s, loss_dis=0.706]\n"
     ]
    },
    {
     "name": "stdout",
     "output_type": "stream",
     "text": [
      "Saving Checkpoint\n",
      "Saving Checkpoint\n",
      "Epoch [52/100]\n"
     ]
    },
    {
     "name": "stderr",
     "output_type": "stream",
     "text": [
      "100%|██████████| 467/467 [00:45<00:00, 10.35it/s, loss_dis=1.08] \n"
     ]
    },
    {
     "name": "stdout",
     "output_type": "stream",
     "text": [
      "Saving Checkpoint\n",
      "Saving Checkpoint\n",
      "Epoch [53/100]\n"
     ]
    },
    {
     "name": "stderr",
     "output_type": "stream",
     "text": [
      "100%|██████████| 467/467 [00:46<00:00, 10.09it/s, loss_dis=1.39] \n"
     ]
    },
    {
     "name": "stdout",
     "output_type": "stream",
     "text": [
      "Saving Checkpoint\n",
      "Saving Checkpoint\n",
      "Epoch [54/100]\n"
     ]
    },
    {
     "name": "stderr",
     "output_type": "stream",
     "text": [
      "100%|██████████| 467/467 [00:46<00:00,  9.96it/s, loss_dis=0.782]\n"
     ]
    },
    {
     "name": "stdout",
     "output_type": "stream",
     "text": [
      "Saving Checkpoint\n",
      "Saving Checkpoint\n",
      "Epoch [55/100]\n"
     ]
    },
    {
     "name": "stderr",
     "output_type": "stream",
     "text": [
      "100%|██████████| 467/467 [00:46<00:00, 10.01it/s, loss_dis=1.28] \n"
     ]
    },
    {
     "name": "stdout",
     "output_type": "stream",
     "text": [
      "Saving Checkpoint\n",
      "Saving Checkpoint\n",
      "Epoch [56/100]\n"
     ]
    },
    {
     "name": "stderr",
     "output_type": "stream",
     "text": [
      "100%|██████████| 467/467 [00:45<00:00, 10.30it/s, loss_dis=1.75] \n"
     ]
    },
    {
     "name": "stdout",
     "output_type": "stream",
     "text": [
      "Saving Checkpoint\n",
      "Saving Checkpoint\n",
      "Epoch [57/100]\n"
     ]
    },
    {
     "name": "stderr",
     "output_type": "stream",
     "text": [
      "100%|██████████| 467/467 [00:45<00:00, 10.18it/s, loss_dis=0.746]\n"
     ]
    },
    {
     "name": "stdout",
     "output_type": "stream",
     "text": [
      "Saving Checkpoint\n",
      "Saving Checkpoint\n",
      "Epoch [58/100]\n"
     ]
    },
    {
     "name": "stderr",
     "output_type": "stream",
     "text": [
      "100%|██████████| 467/467 [00:47<00:00,  9.85it/s, loss_dis=0.835]\n"
     ]
    },
    {
     "name": "stdout",
     "output_type": "stream",
     "text": [
      "Saving Checkpoint\n",
      "Saving Checkpoint\n",
      "Epoch [59/100]\n"
     ]
    },
    {
     "name": "stderr",
     "output_type": "stream",
     "text": [
      "100%|██████████| 467/467 [00:48<00:00,  9.68it/s, loss_dis=2.04] \n"
     ]
    },
    {
     "name": "stdout",
     "output_type": "stream",
     "text": [
      "Saving Checkpoint\n",
      "Saving Checkpoint\n",
      "Epoch [60/100]\n"
     ]
    },
    {
     "name": "stderr",
     "output_type": "stream",
     "text": [
      "100%|██████████| 467/467 [00:45<00:00, 10.17it/s, loss_dis=1.19] \n"
     ]
    },
    {
     "name": "stdout",
     "output_type": "stream",
     "text": [
      "Saving Checkpoint\n",
      "Saving Checkpoint\n",
      "Epoch [61/100]\n"
     ]
    },
    {
     "name": "stderr",
     "output_type": "stream",
     "text": [
      "100%|██████████| 467/467 [00:46<00:00, 10.09it/s, loss_dis=1.46] \n"
     ]
    },
    {
     "name": "stdout",
     "output_type": "stream",
     "text": [
      "Saving Checkpoint\n",
      "Saving Checkpoint\n",
      "Epoch [62/100]\n"
     ]
    },
    {
     "name": "stderr",
     "output_type": "stream",
     "text": [
      "100%|██████████| 467/467 [00:48<00:00,  9.69it/s, loss_dis=0.625]\n"
     ]
    },
    {
     "name": "stdout",
     "output_type": "stream",
     "text": [
      "Saving Checkpoint\n",
      "Saving Checkpoint\n",
      "Epoch [63/100]\n"
     ]
    },
    {
     "name": "stderr",
     "output_type": "stream",
     "text": [
      "100%|██████████| 467/467 [00:48<00:00,  9.68it/s, loss_dis=0.734]\n"
     ]
    },
    {
     "name": "stdout",
     "output_type": "stream",
     "text": [
      "Saving Checkpoint\n",
      "Saving Checkpoint\n",
      "Epoch [64/100]\n"
     ]
    },
    {
     "name": "stderr",
     "output_type": "stream",
     "text": [
      "100%|██████████| 467/467 [00:45<00:00, 10.26it/s, loss_dis=1.12] \n"
     ]
    },
    {
     "name": "stdout",
     "output_type": "stream",
     "text": [
      "Saving Checkpoint\n",
      "Saving Checkpoint\n",
      "Epoch [65/100]\n"
     ]
    },
    {
     "name": "stderr",
     "output_type": "stream",
     "text": [
      "100%|██████████| 467/467 [00:45<00:00, 10.21it/s, loss_dis=1.24] \n"
     ]
    },
    {
     "name": "stdout",
     "output_type": "stream",
     "text": [
      "Saving Checkpoint\n",
      "Saving Checkpoint\n",
      "Epoch [66/100]\n"
     ]
    },
    {
     "name": "stderr",
     "output_type": "stream",
     "text": [
      "100%|██████████| 467/467 [00:45<00:00, 10.33it/s, loss_dis=1.97] \n"
     ]
    },
    {
     "name": "stdout",
     "output_type": "stream",
     "text": [
      "Saving Checkpoint\n",
      "Saving Checkpoint\n",
      "Epoch [67/100]\n"
     ]
    },
    {
     "name": "stderr",
     "output_type": "stream",
     "text": [
      "100%|██████████| 467/467 [00:45<00:00, 10.30it/s, loss_dis=1.03] \n"
     ]
    },
    {
     "name": "stdout",
     "output_type": "stream",
     "text": [
      "Saving Checkpoint\n",
      "Saving Checkpoint\n",
      "Epoch [68/100]\n"
     ]
    },
    {
     "name": "stderr",
     "output_type": "stream",
     "text": [
      "100%|██████████| 467/467 [00:45<00:00, 10.38it/s, loss_dis=0.914]\n"
     ]
    },
    {
     "name": "stdout",
     "output_type": "stream",
     "text": [
      "Saving Checkpoint\n",
      "Saving Checkpoint\n",
      "Epoch [69/100]\n"
     ]
    },
    {
     "name": "stderr",
     "output_type": "stream",
     "text": [
      "100%|██████████| 467/467 [00:47<00:00,  9.86it/s, loss_dis=1.09] \n"
     ]
    },
    {
     "name": "stdout",
     "output_type": "stream",
     "text": [
      "Saving Checkpoint\n",
      "Saving Checkpoint\n",
      "Epoch [70/100]\n"
     ]
    },
    {
     "name": "stderr",
     "output_type": "stream",
     "text": [
      "100%|██████████| 467/467 [00:49<00:00,  9.51it/s, loss_dis=0.536]\n"
     ]
    },
    {
     "name": "stdout",
     "output_type": "stream",
     "text": [
      "Saving Checkpoint\n",
      "Saving Checkpoint\n",
      "Epoch [71/100]\n"
     ]
    },
    {
     "name": "stderr",
     "output_type": "stream",
     "text": [
      "100%|██████████| 467/467 [00:47<00:00,  9.74it/s, loss_dis=0.898]\n"
     ]
    },
    {
     "name": "stdout",
     "output_type": "stream",
     "text": [
      "Saving Checkpoint\n",
      "Saving Checkpoint\n",
      "Epoch [72/100]\n"
     ]
    },
    {
     "name": "stderr",
     "output_type": "stream",
     "text": [
      "100%|██████████| 467/467 [00:49<00:00,  9.51it/s, loss_dis=0.882]\n"
     ]
    },
    {
     "name": "stdout",
     "output_type": "stream",
     "text": [
      "Saving Checkpoint\n",
      "Saving Checkpoint\n",
      "Epoch [73/100]\n"
     ]
    },
    {
     "name": "stderr",
     "output_type": "stream",
     "text": [
      "100%|██████████| 467/467 [00:48<00:00,  9.59it/s, loss_dis=1.21] \n"
     ]
    },
    {
     "name": "stdout",
     "output_type": "stream",
     "text": [
      "Saving Checkpoint\n",
      "Saving Checkpoint\n",
      "Epoch [74/100]\n"
     ]
    },
    {
     "name": "stderr",
     "output_type": "stream",
     "text": [
      "100%|██████████| 467/467 [00:47<00:00,  9.88it/s, loss_dis=1.77] \n"
     ]
    },
    {
     "name": "stdout",
     "output_type": "stream",
     "text": [
      "Saving Checkpoint\n",
      "Saving Checkpoint\n",
      "Epoch [75/100]\n"
     ]
    },
    {
     "name": "stderr",
     "output_type": "stream",
     "text": [
      "100%|██████████| 467/467 [00:46<00:00,  9.99it/s, loss_dis=0.846]\n"
     ]
    },
    {
     "name": "stdout",
     "output_type": "stream",
     "text": [
      "Saving Checkpoint\n",
      "Saving Checkpoint\n",
      "Epoch [76/100]\n"
     ]
    },
    {
     "name": "stderr",
     "output_type": "stream",
     "text": [
      "100%|██████████| 467/467 [00:47<00:00,  9.87it/s, loss_dis=1.04] \n"
     ]
    },
    {
     "name": "stdout",
     "output_type": "stream",
     "text": [
      "Saving Checkpoint\n",
      "Saving Checkpoint\n",
      "Epoch [77/100]\n"
     ]
    },
    {
     "name": "stderr",
     "output_type": "stream",
     "text": [
      "100%|██████████| 467/467 [00:48<00:00,  9.72it/s, loss_dis=1.56]  \n"
     ]
    },
    {
     "name": "stdout",
     "output_type": "stream",
     "text": [
      "Saving Checkpoint\n",
      "Saving Checkpoint\n",
      "Epoch [78/100]\n"
     ]
    },
    {
     "name": "stderr",
     "output_type": "stream",
     "text": [
      "100%|██████████| 467/467 [00:48<00:00,  9.71it/s, loss_dis=0.815]\n"
     ]
    },
    {
     "name": "stdout",
     "output_type": "stream",
     "text": [
      "Saving Checkpoint\n",
      "Saving Checkpoint\n",
      "Epoch [79/100]\n"
     ]
    },
    {
     "name": "stderr",
     "output_type": "stream",
     "text": [
      "100%|██████████| 467/467 [00:50<00:00,  9.32it/s, loss_dis=1.12] \n"
     ]
    },
    {
     "name": "stdout",
     "output_type": "stream",
     "text": [
      "Saving Checkpoint\n",
      "Saving Checkpoint\n",
      "Epoch [80/100]\n"
     ]
    },
    {
     "name": "stderr",
     "output_type": "stream",
     "text": [
      "100%|██████████| 467/467 [00:50<00:00,  9.27it/s, loss_dis=0.64] \n"
     ]
    },
    {
     "name": "stdout",
     "output_type": "stream",
     "text": [
      "Saving Checkpoint\n",
      "Saving Checkpoint\n",
      "Epoch [81/100]\n"
     ]
    },
    {
     "name": "stderr",
     "output_type": "stream",
     "text": [
      "100%|██████████| 467/467 [00:49<00:00,  9.49it/s, loss_dis=0.151]\n"
     ]
    },
    {
     "name": "stdout",
     "output_type": "stream",
     "text": [
      "Saving Checkpoint\n",
      "Saving Checkpoint\n",
      "Epoch [82/100]\n"
     ]
    },
    {
     "name": "stderr",
     "output_type": "stream",
     "text": [
      "100%|██████████| 467/467 [00:48<00:00,  9.68it/s, loss_dis=0.693]\n"
     ]
    },
    {
     "name": "stdout",
     "output_type": "stream",
     "text": [
      "Saving Checkpoint\n",
      "Saving Checkpoint\n",
      "Epoch [83/100]\n"
     ]
    },
    {
     "name": "stderr",
     "output_type": "stream",
     "text": [
      "100%|██████████| 467/467 [00:47<00:00,  9.79it/s, loss_dis=1.55] \n"
     ]
    },
    {
     "name": "stdout",
     "output_type": "stream",
     "text": [
      "Saving Checkpoint\n",
      "Saving Checkpoint\n",
      "Epoch [84/100]\n"
     ]
    },
    {
     "name": "stderr",
     "output_type": "stream",
     "text": [
      "100%|██████████| 467/467 [00:47<00:00,  9.83it/s, loss_dis=0.54] \n"
     ]
    },
    {
     "name": "stdout",
     "output_type": "stream",
     "text": [
      "Saving Checkpoint\n",
      "Saving Checkpoint\n",
      "Epoch [85/100]\n"
     ]
    },
    {
     "name": "stderr",
     "output_type": "stream",
     "text": [
      "100%|██████████| 467/467 [00:46<00:00,  9.97it/s, loss_dis=0.828]\n"
     ]
    },
    {
     "name": "stdout",
     "output_type": "stream",
     "text": [
      "Saving Checkpoint\n",
      "Saving Checkpoint\n",
      "Epoch [86/100]\n"
     ]
    },
    {
     "name": "stderr",
     "output_type": "stream",
     "text": [
      "100%|██████████| 467/467 [00:47<00:00,  9.83it/s, loss_dis=0.211] \n"
     ]
    },
    {
     "name": "stdout",
     "output_type": "stream",
     "text": [
      "Saving Checkpoint\n",
      "Saving Checkpoint\n",
      "Epoch [87/100]\n"
     ]
    },
    {
     "name": "stderr",
     "output_type": "stream",
     "text": [
      "100%|██████████| 467/467 [00:48<00:00,  9.73it/s, loss_dis=1.52] \n"
     ]
    },
    {
     "name": "stdout",
     "output_type": "stream",
     "text": [
      "Saving Checkpoint\n",
      "Saving Checkpoint\n",
      "Epoch [88/100]\n"
     ]
    },
    {
     "name": "stderr",
     "output_type": "stream",
     "text": [
      "100%|██████████| 467/467 [00:48<00:00,  9.61it/s, loss_dis=1.03] \n"
     ]
    },
    {
     "name": "stdout",
     "output_type": "stream",
     "text": [
      "Saving Checkpoint\n",
      "Saving Checkpoint\n",
      "Epoch [89/100]\n"
     ]
    },
    {
     "name": "stderr",
     "output_type": "stream",
     "text": [
      "100%|██████████| 467/467 [00:46<00:00, 10.01it/s, loss_dis=1.02] \n"
     ]
    },
    {
     "name": "stdout",
     "output_type": "stream",
     "text": [
      "Saving Checkpoint\n",
      "Saving Checkpoint\n",
      "Epoch [90/100]\n"
     ]
    },
    {
     "name": "stderr",
     "output_type": "stream",
     "text": [
      "100%|██████████| 467/467 [00:47<00:00,  9.89it/s, loss_dis=2.32]  \n"
     ]
    },
    {
     "name": "stdout",
     "output_type": "stream",
     "text": [
      "Saving Checkpoint\n",
      "Saving Checkpoint\n",
      "Epoch [91/100]\n"
     ]
    },
    {
     "name": "stderr",
     "output_type": "stream",
     "text": [
      "100%|██████████| 467/467 [00:47<00:00,  9.77it/s, loss_dis=0.834] \n"
     ]
    },
    {
     "name": "stdout",
     "output_type": "stream",
     "text": [
      "Saving Checkpoint\n",
      "Saving Checkpoint\n",
      "Epoch [92/100]\n"
     ]
    },
    {
     "name": "stderr",
     "output_type": "stream",
     "text": [
      "100%|██████████| 467/467 [00:48<00:00,  9.68it/s, loss_dis=0.885] \n"
     ]
    },
    {
     "name": "stdout",
     "output_type": "stream",
     "text": [
      "Saving Checkpoint\n",
      "Saving Checkpoint\n",
      "Epoch [93/100]\n"
     ]
    },
    {
     "name": "stderr",
     "output_type": "stream",
     "text": [
      "100%|██████████| 467/467 [00:47<00:00,  9.93it/s, loss_dis=0.651] \n"
     ]
    },
    {
     "name": "stdout",
     "output_type": "stream",
     "text": [
      "Saving Checkpoint\n",
      "Saving Checkpoint\n",
      "Epoch [94/100]\n"
     ]
    },
    {
     "name": "stderr",
     "output_type": "stream",
     "text": [
      "100%|██████████| 467/467 [00:48<00:00,  9.69it/s, loss_dis=1.64]  \n"
     ]
    },
    {
     "name": "stdout",
     "output_type": "stream",
     "text": [
      "Saving Checkpoint\n",
      "Saving Checkpoint\n",
      "Epoch [95/100]\n"
     ]
    },
    {
     "name": "stderr",
     "output_type": "stream",
     "text": [
      "100%|██████████| 467/467 [00:46<00:00, 10.10it/s, loss_dis=0.497] \n"
     ]
    },
    {
     "name": "stdout",
     "output_type": "stream",
     "text": [
      "Saving Checkpoint\n",
      "Saving Checkpoint\n",
      "Epoch [96/100]\n"
     ]
    },
    {
     "name": "stderr",
     "output_type": "stream",
     "text": [
      "100%|██████████| 467/467 [00:47<00:00,  9.79it/s, loss_dis=0.234] \n"
     ]
    },
    {
     "name": "stdout",
     "output_type": "stream",
     "text": [
      "Saving Checkpoint\n",
      "Saving Checkpoint\n",
      "Epoch [97/100]\n"
     ]
    },
    {
     "name": "stderr",
     "output_type": "stream",
     "text": [
      "100%|██████████| 467/467 [00:47<00:00,  9.88it/s, loss_dis=1.8]   \n"
     ]
    },
    {
     "name": "stdout",
     "output_type": "stream",
     "text": [
      "Saving Checkpoint\n",
      "Saving Checkpoint\n",
      "Epoch [98/100]\n"
     ]
    },
    {
     "name": "stderr",
     "output_type": "stream",
     "text": [
      "100%|██████████| 467/467 [00:47<00:00,  9.83it/s, loss_dis=0.307] \n"
     ]
    },
    {
     "name": "stdout",
     "output_type": "stream",
     "text": [
      "Saving Checkpoint\n",
      "Saving Checkpoint\n",
      "Epoch [99/100]\n"
     ]
    },
    {
     "name": "stderr",
     "output_type": "stream",
     "text": [
      "100%|██████████| 467/467 [00:46<00:00, 10.08it/s, loss_dis=0.46]  \n"
     ]
    },
    {
     "name": "stdout",
     "output_type": "stream",
     "text": [
      "Saving Checkpoint\n",
      "Saving Checkpoint\n",
      "Epoch [100/100]\n"
     ]
    },
    {
     "name": "stderr",
     "output_type": "stream",
     "text": [
      "100%|██████████| 467/467 [00:46<00:00, 10.03it/s, loss_dis=0.809] \n"
     ]
    },
    {
     "name": "stdout",
     "output_type": "stream",
     "text": [
      "Saving Checkpoint\n",
      "Saving Checkpoint\n"
     ]
    }
   ],
   "source": [
    "# Note: Use hinge loss if time allows\n",
    "\n",
    "\n",
    "# models\n",
    "gen = Generator(noise_dim, img_size, channels).to(device)\n",
    "dis = Discriminator(img_size, channels).to(device)\n",
    "\n",
    "# optimizers\n",
    "opt_gen = optim.Adam(gen.parameters(), lr=lr, betas=(0.0, 0.99))\n",
    "opt_dis = optim.Adam(dis.parameters(), lr=lr, betas=(0.0, 0.99))\n",
    "\n",
    "scaler_dis = torch.amp.GradScaler(\"cuda\")\n",
    "scaler_gen = torch.amp.GradScaler(\"cuda\")\n",
    "\n",
    "# load model if retraining\n",
    "if(load_model):\n",
    "    load_checkpoint(gen_save_path, gen, opt_gen, lr)\n",
    "    load_checkpoint(dis_save_path, dis, opt_dis, lr)\n",
    "\n",
    "if(load_model == False):\n",
    "    gen.train()\n",
    "    dis.train()\n",
    "\n",
    "    loader, dataset = get_loader(img_size)\n",
    "\n",
    "    for epoch in range(total_epochs):\n",
    "        print(f\"Epoch [{epoch+1}/{total_epochs}]\")\n",
    "        train_loop(dis, gen, loader, dataset, opt_dis, opt_gen, scaler_gen, scaler_dis, ws_loss)\n",
    "\n",
    "        if(save_model==True):\n",
    "            save_checkpoint(gen, opt_gen, filename=gen_save_path)\n",
    "            save_checkpoint(dis, opt_dis, filename=dis_save_path)\n",
    "            generate_examples(gen, 20)"
   ]
  },
  {
   "cell_type": "code",
   "execution_count": 104,
   "metadata": {},
   "outputs": [],
   "source": [
    "# Display for presentation purposes\n",
    "def display(\n",
    "    images, n=10, size=(20, 3), cmap=\"gray_r\", as_type=\"float32\", save_to=None\n",
    "):\n",
    "    \"\"\"\n",
    "    Displays n random images from each one of the supplied arrays.\n",
    "    \"\"\"\n",
    "\n",
    "    plt.figure(figsize=size)\n",
    "    for i in range(n):\n",
    "        _ = plt.subplot(1, n, i + 1)\n",
    "        plt.imshow((images[i].astype(as_type) + 1) / 2, cmap=cmap)\n",
    "        plt.axis(\"off\")\n",
    "\n",
    "    if save_to:\n",
    "        plt.savefig(save_to)\n",
    "        print(f\"\\nSaved to {save_to}\")\n",
    "\n",
    "    plt.show()\n",
    "\n",
    "\n",
    "def preprocess(img):\n",
    "    img = (img.astype(np.float32) - 127.5)/ 127.5\n",
    "    return img"
   ]
  },
  {
   "cell_type": "code",
   "execution_count": 105,
   "metadata": {},
   "outputs": [],
   "source": [
    "if(load_model):\n",
    "    # Evaluate\n",
    "    generate_examples(gen, 10)\n",
    "\n",
    "    # get directory\n",
    "    cwd = os.getcwd()\n",
    "    path = cwd + \"/sagan_examples\"\n",
    "    images = []\n",
    "\n",
    "    # get all images\n",
    "    for image in sorted(os.listdir(path)):\n",
    "        image_path = os.path.join(path, image)\n",
    "        img = cv2.imread(image_path)\n",
    "        if(image is not None):\n",
    "            images.append(img)\n",
    "    \n",
    "    train = list(map(preprocess, images))\n",
    "\n",
    "    display(train[:10])"
   ]
  }
 ],
 "metadata": {
  "kernelspec": {
   "display_name": ".venv",
   "language": "python",
   "name": "python3"
  },
  "language_info": {
   "codemirror_mode": {
    "name": "ipython",
    "version": 3
   },
   "file_extension": ".py",
   "mimetype": "text/x-python",
   "name": "python",
   "nbconvert_exporter": "python",
   "pygments_lexer": "ipython3",
   "version": "3.10.12"
  }
 },
 "nbformat": 4,
 "nbformat_minor": 2
}
